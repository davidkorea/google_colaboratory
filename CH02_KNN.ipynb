{
 "cells": [
  {
   "cell_type": "code",
   "execution_count": 1,
   "metadata": {
    "colab": {},
    "colab_type": "code",
    "id": "mB56sgqUSvs4"
   },
   "outputs": [],
   "source": [
    "import numpy as np\n",
    "import operator\n",
    "import matplotlib.pyplot as plt\n",
    "import pandas as pd"
   ]
  },
  {
   "cell_type": "markdown",
   "metadata": {
    "colab_type": "text",
    "id": "FBHYW_h9YWOE"
   },
   "source": [
    "# 1. Dating Website"
   ]
  },
  {
   "cell_type": "code",
   "execution_count": 2,
   "metadata": {
    "colab": {},
    "colab_type": "code",
    "id": "6mBYCFWiS2_c"
   },
   "outputs": [],
   "source": [
    "def createdataset():\n",
    "  group = np.array([[1, 1.1],[1,1],[0,0],[0, 1.1]])\n",
    "  labels = ['A','A','B','B']\n",
    "  return group, labels"
   ]
  },
  {
   "cell_type": "code",
   "execution_count": 3,
   "metadata": {
    "colab": {},
    "colab_type": "code",
    "id": "Wz7REXerTPeb"
   },
   "outputs": [],
   "source": [
    "group, labels = createdataset()"
   ]
  },
  {
   "cell_type": "code",
   "execution_count": 4,
   "metadata": {
    "colab": {
     "base_uri": "https://localhost:8080/",
     "height": 87
    },
    "colab_type": "code",
    "id": "Q8DFpStyTV_1",
    "outputId": "2f85a6c2-8b61-40bd-a17a-65d791a9d705"
   },
   "outputs": [
    {
     "data": {
      "text/plain": [
       "array([[1. , 1.1],\n",
       "       [1. , 1. ],\n",
       "       [0. , 0. ],\n",
       "       [0. , 1.1]])"
      ]
     },
     "execution_count": 4,
     "metadata": {},
     "output_type": "execute_result"
    }
   ],
   "source": [
    "group"
   ]
  },
  {
   "cell_type": "code",
   "execution_count": 5,
   "metadata": {
    "colab": {
     "base_uri": "https://localhost:8080/",
     "height": 34
    },
    "colab_type": "code",
    "id": "Md3Rp_7yTWxy",
    "outputId": "da0a9db8-2ff7-4f0b-bcef-400c8e88c545"
   },
   "outputs": [
    {
     "data": {
      "text/plain": [
       "['A', 'A', 'B', 'B']"
      ]
     },
     "execution_count": 5,
     "metadata": {},
     "output_type": "execute_result"
    }
   ],
   "source": [
    "labels"
   ]
  },
  {
   "cell_type": "code",
   "execution_count": 6,
   "metadata": {
    "colab": {
     "base_uri": "https://localhost:8080/",
     "height": 417
    },
    "colab_type": "code",
    "id": "v9c9m_KgTX50",
    "outputId": "a1c6543a-e1d8-4c33-dc31-03437ee49e12"
   },
   "outputs": [
    {
     "name": "stdout",
     "output_type": "stream",
     "text": [
      "0 1.0 1.1 A\n",
      "1 1.0 1.0 A\n",
      "2 0.0 0.0 B\n",
      "3 0.0 1.1 B\n"
     ]
    },
    {
     "data": {
      "image/png": "[encoded data removed]",
      "text/plain": [
       "<Figure size 432x288 with 1 Axes>"
      ]
     },
     "metadata": {},
     "output_type": "display_data"
    }
   ],
   "source": [
    "for i in range(group.shape[0]):\n",
    "  print(i, group[i][0],group[i][1],labels[i])\n",
    "  plt.scatter(group[i][0],group[i][1])\n",
    "  plt.text(group[i][0]+0.02,group[i][1]+0.02,labels[i])"
   ]
  },
  {
   "cell_type": "code",
   "execution_count": 7,
   "metadata": {
    "colab": {
     "base_uri": "https://localhost:8080/",
     "height": 167
    },
    "colab_type": "code",
    "id": "pTn9v6w-Tj4L",
    "outputId": "944e2a7f-7c46-4e95-aa58-85a78825803b"
   },
   "outputs": [
    {
     "data": {
      "text/html": [
       "<div>\n",
       "<style scoped>\n",
       "    .dataframe tbody tr th:only-of-type {\n",
       "        vertical-align: middle;\n",
       "    }\n",
       "\n",
       "    .dataframe tbody tr th {\n",
       "        vertical-align: top;\n",
       "    }\n",
       "\n",
       "    .dataframe thead th {\n",
       "        text-align: right;\n",
       "    }\n",
       "</style>\n",
       "<table border=\"1\" class=\"dataframe\">\n",
       "  <thead>\n",
       "    <tr style=\"text-align: right;\">\n",
       "      <th></th>\n",
       "      <th>x</th>\n",
       "      <th>y</th>\n",
       "    </tr>\n",
       "  </thead>\n",
       "  <tbody>\n",
       "    <tr>\n",
       "      <th>0</th>\n",
       "      <td>1.0</td>\n",
       "      <td>1.1</td>\n",
       "    </tr>\n",
       "    <tr>\n",
       "      <th>1</th>\n",
       "      <td>1.0</td>\n",
       "      <td>1.0</td>\n",
       "    </tr>\n",
       "    <tr>\n",
       "      <th>2</th>\n",
       "      <td>0.0</td>\n",
       "      <td>0.0</td>\n",
       "    </tr>\n",
       "    <tr>\n",
       "      <th>3</th>\n",
       "      <td>0.0</td>\n",
       "      <td>1.1</td>\n",
       "    </tr>\n",
       "  </tbody>\n",
       "</table>\n",
       "</div>"
      ],
      "text/plain": [
       "     x    y\n",
       "0  1.0  1.1\n",
       "1  1.0  1.0\n",
       "2  0.0  0.0\n",
       "3  0.0  1.1"
      ]
     },
     "execution_count": 7,
     "metadata": {},
     "output_type": "execute_result"
    }
   ],
   "source": [
    "df = pd.DataFrame(group, columns=['x','y'])\n",
    "df"
   ]
  },
  {
   "cell_type": "code",
   "execution_count": 8,
   "metadata": {
    "colab": {},
    "colab_type": "code",
    "id": "dphBJjyIUiQk"
   },
   "outputs": [],
   "source": [
    "# df = pd.concat((df,pd.Series(labels)),axis=1)"
   ]
  },
  {
   "cell_type": "code",
   "execution_count": 9,
   "metadata": {
    "colab": {
     "base_uri": "https://localhost:8080/",
     "height": 167
    },
    "colab_type": "code",
    "id": "HKQ-FnZhW83j",
    "outputId": "3ece4e29-c192-4e09-e9c7-f1269027ad8a"
   },
   "outputs": [
    {
     "data": {
      "text/html": [
       "<div>\n",
       "<style scoped>\n",
       "    .dataframe tbody tr th:only-of-type {\n",
       "        vertical-align: middle;\n",
       "    }\n",
       "\n",
       "    .dataframe tbody tr th {\n",
       "        vertical-align: top;\n",
       "    }\n",
       "\n",
       "    .dataframe thead th {\n",
       "        text-align: right;\n",
       "    }\n",
       "</style>\n",
       "<table border=\"1\" class=\"dataframe\">\n",
       "  <thead>\n",
       "    <tr style=\"text-align: right;\">\n",
       "      <th></th>\n",
       "      <th>x</th>\n",
       "      <th>y</th>\n",
       "      <th>label</th>\n",
       "    </tr>\n",
       "  </thead>\n",
       "  <tbody>\n",
       "    <tr>\n",
       "      <th>0</th>\n",
       "      <td>1.0</td>\n",
       "      <td>1.1</td>\n",
       "      <td>A</td>\n",
       "    </tr>\n",
       "    <tr>\n",
       "      <th>1</th>\n",
       "      <td>1.0</td>\n",
       "      <td>1.0</td>\n",
       "      <td>A</td>\n",
       "    </tr>\n",
       "    <tr>\n",
       "      <th>2</th>\n",
       "      <td>0.0</td>\n",
       "      <td>0.0</td>\n",
       "      <td>B</td>\n",
       "    </tr>\n",
       "    <tr>\n",
       "      <th>3</th>\n",
       "      <td>0.0</td>\n",
       "      <td>1.1</td>\n",
       "      <td>B</td>\n",
       "    </tr>\n",
       "  </tbody>\n",
       "</table>\n",
       "</div>"
      ],
      "text/plain": [
       "     x    y label\n",
       "0  1.0  1.1     A\n",
       "1  1.0  1.0     A\n",
       "2  0.0  0.0     B\n",
       "3  0.0  1.1     B"
      ]
     },
     "execution_count": 9,
     "metadata": {},
     "output_type": "execute_result"
    }
   ],
   "source": [
    "df['label'] = pd.Series(labels)\n",
    "df"
   ]
  },
  {
   "cell_type": "code",
   "execution_count": 10,
   "metadata": {
    "colab": {
     "base_uri": "https://localhost:8080/",
     "height": 167
    },
    "colab_type": "code",
    "id": "vm1pgjyvYt08",
    "outputId": "b450991d-a9ca-4c13-b9e8-bc6a37717739"
   },
   "outputs": [
    {
     "data": {
      "text/html": [
       "<div>\n",
       "<style scoped>\n",
       "    .dataframe tbody tr th:only-of-type {\n",
       "        vertical-align: middle;\n",
       "    }\n",
       "\n",
       "    .dataframe tbody tr th {\n",
       "        vertical-align: top;\n",
       "    }\n",
       "\n",
       "    .dataframe thead th {\n",
       "        text-align: right;\n",
       "    }\n",
       "</style>\n",
       "<table border=\"1\" class=\"dataframe\">\n",
       "  <thead>\n",
       "    <tr style=\"text-align: right;\">\n",
       "      <th></th>\n",
       "      <th>x</th>\n",
       "      <th>y</th>\n",
       "      <th>label</th>\n",
       "      <th>cate</th>\n",
       "    </tr>\n",
       "  </thead>\n",
       "  <tbody>\n",
       "    <tr>\n",
       "      <th>0</th>\n",
       "      <td>1.0</td>\n",
       "      <td>1.1</td>\n",
       "      <td>A</td>\n",
       "      <td>0</td>\n",
       "    </tr>\n",
       "    <tr>\n",
       "      <th>1</th>\n",
       "      <td>1.0</td>\n",
       "      <td>1.0</td>\n",
       "      <td>A</td>\n",
       "      <td>0</td>\n",
       "    </tr>\n",
       "    <tr>\n",
       "      <th>2</th>\n",
       "      <td>0.0</td>\n",
       "      <td>0.0</td>\n",
       "      <td>B</td>\n",
       "      <td>1</td>\n",
       "    </tr>\n",
       "    <tr>\n",
       "      <th>3</th>\n",
       "      <td>0.0</td>\n",
       "      <td>1.1</td>\n",
       "      <td>B</td>\n",
       "      <td>1</td>\n",
       "    </tr>\n",
       "  </tbody>\n",
       "</table>\n",
       "</div>"
      ],
      "text/plain": [
       "     x    y label  cate\n",
       "0  1.0  1.1     A     0\n",
       "1  1.0  1.0     A     0\n",
       "2  0.0  0.0     B     1\n",
       "3  0.0  1.1     B     1"
      ]
     },
     "execution_count": 10,
     "metadata": {},
     "output_type": "execute_result"
    }
   ],
   "source": [
    "df['cate'] = df['label'].apply(lambda x:0 if x=='A' else 1)\n",
    "df"
   ]
  },
  {
   "cell_type": "code",
   "execution_count": 11,
   "metadata": {
    "colab": {
     "base_uri": "https://localhost:8080/",
     "height": 347
    },
    "colab_type": "code",
    "id": "N-rca3xvXzn7",
    "outputId": "becce753-e210-4066-8da9-bedb27ab6241"
   },
   "outputs": [
    {
     "data": {
      "image/png": "[encoded data removed]",
      "text/plain": [
       "<Figure size 432x288 with 1 Axes>"
      ]
     },
     "metadata": {},
     "output_type": "display_data"
    }
   ],
   "source": [
    "plt.scatter(df.x,df.y,c=df.cate, cmap='coolwarm') # str cannot be used as 'c' value\n",
    "for i in range(df.shape[0]):\n",
    "  plt.text(df.x[i]+0.01,df.y[i]+0.01,df.label[i])"
   ]
  },
  {
   "cell_type": "markdown",
   "metadata": {
    "colab_type": "text",
    "id": "Ly4OgJh9aR6C"
   },
   "source": [
    "## 2-1 KNN Algorithm"
   ]
  },
  {
   "cell_type": "code",
   "execution_count": 12,
   "metadata": {
    "colab": {
     "base_uri": "https://localhost:8080/",
     "height": 34
    },
    "colab_type": "code",
    "id": "KfapFWiWYjpG",
    "outputId": "cc2aa142-8a56-47d6-e516-307dd7b82012"
   },
   "outputs": [
    {
     "data": {
      "text/plain": [
       "'B'"
      ]
     },
     "execution_count": 12,
     "metadata": {},
     "output_type": "execute_result"
    }
   ],
   "source": [
    "def classify0(inX, dataset, labels, k):\n",
    "  dataset_row = dataset.shape[0]\n",
    "  diff = np.tile(inX, (dataset_row,1)) - dataset # only copy row, cuz input vector has same dim as dataset\n",
    "  # each sample in dataset will - input vector, so copy input as the shape of dataset  \n",
    "  sqdiff = diff**2\n",
    "  sum_sqdiff = sqdiff.sum(axis=1) # sqdiff.sum() add all elements in matrix\n",
    "  distance = sum_sqdiff**0.5\n",
    "  sort_distance_idx = distance.argsort() # can not use sorted(distance) \n",
    "  vote_label = {}\n",
    "  for i in range(k):\n",
    "    label = labels[ sort_distance_idx[i] ]    \n",
    "    vote_label[label] = vote_label.get(label,0)+1\n",
    "#     print(label)\n",
    "  sort_vote_label = sorted(vote_label.items(), key=lambda x : x[1], reverse=True)\n",
    "#   print(vote_label,sort_vote_label)\n",
    "#   print(sqdiff, '\\n', sum_sqdiff, '\\n',sqdiff.sum(), '\\n',distance)\n",
    "#   print(sort_distance_idx,)\n",
    "\n",
    "  return sort_vote_label[0][0]\n",
    "\n",
    "\n",
    "classify0([0,0], group, labels, 3)"
   ]
  },
  {
   "cell_type": "code",
   "execution_count": null,
   "metadata": {
    "colab": {},
    "colab_type": "code",
    "id": "NSe0ftN9d6e0"
   },
   "outputs": [],
   "source": []
  },
  {
   "cell_type": "markdown",
   "metadata": {
    "colab_type": "text",
    "id": "ciJsClnKkuoF"
   },
   "source": [
    "- **np.tile()**"
   ]
  },
  {
   "cell_type": "code",
   "execution_count": 13,
   "metadata": {
    "colab": {
     "base_uri": "https://localhost:8080/",
     "height": 52
    },
    "colab_type": "code",
    "id": "_mq_zcnjal3y",
    "outputId": "8147c2bc-0bc1-408e-b593-a80f400d6b2d"
   },
   "outputs": [
    {
     "data": {
      "text/plain": [
       "array([['a', 'b', 'a', 'b'],\n",
       "       ['a', 'b', 'a', 'b']], dtype='<U1')"
      ]
     },
     "execution_count": 13,
     "metadata": {},
     "output_type": "execute_result"
    }
   ],
   "source": [
    "np.tile(['a','b'],(2,2))"
   ]
  },
  {
   "cell_type": "code",
   "execution_count": null,
   "metadata": {
    "colab": {},
    "colab_type": "code",
    "id": "jwXJyUbLa5cC"
   },
   "outputs": [],
   "source": []
  },
  {
   "cell_type": "markdown",
   "metadata": {
    "colab_type": "text",
    "id": "B1jebVRolCiN"
   },
   "source": [
    "- **dict.get()**"
   ]
  },
  {
   "cell_type": "code",
   "execution_count": 14,
   "metadata": {
    "colab": {},
    "colab_type": "code",
    "id": "zXOk8li6c5Wa"
   },
   "outputs": [],
   "source": [
    "a = {'x':1,'y':2}"
   ]
  },
  {
   "cell_type": "code",
   "execution_count": 15,
   "metadata": {
    "colab": {
     "base_uri": "https://localhost:8080/",
     "height": 34
    },
    "colab_type": "code",
    "id": "WmfWCgUShO7q",
    "outputId": "053f04e6-e67f-4006-b08a-ca46a6b4e104"
   },
   "outputs": [
    {
     "data": {
      "text/plain": [
       "0"
      ]
     },
     "execution_count": 15,
     "metadata": {},
     "output_type": "execute_result"
    }
   ],
   "source": [
    "a.get('z',0)"
   ]
  },
  {
   "cell_type": "code",
   "execution_count": 16,
   "metadata": {
    "colab": {
     "base_uri": "https://localhost:8080/",
     "height": 34
    },
    "colab_type": "code",
    "id": "2cZ9-1BmhQAj",
    "outputId": "07ea4eda-6dba-4898-a8bc-50072b0ee745"
   },
   "outputs": [
    {
     "data": {
      "text/plain": [
       "{'x': 1, 'y': 2, 'z': 0}"
      ]
     },
     "execution_count": 16,
     "metadata": {},
     "output_type": "execute_result"
    }
   ],
   "source": [
    "a['z'] = a.get('z',0)\n",
    "a"
   ]
  },
  {
   "cell_type": "markdown",
   "metadata": {
    "colab_type": "text",
    "id": "UnT4ihy3_gzq"
   },
   "source": [
    "## Install pydrive to manipulate google drive"
   ]
  },
  {
   "cell_type": "markdown",
   "metadata": {
    "colab_type": "text",
    "id": "FtkqbQloDAm-"
   },
   "source": [
    "### Install"
   ]
  },
  {
   "cell_type": "code",
   "execution_count": 18,
   "metadata": {
    "colab": {
     "base_uri": "https://localhost:8080/",
     "height": 357
    },
    "colab_type": "code",
    "id": "NPICUUvEhnN3",
    "outputId": "1710a859-241b-4566-ea07-e8c34befd6f1"
   },
   "outputs": [],
   "source": [
    "# !pip install pydrive"
   ]
  },
  {
   "cell_type": "code",
   "execution_count": 17,
   "metadata": {
    "colab": {
     "base_uri": "https://localhost:8080/",
     "height": 361
    },
    "colab_type": "code",
    "id": "uC3x5erU5Yi7",
    "outputId": "b7bbb8fe-6e38-48da-cb8d-811bd32ad063"
   },
   "outputs": [],
   "source": [
    "# from pydrive.auth import GoogleAuth\n",
    "# from pydrive.drive import GoogleDrive\n",
    "# from google.colab import auth\n",
    "# from oauth2client.client import GoogleCredentials"
   ]
  },
  {
   "cell_type": "code",
   "execution_count": 19,
   "metadata": {
    "colab": {},
    "colab_type": "code",
    "id": "Bp1nvj-r5kMD"
   },
   "outputs": [],
   "source": [
    "# auth.authenticate_user()\n",
    "# gauth = GoogleAuth()\n",
    "# gauth.credentials = GoogleCredentials.get_application_default()\n",
    "# drive = GoogleDrive(gauth)"
   ]
  },
  {
   "cell_type": "code",
   "execution_count": 20,
   "metadata": {
    "colab": {
     "base_uri": "https://localhost:8080/",
     "height": 35
    },
    "colab_type": "code",
    "id": "FisPKWwa5nZB",
    "outputId": "8c4ffa5b-b4c3-49dd-8446-25d864face38"
   },
   "outputs": [
    {
     "name": "stdout",
     "output_type": "stream",
     "text": [
      "adc.json  sample_data\n"
     ]
    }
   ],
   "source": [
    "# !ls"
   ]
  },
  {
   "cell_type": "code",
   "execution_count": 21,
   "metadata": {
    "colab": {
     "base_uri": "https://localhost:8080/",
     "height": 35
    },
    "colab_type": "code",
    "id": "7z0CBWx550zh",
    "outputId": "b6e5b7f3-4ef5-4e18-80a7-32022b54398a"
   },
   "outputs": [
    {
     "name": "stdout",
     "output_type": "stream",
     "text": [
      "/content\n"
     ]
    }
   ],
   "source": [
    "# !pwd"
   ]
  },
  {
   "cell_type": "code",
   "execution_count": null,
   "metadata": {
    "colab": {},
    "colab_type": "code",
    "id": "Rlio5VZg54p0"
   },
   "outputs": [],
   "source": []
  },
  {
   "cell_type": "code",
   "execution_count": null,
   "metadata": {
    "colab": {
     "base_uri": "https://localhost:8080/",
     "height": 35
    },
    "colab_type": "code",
    "id": "OR5k__2o6aOj",
    "outputId": "3fe5f5d4-400f-433e-e41f-e1a719e7b5fa"
   },
   "outputs": [],
   "source": []
  },
  {
   "cell_type": "markdown",
   "metadata": {
    "colab_type": "text",
    "id": "hdhVoY0Q_8Ji"
   },
   "source": [
    "### Get root files id"
   ]
  },
  {
   "cell_type": "code",
   "execution_count": 20,
   "metadata": {
    "colab": {
     "base_uri": "https://localhost:8080/",
     "height": 168
    },
    "colab_type": "code",
    "id": "J9zepQRM6bwi",
    "outputId": "aab43e00-6819-46c1-a2f7-b8c26270c826"
   },
   "outputs": [],
   "source": [
    "# file_list = drive.ListFile({'q': \"'root' in parents and trashed=false\"}).GetList() # q = query/search"
   ]
  },
  {
   "cell_type": "code",
   "execution_count": 21,
   "metadata": {
    "colab": {
     "base_uri": "https://localhost:8080/",
     "height": 203
    },
    "colab_type": "code",
    "id": "q38rji0W6pnB",
    "outputId": "371847ce-9307-48f3-98c4-819812cdc575"
   },
   "outputs": [],
   "source": [
    "# for file in file_list:\n",
    "#   print(file)\n",
    "#   print('\\n title: %s,\\n id: %s,\\n mimeType: %s \\n' % (file['title'], file['id'], file[\"mimeType\"]))"
   ]
  },
  {
   "cell_type": "markdown",
   "metadata": {
    "colab_type": "text",
    "id": "3dztaMG5ACoX"
   },
   "source": [
    "### Go to subfolder with same command above"
   ]
  },
  {
   "cell_type": "code",
   "execution_count": 22,
   "metadata": {
    "colab": {
     "base_uri": "https://localhost:8080/",
     "height": 195
    },
    "colab_type": "code",
    "id": "fH2X78N29Ib6",
    "outputId": "4d1ce7cc-200b-4c3e-e0bc-2688e901f4e2"
   },
   "outputs": [],
   "source": [
    "# # 1UW1Jn-a0w4cDefsupur_7tbiT1HTlUy_\n",
    "# ML_inAction_list = drive.ListFile({'q': \"'1UW1Jn-a0w4cDefsupur_7tbiT1HTlUy_' in parents and trashed=false\"}).GetList()\n",
    "# for file in ML_inAction_list:\n",
    "#   print('\\n title: %s,\\n id: %s,\\n mimeType: %s \\n' % (file['title'], file['id'], file[\"mimeType\"]))"
   ]
  },
  {
   "cell_type": "markdown",
   "metadata": {
    "colab_type": "text",
    "id": "CeySUTbUARrR"
   },
   "source": [
    "### Read an existed file"
   ]
  },
  {
   "cell_type": "code",
   "execution_count": 23,
   "metadata": {
    "colab": {
     "base_uri": "https://localhost:8080/",
     "height": 72
    },
    "colab_type": "code",
    "id": "PxXvzRx2-eVR",
    "outputId": "2c859a0e-8fe8-4558-9333-f2bfb86f1d87"
   },
   "outputs": [],
   "source": [
    "# file = drive.CreateFile({'id': \"17B8sLs13NajyXqUsFsS_R2x8vy6AJtHd\"})\n",
    "# file.GetContentFile('datingTestSet2.txt','text/plain') \n",
    "# with open('datingTestSet2.txt') as f:\n",
    "#   print(f)\n",
    "#   print(f.readlines())\n"
   ]
  },
  {
   "cell_type": "code",
   "execution_count": 24,
   "metadata": {
    "colab": {
     "base_uri": "https://localhost:8080/",
     "height": 218
    },
    "colab_type": "code",
    "id": "Y2GBeZvP-_PC",
    "outputId": "54b76f54-f2b6-4baa-b287-d2b63bcd4b86"
   },
   "outputs": [],
   "source": [
    "# data_df = pd.read_csv('datingTestSet2.txt',sep='\\t',header=None)\n",
    "# print(data_df.shape)\n",
    "# data_df.head()"
   ]
  },
  {
   "cell_type": "markdown",
   "metadata": {
    "colab_type": "text",
    "id": "TO8jUrujCxz8"
   },
   "source": [
    "## 2-2 Text to Numpy\n",
    "\n",
    "\n",
    "\n",
    "1. 每年飞行里程数\n",
    "2. 玩游戏所占时间百分比\n",
    "3. 每周消费冰激凌公斤数"
   ]
  },
  {
   "cell_type": "code",
   "execution_count": 25,
   "metadata": {
    "colab": {
     "base_uri": "https://localhost:8080/",
     "height": 186
    },
    "colab_type": "code",
    "id": "Rw6J6K5lAjXl",
    "outputId": "ce6d73b0-ca41-41cc-8508-ebf28a5a1008"
   },
   "outputs": [
    {
     "data": {
      "text/plain": [
       "<_io.TextIOWrapper name='./datingTestSet2.txt' mode='r' encoding='cp936'>"
      ]
     },
     "execution_count": 25,
     "metadata": {},
     "output_type": "execute_result"
    }
   ],
   "source": [
    "fr = open('./datingTestSet2.txt')\n",
    "fr"
   ]
  },
  {
   "cell_type": "code",
   "execution_count": 26,
   "metadata": {
    "colab": {
     "base_uri": "https://localhost:8080/",
     "height": 35
    },
    "colab_type": "code",
    "id": "Po_iWPYjDSOq",
    "outputId": "617bed8f-e6bc-4d8f-94b5-37c830ebfbc3"
   },
   "outputs": [
    {
     "data": {
      "text/plain": [
       "['40920\\t8.326976\\t0.953952\\t3\\n', '14488\\t7.153469\\t1.673904\\t2\\n']"
      ]
     },
     "execution_count": 26,
     "metadata": {},
     "output_type": "execute_result"
    }
   ],
   "source": [
    "lines_list = fr.readlines()\n",
    "lines_list[:2]"
   ]
  },
  {
   "cell_type": "code",
   "execution_count": 27,
   "metadata": {
    "colab": {
     "base_uri": "https://localhost:8080/",
     "height": 35
    },
    "colab_type": "code",
    "id": "jKRLUd6oDjea",
    "outputId": "a8547f96-6b57-4e14-994b-df8a86877a8d"
   },
   "outputs": [
    {
     "data": {
      "text/plain": [
       "1000"
      ]
     },
     "execution_count": 27,
     "metadata": {},
     "output_type": "execute_result"
    }
   ],
   "source": [
    "len(lines_list)"
   ]
  },
  {
   "cell_type": "code",
   "execution_count": 28,
   "metadata": {
    "colab": {
     "base_uri": "https://localhost:8080/",
     "height": 141
    },
    "colab_type": "code",
    "id": "RJ4OD_RBD8hF",
    "outputId": "fc4e1443-2a2b-4700-9619-a21d1f6df534"
   },
   "outputs": [
    {
     "data": {
      "text/plain": [
       "array([[0., 0., 0.],\n",
       "       [0., 0., 0.],\n",
       "       [0., 0., 0.],\n",
       "       ...,\n",
       "       [0., 0., 0.],\n",
       "       [0., 0., 0.],\n",
       "       [0., 0., 0.]])"
      ]
     },
     "execution_count": 28,
     "metadata": {},
     "output_type": "execute_result"
    }
   ],
   "source": [
    "np.zeros((len(lines_list),3))"
   ]
  },
  {
   "cell_type": "code",
   "execution_count": 29,
   "metadata": {
    "colab": {
     "base_uri": "https://localhost:8080/",
     "height": 35
    },
    "colab_type": "code",
    "id": "QssaphlCEaGK",
    "outputId": "b6bcec96-e443-4144-e360-aa009478ab53"
   },
   "outputs": [
    {
     "data": {
      "text/plain": [
       "['40920', '8.326976', '0.953952', '3']"
      ]
     },
     "execution_count": 29,
     "metadata": {},
     "output_type": "execute_result"
    }
   ],
   "source": [
    "lines_list[0].strip().split('\\t')"
   ]
  },
  {
   "cell_type": "code",
   "execution_count": 30,
   "metadata": {
    "colab": {},
    "colab_type": "code",
    "id": "odmIdfuAEpF8"
   },
   "outputs": [],
   "source": [
    "def file2matrix(filename):\n",
    "  file = open(filename)\n",
    "  file_lines = file.readlines()\n",
    "  length = len(file_lines)\n",
    "  matrix = np.zeros((length, 3))\n",
    "  label = []\n",
    "  for idx, line in enumerate(file_lines):\n",
    "    split_row = line.strip() # cut by enter \\n\n",
    "    split_element = split_row.split('\\t')\n",
    "    matrix[idx,:] = split_element[0:3] # only 0,1,2 not include 3\n",
    "    label.append(split_element[-1])\n",
    "  return matrix,np.array(label)"
   ]
  },
  {
   "cell_type": "code",
   "execution_count": 31,
   "metadata": {
    "colab": {},
    "colab_type": "code",
    "id": "jwnNRywnGbYj"
   },
   "outputs": [],
   "source": [
    "matrix,label = file2matrix('datingTestSet2.txt')"
   ]
  },
  {
   "cell_type": "code",
   "execution_count": 32,
   "metadata": {
    "colab": {
     "base_uri": "https://localhost:8080/",
     "height": 141
    },
    "colab_type": "code",
    "id": "g6jXpqKdL1Hq",
    "outputId": "40981cc0-17e3-467a-a925-a0410d905eab"
   },
   "outputs": [
    {
     "data": {
      "text/plain": [
       "array([[4.0920000e+04, 8.3269760e+00, 9.5395200e-01],\n",
       "       [1.4488000e+04, 7.1534690e+00, 1.6739040e+00],\n",
       "       [2.6052000e+04, 1.4418710e+00, 8.0512400e-01],\n",
       "       ...,\n",
       "       [2.6575000e+04, 1.0650102e+01, 8.6662700e-01],\n",
       "       [4.8111000e+04, 9.1345280e+00, 7.2804500e-01],\n",
       "       [4.3757000e+04, 7.8826010e+00, 1.3324460e+00]])"
      ]
     },
     "execution_count": 32,
     "metadata": {},
     "output_type": "execute_result"
    }
   ],
   "source": [
    "matrix"
   ]
  },
  {
   "cell_type": "code",
   "execution_count": 33,
   "metadata": {
    "colab": {
     "base_uri": "https://localhost:8080/",
     "height": 35
    },
    "colab_type": "code",
    "id": "acWjFgNuGmJi",
    "outputId": "f93bb268-7790-4f5d-b7df-2653bf82bdf0"
   },
   "outputs": [
    {
     "data": {
      "text/plain": [
       "(1000, 3)"
      ]
     },
     "execution_count": 33,
     "metadata": {},
     "output_type": "execute_result"
    }
   ],
   "source": [
    "matrix.shape"
   ]
  },
  {
   "cell_type": "code",
   "execution_count": 34,
   "metadata": {
    "colab": {
     "base_uri": "https://localhost:8080/",
     "height": 35
    },
    "colab_type": "code",
    "id": "VO2ZaSMzbM3o",
    "outputId": "28766e5a-e85a-475c-f5bb-8f8d0bfd4eb4"
   },
   "outputs": [
    {
     "data": {
      "text/plain": [
       "array(['3', '2', '1', '1', '1'], dtype='<U1')"
      ]
     },
     "execution_count": 34,
     "metadata": {},
     "output_type": "execute_result"
    }
   ],
   "source": [
    "label[:5]"
   ]
  },
  {
   "cell_type": "code",
   "execution_count": 35,
   "metadata": {
    "colab": {
     "base_uri": "https://localhost:8080/",
     "height": 35
    },
    "colab_type": "code",
    "id": "YWbp-OhGHA7U",
    "outputId": "f9b54cc4-2dc9-4132-caea-a3e42a31f5e5"
   },
   "outputs": [
    {
     "data": {
      "text/plain": [
       "(1000,)"
      ]
     },
     "execution_count": 35,
     "metadata": {},
     "output_type": "execute_result"
    }
   ],
   "source": [
    "label.shape"
   ]
  },
  {
   "cell_type": "code",
   "execution_count": 36,
   "metadata": {
    "colab": {
     "base_uri": "https://localhost:8080/",
     "height": 364
    },
    "colab_type": "code",
    "id": "_lVnWD8gHCb7",
    "outputId": "d3e4f3bd-8d9d-45f9-8931-15c48c5ba338"
   },
   "outputs": [
    {
     "data": {
      "text/plain": [
       "<matplotlib.collections.PathCollection at 0x1f89adeed30>"
      ]
     },
     "execution_count": 36,
     "metadata": {},
     "output_type": "execute_result"
    },
    {
     "data": {
      "image/png": "[encoded data removed]",
      "text/plain": [
       "<Figure size 432x288 with 3 Axes>"
      ]
     },
     "metadata": {},
     "output_type": "display_data"
    }
   ],
   "source": [
    "fig = plt.figure()\n",
    "ax1 = fig.add_subplot(311)\n",
    "ax1.scatter(matrix[:,1],matrix[:,2],c=label,cmap='rainbow')\n",
    "\n",
    "ax2 = fig.add_subplot(312)\n",
    "ax2.scatter(matrix[:,0],matrix[:,1],c=label,cmap='rainbow')\n",
    "\n",
    "ax3 = fig.add_subplot(313)\n",
    "ax3.scatter(matrix[:,0],matrix[:,2],c=label,cmap='rainbow')"
   ]
  },
  {
   "cell_type": "markdown",
   "metadata": {
    "colab_type": "text",
    "id": "QBTxPCLE9X03"
   },
   "source": [
    "## 2-3 Normalization 归一化\n",
    "\n",
    "- 数值较大的属性会对结果产生较大的影响，因此归一化后，使得各个特征对结果有同样的影响，即每个特征同等重要\n",
    "- 改变数值范围，虽然增加了分类器的复杂度，但可以得到准确结果\n",
    "- \n",
    "$$ x = \\frac{x-min}{max-min} , range(0,1)$$ "
   ]
  },
  {
   "cell_type": "code",
   "execution_count": 37,
   "metadata": {
    "colab": {
     "base_uri": "https://localhost:8080/",
     "height": 88
    },
    "colab_type": "code",
    "id": "CufxdTkI_WzO",
    "outputId": "0ebb59ca-6631-4677-9047-56d844c9e3aa"
   },
   "outputs": [
    {
     "data": {
      "text/plain": [
       "array([[1. , 1.1],\n",
       "       [1. , 1. ],\n",
       "       [0. , 0. ],\n",
       "       [0. , 1.1]])"
      ]
     },
     "execution_count": 37,
     "metadata": {},
     "output_type": "execute_result"
    }
   ],
   "source": [
    "group"
   ]
  },
  {
   "cell_type": "code",
   "execution_count": 38,
   "metadata": {
    "colab": {
     "base_uri": "https://localhost:8080/",
     "height": 35
    },
    "colab_type": "code",
    "id": "7UyS6JfVIrz7",
    "outputId": "653a3d7d-54dd-4c5e-c4e5-c5d92092291c"
   },
   "outputs": [
    {
     "data": {
      "text/plain": [
       "array([0., 0.])"
      ]
     },
     "execution_count": 38,
     "metadata": {},
     "output_type": "execute_result"
    }
   ],
   "source": [
    "group.min(axis=0) # each col's min and max, for each feature"
   ]
  },
  {
   "cell_type": "code",
   "execution_count": 39,
   "metadata": {
    "colab": {
     "base_uri": "https://localhost:8080/",
     "height": 35
    },
    "colab_type": "code",
    "id": "wu-9dCkS_NGf",
    "outputId": "4496e280-fad0-4ad2-890a-60f827dc645c"
   },
   "outputs": [
    {
     "data": {
      "text/plain": [
       "array([1. , 1.1])"
      ]
     },
     "execution_count": 39,
     "metadata": {},
     "output_type": "execute_result"
    }
   ],
   "source": [
    "group.max(axis=0)"
   ]
  },
  {
   "cell_type": "code",
   "execution_count": 40,
   "metadata": {
    "colab": {
     "base_uri": "https://localhost:8080/",
     "height": 88
    },
    "colab_type": "code",
    "id": "Ag74r9ym_fjW",
    "outputId": "ce83077b-1880-401f-c693-573b10c0c1d9"
   },
   "outputs": [
    {
     "data": {
      "text/plain": [
       "array([[0., 0.],\n",
       "       [0., 0.],\n",
       "       [0., 0.],\n",
       "       [0., 0.]])"
      ]
     },
     "execution_count": 40,
     "metadata": {},
     "output_type": "execute_result"
    }
   ],
   "source": [
    "np.zeros(group.shape)"
   ]
  },
  {
   "cell_type": "code",
   "execution_count": 41,
   "metadata": {
    "colab": {},
    "colab_type": "code",
    "id": "SzrrVZSC_5EV"
   },
   "outputs": [],
   "source": [
    "def autoNorm(dataset):\n",
    "  min_val = dataset.min(axis=0)\n",
    "  max_val = dataset.max(axis=0)\n",
    "  max_min_range = max_val - min_val\n",
    "  norm_dataset = np.zeros(dataset.shape)\n",
    "  row = dataset.shape[0]\n",
    "  norm_dataset = dataset - np.tile(min_val,(row,1))\n",
    "  norm_dataset = norm_dataset / np.tile(max_min_range,(row,1))\n",
    "  return norm_dataset, max_min_range, min_val"
   ]
  },
  {
   "cell_type": "code",
   "execution_count": 42,
   "metadata": {
    "colab": {
     "base_uri": "https://localhost:8080/",
     "height": 88
    },
    "colab_type": "code",
    "id": "pK6Rker1BcZ-",
    "outputId": "93c8e9e4-0b49-400f-d013-30b048306e7f"
   },
   "outputs": [
    {
     "data": {
      "text/plain": [
       "(array([[1.        , 1.        ],\n",
       "        [1.        , 0.90909091],\n",
       "        [0.        , 0.        ],\n",
       "        [0.        , 1.        ]]), array([1. , 1.1]), array([0., 0.]))"
      ]
     },
     "execution_count": 42,
     "metadata": {},
     "output_type": "execute_result"
    }
   ],
   "source": [
    "autoNorm(group)"
   ]
  },
  {
   "cell_type": "code",
   "execution_count": 43,
   "metadata": {
    "colab": {},
    "colab_type": "code",
    "id": "vDYn3JXtBfMG"
   },
   "outputs": [],
   "source": [
    "norm_matrix, val_range, min_val = autoNorm(matrix)"
   ]
  },
  {
   "cell_type": "code",
   "execution_count": 44,
   "metadata": {
    "colab": {
     "base_uri": "https://localhost:8080/",
     "height": 141
    },
    "colab_type": "code",
    "id": "5r-bqBB-CVD8",
    "outputId": "8f9f5d11-9c26-47bf-c224-c720f349782b"
   },
   "outputs": [
    {
     "data": {
      "text/plain": [
       "array([[0.44832535, 0.39805139, 0.56233353],\n",
       "       [0.15873259, 0.34195467, 0.98724416],\n",
       "       [0.28542943, 0.06892523, 0.47449629],\n",
       "       ...,\n",
       "       [0.29115949, 0.50910294, 0.51079493],\n",
       "       [0.52711097, 0.43665451, 0.4290048 ],\n",
       "       [0.47940793, 0.3768091 , 0.78571804]])"
      ]
     },
     "execution_count": 44,
     "metadata": {},
     "output_type": "execute_result"
    }
   ],
   "source": [
    "norm_matrix"
   ]
  },
  {
   "cell_type": "code",
   "execution_count": 45,
   "metadata": {
    "colab": {
     "base_uri": "https://localhost:8080/",
     "height": 35
    },
    "colab_type": "code",
    "id": "nv5hA_n-Cy4H",
    "outputId": "e8748f68-da7b-41e5-d6c5-b4716c30c1b3"
   },
   "outputs": [
    {
     "data": {
      "text/plain": [
       "array([9.1273000e+04, 2.0919349e+01, 1.6943610e+00])"
      ]
     },
     "execution_count": 45,
     "metadata": {},
     "output_type": "execute_result"
    }
   ],
   "source": [
    "val_range"
   ]
  },
  {
   "cell_type": "code",
   "execution_count": 46,
   "metadata": {
    "colab": {
     "base_uri": "https://localhost:8080/",
     "height": 35
    },
    "colab_type": "code",
    "id": "R23tlHo0C1EA",
    "outputId": "049ea6d9-3e31-41a2-8826-6d35e2d17278"
   },
   "outputs": [
    {
     "data": {
      "text/plain": [
       "array([0.      , 0.      , 0.001156])"
      ]
     },
     "execution_count": 46,
     "metadata": {},
     "output_type": "execute_result"
    }
   ],
   "source": [
    "min_val"
   ]
  },
  {
   "cell_type": "markdown",
   "metadata": {
    "colab_type": "text",
    "id": "xMD5uVURDdKI"
   },
   "source": [
    "## 2-4 Test code of dating website\n",
    "\n",
    "- NOT Good due to not select test sample randomly"
   ]
  },
  {
   "cell_type": "code",
   "execution_count": 47,
   "metadata": {
    "colab": {},
    "colab_type": "code",
    "id": "Y3h9aNgtC2g_"
   },
   "outputs": [],
   "source": [
    "def datingClassTest():\n",
    "  ratio = 0.01\n",
    "  feature_arr,labels = file2matrix('datingTestSet2.txt')\n",
    "  norm_feature, val_range, min_val = autoNorm(feature_arr)\n",
    "  test_sample_num = int(norm_feature.shape[0] * ratio) # 1000 * 0.1 = 100 NO Random!!!??\n",
    "  error_count = 0\n",
    "  for i in range(test_sample_num):\n",
    "    test_result = classify0(norm_feature[i,:], norm_feature[test_sample_num:,:], labels, 5)\n",
    "    print(norm_feature[i])\n",
    "    print('test result is : {}, true label is {}'.format(test_result, label[i]))\n",
    "    if (test_result != label[i]):\n",
    "      error_count += 1\n",
    "  print('Total error rate is: {}'.format(error_count/test_sample_num))"
   ]
  },
  {
   "cell_type": "code",
   "execution_count": 48,
   "metadata": {
    "colab": {
     "base_uri": "https://localhost:8080/",
     "height": 390
    },
    "colab_type": "code",
    "id": "W6GDEDUOKokx",
    "outputId": "49966ab0-c841-4576-f9ab-c98590dba402"
   },
   "outputs": [
    {
     "name": "stdout",
     "output_type": "stream",
     "text": [
      "[0.44832535 0.39805139 0.56233353]\n",
      "test result is : 1, true label is 3\n",
      "[0.15873259 0.34195467 0.98724416]\n",
      "test result is : 1, true label is 2\n",
      "[0.28542943 0.06892523 0.47449629]\n",
      "test result is : 3, true label is 1\n",
      "[0.82320073 0.62848007 0.25248929]\n",
      "test result is : 3, true label is 1\n",
      "[0.42010233 0.07982027 0.0785783 ]\n",
      "test result is : 1, true label is 1\n",
      "[0.79972171 0.48480189 0.60896055]\n",
      "test result is : 2, true label is 1\n",
      "[0.39385141 0.32652986 0.71533516]\n",
      "test result is : 2, true label is 3\n",
      "[0.46745478 0.63464542 0.32031191]\n",
      "test result is : 1, true label is 3\n",
      "[0.73950675 0.41261212 0.44153637]\n",
      "test result is : 2, true label is 1\n",
      "[0.38875681 0.58668982 0.88936006]\n",
      "test result is : 1, true label is 3\n",
      "Total error rate is: 0.9\n"
     ]
    }
   ],
   "source": [
    "datingClassTest()"
   ]
  },
  {
   "cell_type": "markdown",
   "metadata": {
    "colab_type": "text",
    "id": "lc1aLfjQNLfi"
   },
   "source": [
    "### data explore"
   ]
  },
  {
   "cell_type": "code",
   "execution_count": 49,
   "metadata": {
    "colab": {},
    "colab_type": "code",
    "id": "gij-8wR7KsmA"
   },
   "outputs": [],
   "source": [
    "data_df = pd.DataFrame(norm_matrix, columns=['fly','game','icecream'])"
   ]
  },
  {
   "cell_type": "code",
   "execution_count": 50,
   "metadata": {
    "colab": {},
    "colab_type": "code",
    "id": "91d1gtEsNghw"
   },
   "outputs": [],
   "source": [
    "data_df['label'] = label"
   ]
  },
  {
   "cell_type": "code",
   "execution_count": 51,
   "metadata": {
    "colab": {
     "base_uri": "https://localhost:8080/",
     "height": 200
    },
    "colab_type": "code",
    "id": "Ru_bbOFqNiwt",
    "outputId": "fa5bd563-ad8d-44d2-9ef7-3e15cc94b58c"
   },
   "outputs": [
    {
     "data": {
      "text/html": [
       "<div>\n",
       "<style scoped>\n",
       "    .dataframe tbody tr th:only-of-type {\n",
       "        vertical-align: middle;\n",
       "    }\n",
       "\n",
       "    .dataframe tbody tr th {\n",
       "        vertical-align: top;\n",
       "    }\n",
       "\n",
       "    .dataframe thead th {\n",
       "        text-align: right;\n",
       "    }\n",
       "</style>\n",
       "<table border=\"1\" class=\"dataframe\">\n",
       "  <thead>\n",
       "    <tr style=\"text-align: right;\">\n",
       "      <th></th>\n",
       "      <th>fly</th>\n",
       "      <th>game</th>\n",
       "      <th>icecream</th>\n",
       "      <th>label</th>\n",
       "    </tr>\n",
       "  </thead>\n",
       "  <tbody>\n",
       "    <tr>\n",
       "      <th>0</th>\n",
       "      <td>0.448325</td>\n",
       "      <td>0.398051</td>\n",
       "      <td>0.562334</td>\n",
       "      <td>3</td>\n",
       "    </tr>\n",
       "    <tr>\n",
       "      <th>1</th>\n",
       "      <td>0.158733</td>\n",
       "      <td>0.341955</td>\n",
       "      <td>0.987244</td>\n",
       "      <td>2</td>\n",
       "    </tr>\n",
       "    <tr>\n",
       "      <th>2</th>\n",
       "      <td>0.285429</td>\n",
       "      <td>0.068925</td>\n",
       "      <td>0.474496</td>\n",
       "      <td>1</td>\n",
       "    </tr>\n",
       "    <tr>\n",
       "      <th>3</th>\n",
       "      <td>0.823201</td>\n",
       "      <td>0.628480</td>\n",
       "      <td>0.252489</td>\n",
       "      <td>1</td>\n",
       "    </tr>\n",
       "    <tr>\n",
       "      <th>4</th>\n",
       "      <td>0.420102</td>\n",
       "      <td>0.079820</td>\n",
       "      <td>0.078578</td>\n",
       "      <td>1</td>\n",
       "    </tr>\n",
       "  </tbody>\n",
       "</table>\n",
       "</div>"
      ],
      "text/plain": [
       "        fly      game  icecream label\n",
       "0  0.448325  0.398051  0.562334     3\n",
       "1  0.158733  0.341955  0.987244     2\n",
       "2  0.285429  0.068925  0.474496     1\n",
       "3  0.823201  0.628480  0.252489     1\n",
       "4  0.420102  0.079820  0.078578     1"
      ]
     },
     "execution_count": 51,
     "metadata": {},
     "output_type": "execute_result"
    }
   ],
   "source": [
    "data_df.head()"
   ]
  },
  {
   "cell_type": "code",
   "execution_count": 52,
   "metadata": {
    "colab": {
     "base_uri": "https://localhost:8080/",
     "height": 88
    },
    "colab_type": "code",
    "id": "acQmh6iZN9Ug",
    "outputId": "1f7a6a10-fac5-4b5e-e6b2-7f62dfe61ebe"
   },
   "outputs": [
    {
     "data": {
      "text/plain": [
       "1    342\n",
       "2    331\n",
       "3    327\n",
       "Name: label, dtype: int64"
      ]
     },
     "execution_count": 52,
     "metadata": {},
     "output_type": "execute_result"
    }
   ],
   "source": [
    "data_df.label.value_counts()"
   ]
  },
  {
   "cell_type": "code",
   "execution_count": 53,
   "metadata": {
    "colab": {},
    "colab_type": "code",
    "id": "dvicOY3vOGz3"
   },
   "outputs": [],
   "source": [
    "from sklearn.model_selection import train_test_split\n",
    "from sklearn.neighbors import KNeighborsClassifier"
   ]
  },
  {
   "cell_type": "code",
   "execution_count": 54,
   "metadata": {
    "colab": {},
    "colab_type": "code",
    "id": "Faof0-VeOolp"
   },
   "outputs": [],
   "source": [
    "X = data_df[['fly','game','icecream']]\n",
    "y = data_df['label']"
   ]
  },
  {
   "cell_type": "code",
   "execution_count": 55,
   "metadata": {
    "colab": {},
    "colab_type": "code",
    "id": "0QH0ifT4OXLT"
   },
   "outputs": [],
   "source": [
    "X_train, X_test, y_train, y_test = train_test_split(X,y,test_size=0.1,random_state=42)"
   ]
  },
  {
   "cell_type": "code",
   "execution_count": 56,
   "metadata": {
    "colab": {
     "base_uri": "https://localhost:8080/",
     "height": 35
    },
    "colab_type": "code",
    "id": "3lw76TJ4P9Va",
    "outputId": "e194f3b4-8fc0-4f4d-d09c-6620ed335aba"
   },
   "outputs": [
    {
     "data": {
      "text/plain": [
       "0.92"
      ]
     },
     "execution_count": 56,
     "metadata": {},
     "output_type": "execute_result"
    }
   ],
   "source": [
    "knn = KNeighborsClassifier()\n",
    "knn.fit(X_train,y_train)\n",
    "score = knn.score(X_test,y_test)\n",
    "score"
   ]
  },
  {
   "cell_type": "markdown",
   "metadata": {
    "colab_type": "text",
    "id": "UY3duMqdWA2q"
   },
   "source": [
    "## Predict "
   ]
  },
  {
   "cell_type": "code",
   "execution_count": 57,
   "metadata": {
    "colab": {},
    "colab_type": "code",
    "id": "mkaDX6h2VXm0"
   },
   "outputs": [],
   "source": [
    "def classifyPerson():\n",
    "  result_list = ['not at all', 'in small does', 'in large does']\n",
    "  input_fly = float(input('fly miles: '))\n",
    "  input_game = float(input('game time: '))  \n",
    "  input_icecream = float(input('ice cream: '))\n",
    "  \n",
    "  feature_arr, labels = file2matrix('datingTestSet2.txt')\n",
    "  norm_feat, val_range, min_val = autoNorm(feature_arr)\n",
    "  \n",
    "  input_arr = np.array([input_fly, input_game, input_icecream])\n",
    "  pred_result = classify0((input_arr-min_val)/val_range, norm_feat, labels, 3)\n",
    "  \n",
    "  print(pred_result, 'you probably like this person {}'.format(result_list[int(pred_result)-1]))"
   ]
  },
  {
   "cell_type": "code",
   "execution_count": 58,
   "metadata": {
    "colab": {
     "base_uri": "https://localhost:8080/",
     "height": 88
    },
    "colab_type": "code",
    "id": "6vY28wMnW0RC",
    "outputId": "dde52f6c-d54d-4859-ac2e-ff69d1d0162b"
   },
   "outputs": [
    {
     "name": "stdout",
     "output_type": "stream",
     "text": [
      "fly miles: 30000\n",
      "game time: 10\n",
      "ice cream: 0.1\n",
      "3 you probably like this person in large does\n"
     ]
    }
   ],
   "source": [
    "classifyPerson()"
   ]
  },
  {
   "cell_type": "code",
   "execution_count": null,
   "metadata": {
    "colab": {
     "base_uri": "https://localhost:8080/",
     "height": 88
    },
    "colab_type": "code",
    "id": "L87Gmpc9dLb1",
    "outputId": "f6ee0141-bbd4-4996-f0d7-05257223a344"
   },
   "outputs": [],
   "source": []
  },
  {
   "cell_type": "markdown",
   "metadata": {
    "colab": {},
    "colab_type": "code",
    "id": "I9TtRmo5byEC"
   },
   "source": [
    "# 2. Handwriting\n"
   ]
  },
  {
   "cell_type": "code",
   "execution_count": 59,
   "metadata": {},
   "outputs": [],
   "source": [
    "import numpy as np\n",
    "import pandas as pd\n",
    "import matplotlib.pyplot as plt\n",
    "import os"
   ]
  },
  {
   "cell_type": "code",
   "execution_count": 60,
   "metadata": {},
   "outputs": [],
   "source": [
    "def img2vector(filename):\n",
    "    img_vector = np.zeros((1,1024))\n",
    "    fr = open(filename)\n",
    "    for i in range(32):\n",
    "        line_str = fr.readline()\n",
    "        for j in range(32):\n",
    "            img_vector[0, 32*i+j] = int(line_str[j])\n",
    "    return img_vector"
   ]
  },
  {
   "cell_type": "code",
   "execution_count": 61,
   "metadata": {},
   "outputs": [
    {
     "data": {
      "text/plain": [
       "1934"
      ]
     },
     "execution_count": 61,
     "metadata": {},
     "output_type": "execute_result"
    }
   ],
   "source": [
    "len(os.listdir('./trainingDigits')) #1_113.txt"
   ]
  },
  {
   "cell_type": "code",
   "execution_count": 62,
   "metadata": {},
   "outputs": [],
   "source": [
    "img7_11 = img2vector('./testDigits/7_11.txt')"
   ]
  },
  {
   "cell_type": "code",
   "execution_count": 63,
   "metadata": {},
   "outputs": [
    {
     "data": {
      "text/plain": [
       "<matplotlib.image.AxesImage at 0x1f89caa6978>"
      ]
     },
     "execution_count": 63,
     "metadata": {},
     "output_type": "execute_result"
    },
    {
     "data": {
      "image/png": "[encoded data removed]",
      "text/plain": [
       "<Figure size 432x288 with 1 Axes>"
      ]
     },
     "metadata": {},
     "output_type": "display_data"
    }
   ],
   "source": [
    "plt.imshow(img7_11.reshape(32,32), cmap='Greys')"
   ]
  },
  {
   "cell_type": "code",
   "execution_count": 66,
   "metadata": {},
   "outputs": [],
   "source": [
    "def handwritingClassTest():\n",
    "    hwlabels = []\n",
    "    train_file_list = os.listdir('./trainingDigits/')\n",
    "    tr_len = len(train_file_list)\n",
    "    tr_matrix = np.zeros((tr_len,1024))\n",
    "    for i in range(tr_len):\n",
    "        filename =  train_file_list[i]\n",
    "        tr_label = filename.split('_')[0]\n",
    "        hwlabels.append(tr_label)\n",
    "        tr_matrix[i,:] = img2vector('./trainingDigits/{}'.format(filename))\n",
    "    \n",
    "    error_count = 0\n",
    "    \n",
    "    test_file_list = os.listdir('./testDigits/')\n",
    "    te_len = len(test_file_list)\n",
    "    for i in range(te_len):\n",
    "        filename = test_file_list[i]\n",
    "        te_label = filename.split('_')[0]\n",
    "        img_vector = img2vector('./testDigits/{}'.format(filename))\n",
    "        \n",
    "        pred_result = classify0(img_vector, tr_matrix, hwlabels, 3)\n",
    "#         print('predict: {}, True label: {}'.format(pred_result, te_label))\n",
    "        if(pred_result != te_label):\n",
    "            error_count += 1\n",
    "    print('Errer Rate: {}'.format(error_count/te_len))\n",
    "    "
   ]
  },
  {
   "cell_type": "code",
   "execution_count": 67,
   "metadata": {},
   "outputs": [
    {
     "name": "stdout",
     "output_type": "stream",
     "text": [
      "Errer Rate: 0.010570824524312896\n",
      "Wall time: 1min 29s\n"
     ]
    }
   ],
   "source": [
    "%%time\n",
    "handwritingClassTest()"
   ]
  },
  {
   "cell_type": "code",
   "execution_count": null,
   "metadata": {},
   "outputs": [],
   "source": []
  },
  {
   "cell_type": "code",
   "execution_count": null,
   "metadata": {},
   "outputs": [],
   "source": []
  }
 ],
 "metadata": {
  "colab": {
   "collapsed_sections": [
    "UnT4ihy3_gzq",
    "FtkqbQloDAm-",
    "hdhVoY0Q_8Ji",
    "3dztaMG5ACoX"
   ],
   "name": "CH02_KNN.ipynb",
   "provenance": [],
   "toc_visible": true,
   "version": "0.3.2"
  },
  "kernelspec": {
   "display_name": "Python 3",
   "language": "python",
   "name": "python3"
  },
  "language_info": {
   "codemirror_mode": {
    "name": "ipython",
    "version": 3
   },
   "file_extension": ".py",
   "mimetype": "text/x-python",
   "name": "python",
   "nbconvert_exporter": "python",
   "pygments_lexer": "ipython3",
   "version": "3.6.5"
  }
 },
 "nbformat": 4,
 "nbformat_minor": 1
}
