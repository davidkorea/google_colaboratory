{
  "nbformat": 4,
  "nbformat_minor": 0,
  "metadata": {
    "colab": {
      "name": "CH02_KNN.ipynb",
      "version": "0.3.2",
      "provenance": [],
      "collapsed_sections": [
        "FtkqbQloDAm-",
        "hdhVoY0Q_8Ji",
        "3dztaMG5ACoX"
      ],
      "toc_visible": true,
      "include_colab_link": true
    },
    "kernelspec": {
      "name": "python3",
      "display_name": "Python 3"
    }
  },
  "cells": [
    {
      "cell_type": "markdown",
      "metadata": {
        "id": "view-in-github",
        "colab_type": "text"
      },
      "source": [
        "<a href=\"https://colab.research.google.com/github/davidkorea/google_colaboratory/blob/master/CH02_KNN.ipynb\" target=\"_parent\"><img src=\"https://colab.research.google.com/assets/colab-badge.svg\" alt=\"Open In Colab\"/></a>"
      ]
    },
    {
      "metadata": {
        "id": "mB56sgqUSvs4",
        "colab_type": "code",
        "colab": {}
      },
      "cell_type": "code",
      "source": [
        "import numpy as np\n",
        "import operator\n",
        "import matplotlib.pyplot as plt\n",
        "import pandas as pd"
      ],
      "execution_count": 0,
      "outputs": []
    },
    {
      "metadata": {
        "id": "6mBYCFWiS2_c",
        "colab_type": "code",
        "colab": {}
      },
      "cell_type": "code",
      "source": [
        "def createdataset():\n",
        "  group = np.array([[1, 1.1],[1,1],[0,0],[0, 1.1]])\n",
        "  labels = ['A','A','B','B']\n",
        "  return group, labels"
      ],
      "execution_count": 0,
      "outputs": []
    },
    {
      "metadata": {
        "id": "Wz7REXerTPeb",
        "colab_type": "code",
        "colab": {}
      },
      "cell_type": "code",
      "source": [
        "group, labels = createdataset()"
      ],
      "execution_count": 0,
      "outputs": []
    },
    {
      "metadata": {
        "id": "Q8DFpStyTV_1",
        "colab_type": "code",
        "colab": {
          "base_uri": "https://localhost:8080/",
          "height": 84
        },
        "outputId": "7f5ab64c-2d89-4b70-8e43-a38fc5137b6d"
      },
      "cell_type": "code",
      "source": [
        "group"
      ],
      "execution_count": 4,
      "outputs": [
        {
          "output_type": "execute_result",
          "data": {
            "text/plain": [
              "array([[1. , 1.1],\n",
              "       [1. , 1. ],\n",
              "       [0. , 0. ],\n",
              "       [0. , 1.1]])"
            ]
          },
          "metadata": {
            "tags": []
          },
          "execution_count": 4
        }
      ]
    },
    {
      "metadata": {
        "id": "Md3Rp_7yTWxy",
        "colab_type": "code",
        "colab": {
          "base_uri": "https://localhost:8080/",
          "height": 34
        },
        "outputId": "99188cf9-8442-4026-8188-78959a7db9c7"
      },
      "cell_type": "code",
      "source": [
        "labels"
      ],
      "execution_count": 5,
      "outputs": [
        {
          "output_type": "execute_result",
          "data": {
            "text/plain": [
              "['A', 'A', 'B', 'B']"
            ]
          },
          "metadata": {
            "tags": []
          },
          "execution_count": 5
        }
      ]
    },
    {
      "metadata": {
        "id": "v9c9m_KgTX50",
        "colab_type": "code",
        "colab": {
          "base_uri": "https://localhost:8080/",
          "height": 414
        },
        "outputId": "ea5814eb-76be-4e7c-8fcd-ca8a45c8e8fc"
      },
      "cell_type": "code",
      "source": [
        "for i in range(group.shape[0]):\n",
        "  print(i, group[i][0],group[i][1],labels[i])\n",
        "  plt.scatter(group[i][0],group[i][1])\n",
        "  plt.text(group[i][0]+0.02,group[i][1]+0.02,labels[i])"
      ],
      "execution_count": 6,
      "outputs": [
        {
          "output_type": "stream",
          "text": [
            "0 1.0 1.1 A\n",
            "1 1.0 1.0 A\n",
            "2 0.0 0.0 B\n",
            "3 0.0 1.1 B\n"
          ],
          "name": "stdout"
        },
        {
          "output_type": "display_data",
          "data": {
            "image/png": "[encoded data removed]",
            "text/plain": [
              "<matplotlib.figure.Figure at 0x7f9ed39a54a8>"
            ]
          },
          "metadata": {
            "tags": []
          }
        }
      ]
    },
    {
      "metadata": {
        "id": "pTn9v6w-Tj4L",
        "colab_type": "code",
        "colab": {
          "base_uri": "https://localhost:8080/",
          "height": 166
        },
        "outputId": "a17d57b9-9d2f-4b5b-849d-4c346277b2d2"
      },
      "cell_type": "code",
      "source": [
        "df = pd.DataFrame(group, columns=['x','y'])\n",
        "df"
      ],
      "execution_count": 7,
      "outputs": [
        {
          "output_type": "execute_result",
          "data": {
            "text/html": [
              "<div>\n",
              "<style scoped>\n",
              "    .dataframe tbody tr th:only-of-type {\n",
              "        vertical-align: middle;\n",
              "    }\n",
              "\n",
              "    .dataframe tbody tr th {\n",
              "        vertical-align: top;\n",
              "    }\n",
              "\n",
              "    .dataframe thead th {\n",
              "        text-align: right;\n",
              "    }\n",
              "</style>\n",
              "<table border=\"1\" class=\"dataframe\">\n",
              "  <thead>\n",
              "    <tr style=\"text-align: right;\">\n",
              "      <th></th>\n",
              "      <th>x</th>\n",
              "      <th>y</th>\n",
              "    </tr>\n",
              "  </thead>\n",
              "  <tbody>\n",
              "    <tr>\n",
              "      <th>0</th>\n",
              "      <td>1.0</td>\n",
              "      <td>1.1</td>\n",
              "    </tr>\n",
              "    <tr>\n",
              "      <th>1</th>\n",
              "      <td>1.0</td>\n",
              "      <td>1.0</td>\n",
              "    </tr>\n",
              "    <tr>\n",
              "      <th>2</th>\n",
              "      <td>0.0</td>\n",
              "      <td>0.0</td>\n",
              "    </tr>\n",
              "    <tr>\n",
              "      <th>3</th>\n",
              "      <td>0.0</td>\n",
              "      <td>1.1</td>\n",
              "    </tr>\n",
              "  </tbody>\n",
              "</table>\n",
              "</div>"
            ],
            "text/plain": [
              "     x    y\n",
              "0  1.0  1.1\n",
              "1  1.0  1.0\n",
              "2  0.0  0.0\n",
              "3  0.0  1.1"
            ]
          },
          "metadata": {
            "tags": []
          },
          "execution_count": 7
        }
      ]
    },
    {
      "metadata": {
        "id": "dphBJjyIUiQk",
        "colab_type": "code",
        "colab": {}
      },
      "cell_type": "code",
      "source": [
        "# df = pd.concat((df,pd.Series(labels)),axis=1)"
      ],
      "execution_count": 0,
      "outputs": []
    },
    {
      "metadata": {
        "id": "HKQ-FnZhW83j",
        "colab_type": "code",
        "colab": {
          "base_uri": "https://localhost:8080/",
          "height": 166
        },
        "outputId": "a7c6817b-3ffc-4384-edc8-8498a06447e5"
      },
      "cell_type": "code",
      "source": [
        "df['label'] = pd.Series(labels)\n",
        "df"
      ],
      "execution_count": 9,
      "outputs": [
        {
          "output_type": "execute_result",
          "data": {
            "text/html": [
              "<div>\n",
              "<style scoped>\n",
              "    .dataframe tbody tr th:only-of-type {\n",
              "        vertical-align: middle;\n",
              "    }\n",
              "\n",
              "    .dataframe tbody tr th {\n",
              "        vertical-align: top;\n",
              "    }\n",
              "\n",
              "    .dataframe thead th {\n",
              "        text-align: right;\n",
              "    }\n",
              "</style>\n",
              "<table border=\"1\" class=\"dataframe\">\n",
              "  <thead>\n",
              "    <tr style=\"text-align: right;\">\n",
              "      <th></th>\n",
              "      <th>x</th>\n",
              "      <th>y</th>\n",
              "      <th>label</th>\n",
              "    </tr>\n",
              "  </thead>\n",
              "  <tbody>\n",
              "    <tr>\n",
              "      <th>0</th>\n",
              "      <td>1.0</td>\n",
              "      <td>1.1</td>\n",
              "      <td>A</td>\n",
              "    </tr>\n",
              "    <tr>\n",
              "      <th>1</th>\n",
              "      <td>1.0</td>\n",
              "      <td>1.0</td>\n",
              "      <td>A</td>\n",
              "    </tr>\n",
              "    <tr>\n",
              "      <th>2</th>\n",
              "      <td>0.0</td>\n",
              "      <td>0.0</td>\n",
              "      <td>B</td>\n",
              "    </tr>\n",
              "    <tr>\n",
              "      <th>3</th>\n",
              "      <td>0.0</td>\n",
              "      <td>1.1</td>\n",
              "      <td>B</td>\n",
              "    </tr>\n",
              "  </tbody>\n",
              "</table>\n",
              "</div>"
            ],
            "text/plain": [
              "     x    y label\n",
              "0  1.0  1.1     A\n",
              "1  1.0  1.0     A\n",
              "2  0.0  0.0     B\n",
              "3  0.0  1.1     B"
            ]
          },
          "metadata": {
            "tags": []
          },
          "execution_count": 9
        }
      ]
    },
    {
      "metadata": {
        "id": "vm1pgjyvYt08",
        "colab_type": "code",
        "colab": {
          "base_uri": "https://localhost:8080/",
          "height": 166
        },
        "outputId": "ddec46b3-e28a-4e93-cd3d-1dfcf6fffb6c"
      },
      "cell_type": "code",
      "source": [
        "df['cate'] = df['label'].apply(lambda x:0 if x=='A' else 1)\n",
        "df"
      ],
      "execution_count": 10,
      "outputs": [
        {
          "output_type": "execute_result",
          "data": {
            "text/html": [
              "<div>\n",
              "<style scoped>\n",
              "    .dataframe tbody tr th:only-of-type {\n",
              "        vertical-align: middle;\n",
              "    }\n",
              "\n",
              "    .dataframe tbody tr th {\n",
              "        vertical-align: top;\n",
              "    }\n",
              "\n",
              "    .dataframe thead th {\n",
              "        text-align: right;\n",
              "    }\n",
              "</style>\n",
              "<table border=\"1\" class=\"dataframe\">\n",
              "  <thead>\n",
              "    <tr style=\"text-align: right;\">\n",
              "      <th></th>\n",
              "      <th>x</th>\n",
              "      <th>y</th>\n",
              "      <th>label</th>\n",
              "      <th>cate</th>\n",
              "    </tr>\n",
              "  </thead>\n",
              "  <tbody>\n",
              "    <tr>\n",
              "      <th>0</th>\n",
              "      <td>1.0</td>\n",
              "      <td>1.1</td>\n",
              "      <td>A</td>\n",
              "      <td>0</td>\n",
              "    </tr>\n",
              "    <tr>\n",
              "      <th>1</th>\n",
              "      <td>1.0</td>\n",
              "      <td>1.0</td>\n",
              "      <td>A</td>\n",
              "      <td>0</td>\n",
              "    </tr>\n",
              "    <tr>\n",
              "      <th>2</th>\n",
              "      <td>0.0</td>\n",
              "      <td>0.0</td>\n",
              "      <td>B</td>\n",
              "      <td>1</td>\n",
              "    </tr>\n",
              "    <tr>\n",
              "      <th>3</th>\n",
              "      <td>0.0</td>\n",
              "      <td>1.1</td>\n",
              "      <td>B</td>\n",
              "      <td>1</td>\n",
              "    </tr>\n",
              "  </tbody>\n",
              "</table>\n",
              "</div>"
            ],
            "text/plain": [
              "     x    y label  cate\n",
              "0  1.0  1.1     A     0\n",
              "1  1.0  1.0     A     0\n",
              "2  0.0  0.0     B     1\n",
              "3  0.0  1.1     B     1"
            ]
          },
          "metadata": {
            "tags": []
          },
          "execution_count": 10
        }
      ]
    },
    {
      "metadata": {
        "id": "N-rca3xvXzn7",
        "colab_type": "code",
        "colab": {
          "base_uri": "https://localhost:8080/",
          "height": 347
        },
        "outputId": "e2691c5b-87f2-4356-bf44-bec69376d0d6"
      },
      "cell_type": "code",
      "source": [
        "plt.scatter(df.x,df.y,c=df.cate, cmap='coolwarm') # str cannot be used as 'c' value\n",
        "for i in range(df.shape[0]):\n",
        "  plt.text(df.x[i]+0.01,df.y[i]+0.01,df.label[i])"
      ],
      "execution_count": 11,
      "outputs": [
        {
          "output_type": "display_data",
          "data": {
            "image/png": "[encoded data removed]",
            "text/plain": [
              "<matplotlib.figure.Figure at 0x7f9ed0c01f98>"
            ]
          },
          "metadata": {
            "tags": []
          }
        }
      ]
    },
    {
      "metadata": {
        "id": "Ly4OgJh9aR6C",
        "colab_type": "text"
      },
      "cell_type": "markdown",
      "source": [
        "## 2-1 KNN Algorithm"
      ]
    },
    {
      "metadata": {
        "id": "KfapFWiWYjpG",
        "colab_type": "code",
        "colab": {
          "base_uri": "https://localhost:8080/",
          "height": 34
        },
        "outputId": "4cfac731-e804-4b18-a918-0173a5b2b08d"
      },
      "cell_type": "code",
      "source": [
        "def classify0(inX, dataset, labels, k):\n",
        "  dataset_row = dataset.shape[0]\n",
        "  diff = np.tile(inX, (dataset_row,1)) - dataset # only copy row, cuz input vector has same dim as dataset\n",
        "  # each sample in dataset will - input vector, so copy input as the shape of dataset  \n",
        "  sqdiff = diff**2\n",
        "  sum_sqdiff = sqdiff.sum(axis=1) # sqdiff.sum() add all elements in matrix\n",
        "  distance = sum_sqdiff**0.5\n",
        "  sort_distance_idx = distance.argsort() # can not use sorted(distance) \n",
        "  vote_label = {}\n",
        "  for i in range(k):\n",
        "    label = labels[ sort_distance_idx[i] ]    \n",
        "    vote_label[label] = vote_label.get(label,0)+1\n",
        "#     print(label)\n",
        "  sort_vote_label = sorted(vote_label.items(), key=lambda x : x[1], reverse=True)\n",
        "#   print(vote_label,sort_vote_label)\n",
        "#   print(sqdiff, '\\n', sum_sqdiff, '\\n',sqdiff.sum(), '\\n',distance)\n",
        "#   print(sort_distance_idx,)\n",
        "\n",
        "  return sort_vote_label[0][0]\n",
        "\n",
        "\n",
        "classify0([0,0], group, labels, 3)"
      ],
      "execution_count": 12,
      "outputs": [
        {
          "output_type": "execute_result",
          "data": {
            "text/plain": [
              "'B'"
            ]
          },
          "metadata": {
            "tags": []
          },
          "execution_count": 12
        }
      ]
    },
    {
      "metadata": {
        "id": "NSe0ftN9d6e0",
        "colab_type": "code",
        "colab": {}
      },
      "cell_type": "code",
      "source": [
        ""
      ],
      "execution_count": 0,
      "outputs": []
    },
    {
      "metadata": {
        "id": "ciJsClnKkuoF",
        "colab_type": "text"
      },
      "cell_type": "markdown",
      "source": [
        "- **np.tile()**"
      ]
    },
    {
      "metadata": {
        "id": "_mq_zcnjal3y",
        "colab_type": "code",
        "colab": {
          "base_uri": "https://localhost:8080/",
          "height": 50
        },
        "outputId": "72acd4ef-288f-4475-f098-4666f35c5aa1"
      },
      "cell_type": "code",
      "source": [
        "np.tile(['a','b'],(2,2))"
      ],
      "execution_count": 13,
      "outputs": [
        {
          "output_type": "execute_result",
          "data": {
            "text/plain": [
              "array([['a', 'b', 'a', 'b'],\n",
              "       ['a', 'b', 'a', 'b']], dtype='<U1')"
            ]
          },
          "metadata": {
            "tags": []
          },
          "execution_count": 13
        }
      ]
    },
    {
      "metadata": {
        "id": "jwXJyUbLa5cC",
        "colab_type": "code",
        "colab": {}
      },
      "cell_type": "code",
      "source": [
        ""
      ],
      "execution_count": 0,
      "outputs": []
    },
    {
      "metadata": {
        "id": "B1jebVRolCiN",
        "colab_type": "text"
      },
      "cell_type": "markdown",
      "source": [
        "- **dict.get()**"
      ]
    },
    {
      "metadata": {
        "id": "zXOk8li6c5Wa",
        "colab_type": "code",
        "colab": {}
      },
      "cell_type": "code",
      "source": [
        "a = {'x':1,'y':2}"
      ],
      "execution_count": 0,
      "outputs": []
    },
    {
      "metadata": {
        "id": "WmfWCgUShO7q",
        "colab_type": "code",
        "colab": {
          "base_uri": "https://localhost:8080/",
          "height": 34
        },
        "outputId": "dff375ae-86de-4504-e741-dbdbabf53133"
      },
      "cell_type": "code",
      "source": [
        "a.get('z',0)"
      ],
      "execution_count": 15,
      "outputs": [
        {
          "output_type": "execute_result",
          "data": {
            "text/plain": [
              "0"
            ]
          },
          "metadata": {
            "tags": []
          },
          "execution_count": 15
        }
      ]
    },
    {
      "metadata": {
        "id": "2cZ9-1BmhQAj",
        "colab_type": "code",
        "colab": {
          "base_uri": "https://localhost:8080/",
          "height": 34
        },
        "outputId": "aea359f7-3f76-4ab6-af1e-5a35928eff27"
      },
      "cell_type": "code",
      "source": [
        "a['z'] = a.get('z',0)\n",
        "a"
      ],
      "execution_count": 16,
      "outputs": [
        {
          "output_type": "execute_result",
          "data": {
            "text/plain": [
              "{'x': 1, 'y': 2, 'z': 0}"
            ]
          },
          "metadata": {
            "tags": []
          },
          "execution_count": 16
        }
      ]
    },
    {
      "metadata": {
        "id": "UnT4ihy3_gzq",
        "colab_type": "text"
      },
      "cell_type": "markdown",
      "source": [
        "## Install pydrive to manipulate google drive"
      ]
    },
    {
      "metadata": {
        "id": "FtkqbQloDAm-",
        "colab_type": "text"
      },
      "cell_type": "markdown",
      "source": [
        "###Install"
      ]
    },
    {
      "metadata": {
        "id": "NPICUUvEhnN3",
        "colab_type": "code",
        "colab": {
          "base_uri": "https://localhost:8080/",
          "height": 319
        },
        "outputId": "1710a859-241b-4566-ea07-e8c34befd6f1"
      },
      "cell_type": "code",
      "source": [
        "!pip install pydrive"
      ],
      "execution_count": 17,
      "outputs": [
        {
          "output_type": "stream",
          "text": [
            "Collecting pydrive\n",
            "\u001b[?25l  Downloading https://files.pythonhosted.org/packages/52/e0/0e64788e5dd58ce2d6934549676243dc69d982f198524be9b99e9c2a4fd5/PyDrive-1.3.1.tar.gz (987kB)\n",
            "\u001b[K    100% |████████████████████████████████| 993kB 20.7MB/s \n",
            "\u001b[?25hRequirement already satisfied: google-api-python-client>=1.2 in /usr/local/lib/python3.6/dist-packages (from pydrive) (1.6.7)\n",
            "Requirement already satisfied: oauth2client>=4.0.0 in /usr/local/lib/python3.6/dist-packages (from pydrive) (4.1.3)\n",
            "Requirement already satisfied: PyYAML>=3.0 in /usr/local/lib/python3.6/dist-packages (from pydrive) (3.13)\n",
            "Requirement already satisfied: httplib2<1dev,>=0.9.2 in /usr/local/lib/python3.6/dist-packages (from google-api-python-client>=1.2->pydrive) (0.11.3)\n",
            "Requirement already satisfied: uritemplate<4dev,>=3.0.0 in /usr/local/lib/python3.6/dist-packages (from google-api-python-client>=1.2->pydrive) (3.0.0)\n",
            "Requirement already satisfied: six<2dev,>=1.6.1 in /usr/local/lib/python3.6/dist-packages (from google-api-python-client>=1.2->pydrive) (1.11.0)\n",
            "Requirement already satisfied: pyasn1-modules>=0.0.5 in /usr/local/lib/python3.6/dist-packages (from oauth2client>=4.0.0->pydrive) (0.2.2)\n",
            "Requirement already satisfied: pyasn1>=0.1.7 in /usr/local/lib/python3.6/dist-packages (from oauth2client>=4.0.0->pydrive) (0.4.4)\n",
            "Requirement already satisfied: rsa>=3.1.4 in /usr/local/lib/python3.6/dist-packages (from oauth2client>=4.0.0->pydrive) (4.0)\n",
            "Building wheels for collected packages: pydrive\n",
            "  Running setup.py bdist_wheel for pydrive ... \u001b[?25l-\b \bdone\n",
            "\u001b[?25h  Stored in directory: /root/.cache/pip/wheels/fa/d2/9a/d3b6b506c2da98289e5d417215ce34b696db856643bad779f4\n",
            "Successfully built pydrive\n",
            "Installing collected packages: pydrive\n",
            "Successfully installed pydrive-1.3.1\n"
          ],
          "name": "stdout"
        }
      ]
    },
    {
      "metadata": {
        "id": "uC3x5erU5Yi7",
        "colab_type": "code",
        "colab": {}
      },
      "cell_type": "code",
      "source": [
        "from pydrive.auth import GoogleAuth\n",
        "from pydrive.drive import GoogleDrive\n",
        "from google.colab import auth\n",
        "from oauth2client.client import GoogleCredentials"
      ],
      "execution_count": 0,
      "outputs": []
    },
    {
      "metadata": {
        "id": "Bp1nvj-r5kMD",
        "colab_type": "code",
        "colab": {}
      },
      "cell_type": "code",
      "source": [
        "auth.authenticate_user()\n",
        "gauth = GoogleAuth()\n",
        "gauth.credentials = GoogleCredentials.get_application_default()\n",
        "drive = GoogleDrive(gauth)"
      ],
      "execution_count": 0,
      "outputs": []
    },
    {
      "metadata": {
        "id": "FisPKWwa5nZB",
        "colab_type": "code",
        "colab": {
          "base_uri": "https://localhost:8080/",
          "height": 34
        },
        "outputId": "8c4ffa5b-b4c3-49dd-8446-25d864face38"
      },
      "cell_type": "code",
      "source": [
        "!ls"
      ],
      "execution_count": 20,
      "outputs": [
        {
          "output_type": "stream",
          "text": [
            "adc.json  sample_data\n"
          ],
          "name": "stdout"
        }
      ]
    },
    {
      "metadata": {
        "id": "7z0CBWx550zh",
        "colab_type": "code",
        "colab": {
          "base_uri": "https://localhost:8080/",
          "height": 34
        },
        "outputId": "b6e5b7f3-4ef5-4e18-80a7-32022b54398a"
      },
      "cell_type": "code",
      "source": [
        "!pwd"
      ],
      "execution_count": 21,
      "outputs": [
        {
          "output_type": "stream",
          "text": [
            "/content\n"
          ],
          "name": "stdout"
        }
      ]
    },
    {
      "metadata": {
        "id": "Rlio5VZg54p0",
        "colab_type": "code",
        "colab": {}
      },
      "cell_type": "code",
      "source": [
        "!cd .."
      ],
      "execution_count": 0,
      "outputs": []
    },
    {
      "metadata": {
        "id": "OR5k__2o6aOj",
        "colab_type": "code",
        "colab": {
          "base_uri": "https://localhost:8080/",
          "height": 34
        },
        "outputId": "3fe5f5d4-400f-433e-e41f-e1a719e7b5fa"
      },
      "cell_type": "code",
      "source": [
        "!pwd"
      ],
      "execution_count": 23,
      "outputs": [
        {
          "output_type": "stream",
          "text": [
            "/content\n"
          ],
          "name": "stdout"
        }
      ]
    },
    {
      "metadata": {
        "id": "hdhVoY0Q_8Ji",
        "colab_type": "text"
      },
      "cell_type": "markdown",
      "source": [
        "### Get root files id"
      ]
    },
    {
      "metadata": {
        "id": "J9zepQRM6bwi",
        "colab_type": "code",
        "colab": {}
      },
      "cell_type": "code",
      "source": [
        "file_list = drive.ListFile({'q': \"'root' in parents and trashed=false\"}).GetList() # q = query/search"
      ],
      "execution_count": 0,
      "outputs": []
    },
    {
      "metadata": {
        "id": "q38rji0W6pnB",
        "colab_type": "code",
        "colab": {
          "base_uri": "https://localhost:8080/",
          "height": 339
        },
        "outputId": "32697e79-f6cc-494a-fdfc-d081d83f594e"
      },
      "cell_type": "code",
      "source": [
        "for file in file_list:\n",
        "  print(file)\n",
        "  print('\\n title: %s,\\n id: %s,\\n mimeType: %s \\n' % (file['title'], file['id'], file[\"mimeType\"]))"
      ],
      "execution_count": 25,
      "outputs": [
        {
          "output_type": "stream",
          "text": [
            "GoogleDriveFile({'kind': 'drive#file', 'id': '1UW1Jn-a0w4cDefsupur_7tbiT1HTlUy_', 'etag': '\"omwGuTP8OdxhZkubyp-j43cFdJQ/MTU0MDkwODI5MTE0MA\"', 'selfLink': 'https://www.googleapis.com/drive/v2/files/1UW1Jn-a0w4cDefsupur_7tbiT1HTlUy_', 'alternateLink': 'https://drive.google.com/drive/folders/1UW1Jn-a0w4cDefsupur_7tbiT1HTlUy_', 'embedLink': 'https://drive.google.com/embeddedfolderview?id=1UW1Jn-a0w4cDefsupur_7tbiT1HTlUy_', 'iconLink': 'https://drive-thirdparty.googleusercontent.com/16/type/application/vnd.google-apps.folder', 'title': 'ML_inAction', 'mimeType': 'application/vnd.google-apps.folder', 'labels': {'starred': False, 'hidden': False, 'trashed': False, 'restricted': False, 'viewed': True}, 'copyRequiresWriterPermission': False, 'createdDate': '2018-10-30T14:04:51.140Z', 'modifiedDate': '2018-10-30T14:04:51.140Z', 'modifiedByMeDate': '2018-10-30T14:04:51.140Z', 'lastViewedByMeDate': '2018-11-04T03:52:24.894Z', 'markedViewedByMeDate': '1970-01-01T00:00:00.000Z', 'version': '9', 'parents': [{'kind': 'drive#parentReference', 'id': '0ACbZTjg0nPmRUk9PVA', 'selfLink': 'https://www.googleapis.com/drive/v2/files/1UW1Jn-a0w4cDefsupur_7tbiT1HTlUy_/parents/0ACbZTjg0nPmRUk9PVA', 'parentLink': 'https://www.googleapis.com/drive/v2/files/0ACbZTjg0nPmRUk9PVA', 'isRoot': True}], 'userPermission': {'kind': 'drive#permission', 'etag': '\"omwGuTP8OdxhZkubyp-j43cFdJQ/IXb2LsWYP7GrHTRxwzPfAxdtuw4\"', 'id': 'me', 'selfLink': 'https://www.googleapis.com/drive/v2/files/1UW1Jn-a0w4cDefsupur_7tbiT1HTlUy_/permissions/me', 'role': 'owner', 'type': 'user'}, 'quotaBytesUsed': '0', 'ownerNames': ['David L'], 'owners': [{'kind': 'drive#user', 'displayName': 'David L', 'isAuthenticatedUser': True, 'permissionId': '07265660990671741313', 'emailAddress': 'davidkorea.ly@gmail.com'}], 'lastModifyingUserName': 'David L', 'lastModifyingUser': {'kind': 'drive#user', 'displayName': 'David L', 'isAuthenticatedUser': True, 'permissionId': '07265660990671741313', 'emailAddress': 'davidkorea.ly@gmail.com'}, 'capabilities': {'canCopy': False, 'canEdit': True}, 'editable': True, 'copyable': False, 'writersCanShare': True, 'shared': False, 'explicitlyTrashed': False, 'appDataContents': False, 'spaces': ['drive']})\n",
            "\n",
            " title: ML_inAction,\n",
            " id: 1UW1Jn-a0w4cDefsupur_7tbiT1HTlUy_,\n",
            " mimeType: application/vnd.google-apps.folder \n",
            "\n",
            "GoogleDriveFile({'kind': 'drive#file', 'id': '1DdLrmMyePwwPRAIDiI4k2G3VpbpOSJQ1', 'etag': '\"omwGuTP8OdxhZkubyp-j43cFdJQ/MTU0MDc4MzQ2MzI3MQ\"', 'selfLink': 'https://www.googleapis.com/drive/v2/files/1DdLrmMyePwwPRAIDiI4k2G3VpbpOSJQ1', 'alternateLink': 'https://drive.google.com/drive/folders/1DdLrmMyePwwPRAIDiI4k2G3VpbpOSJQ1', 'embedLink': 'https://drive.google.com/embeddedfolderview?id=1DdLrmMyePwwPRAIDiI4k2G3VpbpOSJQ1', 'iconLink': 'https://drive-thirdparty.googleusercontent.com/16/type/application/vnd.google-apps.folder', 'title': 'cs224n_ass1', 'mimeType': 'application/vnd.google-apps.folder', 'labels': {'starred': False, 'hidden': False, 'trashed': False, 'restricted': False, 'viewed': True}, 'copyRequiresWriterPermission': False, 'createdDate': '2018-10-29T03:24:23.271Z', 'modifiedDate': '2018-10-29T03:24:23.271Z', 'modifiedByMeDate': '2018-10-29T03:24:23.271Z', 'lastViewedByMeDate': '2018-11-03T14:11:37.398Z', 'markedViewedByMeDate': '1970-01-01T00:00:00.000Z', 'version': '5', 'parents': [{'kind': 'drive#parentReference', 'id': '0ACbZTjg0nPmRUk9PVA', 'selfLink': 'https://www.googleapis.com/drive/v2/files/1DdLrmMyePwwPRAIDiI4k2G3VpbpOSJQ1/parents/0ACbZTjg0nPmRUk9PVA', 'parentLink': 'https://www.googleapis.com/drive/v2/files/0ACbZTjg0nPmRUk9PVA', 'isRoot': True}], 'userPermission': {'kind': 'drive#permission', 'etag': '\"omwGuTP8OdxhZkubyp-j43cFdJQ/J_UcijPeK80PFahxWe702wXYW-M\"', 'id': 'me', 'selfLink': 'https://www.googleapis.com/drive/v2/files/1DdLrmMyePwwPRAIDiI4k2G3VpbpOSJQ1/permissions/me', 'role': 'owner', 'type': 'user'}, 'quotaBytesUsed': '0', 'ownerNames': ['David L'], 'owners': [{'kind': 'drive#user', 'displayName': 'David L', 'isAuthenticatedUser': True, 'permissionId': '07265660990671741313', 'emailAddress': 'davidkorea.ly@gmail.com'}], 'lastModifyingUserName': 'David L', 'lastModifyingUser': {'kind': 'drive#user', 'displayName': 'David L', 'isAuthenticatedUser': True, 'permissionId': '07265660990671741313', 'emailAddress': 'davidkorea.ly@gmail.com'}, 'capabilities': {'canCopy': False, 'canEdit': True}, 'editable': True, 'copyable': False, 'writersCanShare': True, 'shared': False, 'explicitlyTrashed': False, 'appDataContents': False, 'spaces': ['drive']})\n",
            "\n",
            " title: cs224n_ass1,\n",
            " id: 1DdLrmMyePwwPRAIDiI4k2G3VpbpOSJQ1,\n",
            " mimeType: application/vnd.google-apps.folder \n",
            "\n",
            "GoogleDriveFile({'kind': 'drive#file', 'id': '14QCJhuHbsSXs4IfFfeNQaJhuVT0R1-2p', 'etag': '\"omwGuTP8OdxhZkubyp-j43cFdJQ/MTUzNjU0ODMxMDI3MA\"', 'selfLink': 'https://www.googleapis.com/drive/v2/files/14QCJhuHbsSXs4IfFfeNQaJhuVT0R1-2p', 'alternateLink': 'https://drive.google.com/drive/folders/14QCJhuHbsSXs4IfFfeNQaJhuVT0R1-2p', 'embedLink': 'https://drive.google.com/embeddedfolderview?id=14QCJhuHbsSXs4IfFfeNQaJhuVT0R1-2p', 'iconLink': 'https://drive-thirdparty.googleusercontent.com/16/type/application/vnd.google-apps.folder+31', 'title': 'Colab Notebooks', 'mimeType': 'application/vnd.google-apps.folder', 'labels': {'starred': False, 'hidden': False, 'trashed': False, 'restricted': False, 'viewed': True}, 'copyRequiresWriterPermission': False, 'createdDate': '2018-09-10T02:58:30.270Z', 'modifiedDate': '2018-09-10T02:58:30.270Z', 'modifiedByMeDate': '2018-09-10T02:58:30.270Z', 'lastViewedByMeDate': '2018-11-03T14:11:35.094Z', 'markedViewedByMeDate': '1970-01-01T00:00:00.000Z', 'version': '16', 'parents': [{'kind': 'drive#parentReference', 'id': '0ACbZTjg0nPmRUk9PVA', 'selfLink': 'https://www.googleapis.com/drive/v2/files/14QCJhuHbsSXs4IfFfeNQaJhuVT0R1-2p/parents/0ACbZTjg0nPmRUk9PVA', 'parentLink': 'https://www.googleapis.com/drive/v2/files/0ACbZTjg0nPmRUk9PVA', 'isRoot': True}], 'userPermission': {'kind': 'drive#permission', 'etag': '\"omwGuTP8OdxhZkubyp-j43cFdJQ/aKTlyUsqpYwEqh36Uz5RHV4N_i8\"', 'id': 'me', 'selfLink': 'https://www.googleapis.com/drive/v2/files/14QCJhuHbsSXs4IfFfeNQaJhuVT0R1-2p/permissions/me', 'role': 'owner', 'type': 'user'}, 'quotaBytesUsed': '0', 'ownerNames': ['David L'], 'owners': [{'kind': 'drive#user', 'displayName': 'David L', 'isAuthenticatedUser': True, 'permissionId': '07265660990671741313', 'emailAddress': 'davidkorea.ly@gmail.com'}], 'lastModifyingUserName': 'David L', 'lastModifyingUser': {'kind': 'drive#user', 'displayName': 'David L', 'isAuthenticatedUser': True, 'permissionId': '07265660990671741313', 'emailAddress': 'davidkorea.ly@gmail.com'}, 'capabilities': {'canCopy': False, 'canEdit': True}, 'editable': True, 'copyable': False, 'writersCanShare': True, 'shared': False, 'explicitlyTrashed': False, 'appDataContents': False, 'spaces': ['drive']})\n",
            "\n",
            " title: Colab Notebooks,\n",
            " id: 14QCJhuHbsSXs4IfFfeNQaJhuVT0R1-2p,\n",
            " mimeType: application/vnd.google-apps.folder \n",
            "\n"
          ],
          "name": "stdout"
        }
      ]
    },
    {
      "metadata": {
        "id": "3dztaMG5ACoX",
        "colab_type": "text"
      },
      "cell_type": "markdown",
      "source": [
        "### Go to subfolder with same command above"
      ]
    },
    {
      "metadata": {
        "id": "fH2X78N29Ib6",
        "colab_type": "code",
        "colab": {
          "base_uri": "https://localhost:8080/",
          "height": 185
        },
        "outputId": "4d1ce7cc-200b-4c3e-e0bc-2688e901f4e2"
      },
      "cell_type": "code",
      "source": [
        "# 1UW1Jn-a0w4cDefsupur_7tbiT1HTlUy_\n",
        "ML_inAction_list = drive.ListFile({'q': \"'1UW1Jn-a0w4cDefsupur_7tbiT1HTlUy_' in parents and trashed=false\"}).GetList()\n",
        "for file in ML_inAction_list:\n",
        "  print('\\n title: %s,\\n id: %s,\\n mimeType: %s \\n' % (file['title'], file['id'], file[\"mimeType\"]))"
      ],
      "execution_count": 26,
      "outputs": [
        {
          "output_type": "stream",
          "text": [
            "\n",
            " title: CH02_KNN.ipynb,\n",
            " id: 15Vo7Pq3DswVu8wypdtcF6DD30-iPd-KH,\n",
            " mimeType: application/vnd.google.colaboratory \n",
            "\n",
            "\n",
            " title: datingTestSet2.txt,\n",
            " id: 17B8sLs13NajyXqUsFsS_R2x8vy6AJtHd,\n",
            " mimeType: text/plain \n",
            "\n"
          ],
          "name": "stdout"
        }
      ]
    },
    {
      "metadata": {
        "id": "CeySUTbUARrR",
        "colab_type": "text"
      },
      "cell_type": "markdown",
      "source": [
        "### Read an existed file"
      ]
    },
    {
      "metadata": {
        "id": "PxXvzRx2-eVR",
        "colab_type": "code",
        "colab": {
          "base_uri": "https://localhost:8080/",
          "height": 70
        },
        "outputId": "2c859a0e-8fe8-4558-9333-f2bfb86f1d87"
      },
      "cell_type": "code",
      "source": [
        "file = drive.CreateFile({'id': \"17B8sLs13NajyXqUsFsS_R2x8vy6AJtHd\"})\n",
        "file.GetContentFile('datingTestSet2.txt','text/plain') \n",
        "with open('datingTestSet2.txt') as f:\n",
        "  print(f)\n",
        "  print(f.readlines())\n"
      ],
      "execution_count": 27,
      "outputs": [
        {
          "output_type": "stream",
          "text": [
            "<_io.TextIOWrapper name='datingTestSet2.txt' mode='r' encoding='UTF-8'>\n",
            "['40920\\t8.326976\\t0.953952\\t3\\n', '14488\\t7.153469\\t1.673904\\t2\\n', '26052\\t1.441871\\t0.805124\\t1\\n', '75136\\t13.147394\\t0.428964\\t1\\n', '38344\\t1.669788\\t0.134296\\t1\\n', '72993\\t10.141740\\t1.032955\\t1\\n', '35948\\t6.830792\\t1.213192\\t3\\n', '42666\\t13.276369\\t0.543880\\t3\\n', '67497\\t8.631577\\t0.749278\\t1\\n', '35483\\t12.273169\\t1.508053\\t3\\n', '50242\\t3.723498\\t0.831917\\t1\\n', '63275\\t8.385879\\t1.669485\\t1\\n', '5569\\t4.875435\\t0.728658\\t2\\n', '51052\\t4.680098\\t0.625224\\t1\\n', '77372\\t15.299570\\t0.331351\\t1\\n', '43673\\t1.889461\\t0.191283\\t1\\n', '61364\\t7.516754\\t1.269164\\t1\\n', '69673\\t14.239195\\t0.261333\\t1\\n', '15669\\t0.000000\\t1.250185\\t2\\n', '28488\\t10.528555\\t1.304844\\t3\\n', '6487\\t3.540265\\t0.822483\\t2\\n', '37708\\t2.991551\\t0.833920\\t1\\n', '22620\\t5.297865\\t0.638306\\t2\\n', '28782\\t6.593803\\t0.187108\\t3\\n', '19739\\t2.816760\\t1.686209\\t2\\n', '36788\\t12.458258\\t0.649617\\t3\\n', '5741\\t0.000000\\t1.656418\\t2\\n', '28567\\t9.968648\\t0.731232\\t3\\n', '6808\\t1.364838\\t0.640103\\t2\\n', '41611\\t0.230453\\t1.151996\\t1\\n', '36661\\t11.865402\\t0.882810\\t3\\n', '43605\\t0.120460\\t1.352013\\t1\\n', '15360\\t8.545204\\t1.340429\\t3\\n', '63796\\t5.856649\\t0.160006\\t1\\n', '10743\\t9.665618\\t0.778626\\t2\\n', '70808\\t9.778763\\t1.084103\\t1\\n', '72011\\t4.932976\\t0.632026\\t1\\n', '5914\\t2.216246\\t0.587095\\t2\\n', '14851\\t14.305636\\t0.632317\\t3\\n', '33553\\t12.591889\\t0.686581\\t3\\n', '44952\\t3.424649\\t1.004504\\t1\\n', '17934\\t0.000000\\t0.147573\\t2\\n', '27738\\t8.533823\\t0.205324\\t3\\n', '29290\\t9.829528\\t0.238620\\t3\\n', '42330\\t11.492186\\t0.263499\\t3\\n', '36429\\t3.570968\\t0.832254\\t1\\n', '39623\\t1.771228\\t0.207612\\t1\\n', '32404\\t3.513921\\t0.991854\\t1\\n', '27268\\t4.398172\\t0.975024\\t1\\n', '5477\\t4.276823\\t1.174874\\t2\\n', '14254\\t5.946014\\t1.614244\\t2\\n', '68613\\t13.798970\\t0.724375\\t1\\n', '41539\\t10.393591\\t1.663724\\t3\\n', '7917\\t3.007577\\t0.297302\\t2\\n', '21331\\t1.031938\\t0.486174\\t2\\n', '8338\\t4.751212\\t0.064693\\t2\\n', '5176\\t3.692269\\t1.655113\\t2\\n', '18983\\t10.448091\\t0.267652\\t3\\n', '68837\\t10.585786\\t0.329557\\t1\\n', '13438\\t1.604501\\t0.069064\\t2\\n', '48849\\t3.679497\\t0.961466\\t1\\n', '12285\\t3.795146\\t0.696694\\t2\\n', '7826\\t2.531885\\t1.659173\\t2\\n', '5565\\t9.733340\\t0.977746\\t2\\n', '10346\\t6.093067\\t1.413798\\t2\\n', '1823\\t7.712960\\t1.054927\\t2\\n', '9744\\t11.470364\\t0.760461\\t3\\n', '16857\\t2.886529\\t0.934416\\t2\\n', '39336\\t10.054373\\t1.138351\\t3\\n', '65230\\t9.972470\\t0.881876\\t1\\n', '2463\\t2.335785\\t1.366145\\t2\\n', '27353\\t11.375155\\t1.528626\\t3\\n', '16191\\t0.000000\\t0.605619\\t2\\n', '12258\\t4.126787\\t0.357501\\t2\\n', '42377\\t6.319522\\t1.058602\\t1\\n', '25607\\t8.680527\\t0.086955\\t3\\n', '77450\\t14.856391\\t1.129823\\t1\\n', '58732\\t2.454285\\t0.222380\\t1\\n', '46426\\t7.292202\\t0.548607\\t3\\n', '32688\\t8.745137\\t0.857348\\t3\\n', '64890\\t8.579001\\t0.683048\\t1\\n', '8554\\t2.507302\\t0.869177\\t2\\n', '28861\\t11.415476\\t1.505466\\t3\\n', '42050\\t4.838540\\t1.680892\\t1\\n', '32193\\t10.339507\\t0.583646\\t3\\n', '64895\\t6.573742\\t1.151433\\t1\\n', '2355\\t6.539397\\t0.462065\\t2\\n', '0\\t2.209159\\t0.723567\\t2\\n', '70406\\t11.196378\\t0.836326\\t1\\n', '57399\\t4.229595\\t0.128253\\t1\\n', '41732\\t9.505944\\t0.005273\\t3\\n', '11429\\t8.652725\\t1.348934\\t3\\n', '75270\\t17.101108\\t0.490712\\t1\\n', '5459\\t7.871839\\t0.717662\\t2\\n', '73520\\t8.262131\\t1.361646\\t1\\n', '40279\\t9.015635\\t1.658555\\t3\\n', '21540\\t9.215351\\t0.806762\\t3\\n', '17694\\t6.375007\\t0.033678\\t2\\n', '22329\\t2.262014\\t1.022169\\t1\\n', '46570\\t5.677110\\t0.709469\\t1\\n', '42403\\t11.293017\\t0.207976\\t3\\n', '33654\\t6.590043\\t1.353117\\t1\\n', '9171\\t4.711960\\t0.194167\\t2\\n', '28122\\t8.768099\\t1.108041\\t3\\n', '34095\\t11.502519\\t0.545097\\t3\\n', '1774\\t4.682812\\t0.578112\\t2\\n', '40131\\t12.446578\\t0.300754\\t3\\n', '13994\\t12.908384\\t1.657722\\t3\\n', '77064\\t12.601108\\t0.974527\\t1\\n', '11210\\t3.929456\\t0.025466\\t2\\n', '6122\\t9.751503\\t1.182050\\t3\\n', '15341\\t3.043767\\t0.888168\\t2\\n', '44373\\t4.391522\\t0.807100\\t1\\n', '28454\\t11.695276\\t0.679015\\t3\\n', '63771\\t7.879742\\t0.154263\\t1\\n', '9217\\t5.613163\\t0.933632\\t2\\n', '69076\\t9.140172\\t0.851300\\t1\\n', '24489\\t4.258644\\t0.206892\\t1\\n', '16871\\t6.799831\\t1.221171\\t2\\n', '39776\\t8.752758\\t0.484418\\t3\\n', '5901\\t1.123033\\t1.180352\\t2\\n', '40987\\t10.833248\\t1.585426\\t3\\n', '7479\\t3.051618\\t0.026781\\t2\\n', '38768\\t5.308409\\t0.030683\\t3\\n', '4933\\t1.841792\\t0.028099\\t2\\n', '32311\\t2.261978\\t1.605603\\t1\\n', '26501\\t11.573696\\t1.061347\\t3\\n', '37433\\t8.038764\\t1.083910\\t3\\n', '23503\\t10.734007\\t0.103715\\t3\\n', '68607\\t9.661909\\t0.350772\\t1\\n', '27742\\t9.005850\\t0.548737\\t3\\n', '11303\\t0.000000\\t0.539131\\t2\\n', '0\\t5.757140\\t1.062373\\t2\\n', '32729\\t9.164656\\t1.624565\\t3\\n', '24619\\t1.318340\\t1.436243\\t1\\n', '42414\\t14.075597\\t0.695934\\t3\\n', '20210\\t10.107550\\t1.308398\\t3\\n', '33225\\t7.960293\\t1.219760\\t3\\n', '54483\\t6.317292\\t0.018209\\t1\\n', '18475\\t12.664194\\t0.595653\\t3\\n', '33926\\t2.906644\\t0.581657\\t1\\n', '43865\\t2.388241\\t0.913938\\t1\\n', '26547\\t6.024471\\t0.486215\\t3\\n', '44404\\t7.226764\\t1.255329\\t3\\n', '16674\\t4.183997\\t1.275290\\t2\\n', '8123\\t11.850211\\t1.096981\\t3\\n', '42747\\t11.661797\\t1.167935\\t3\\n', '56054\\t3.574967\\t0.494666\\t1\\n', '10933\\t0.000000\\t0.107475\\t2\\n', '18121\\t7.937657\\t0.904799\\t3\\n', '11272\\t3.365027\\t1.014085\\t2\\n', '16297\\t0.000000\\t0.367491\\t2\\n', '28168\\t13.860672\\t1.293270\\t3\\n', '40963\\t10.306714\\t1.211594\\t3\\n', '31685\\t7.228002\\t0.670670\\t3\\n', '55164\\t4.508740\\t1.036192\\t1\\n', '17595\\t0.366328\\t0.163652\\t2\\n', '1862\\t3.299444\\t0.575152\\t2\\n', '57087\\t0.573287\\t0.607915\\t1\\n', '63082\\t9.183738\\t0.012280\\t1\\n', '51213\\t7.842646\\t1.060636\\t3\\n', '6487\\t4.750964\\t0.558240\\t2\\n', '4805\\t11.438702\\t1.556334\\t3\\n', '30302\\t8.243063\\t1.122768\\t3\\n', '68680\\t7.949017\\t0.271865\\t1\\n', '17591\\t7.875477\\t0.227085\\t2\\n', '74391\\t9.569087\\t0.364856\\t1\\n', '37217\\t7.750103\\t0.869094\\t3\\n', '42814\\t0.000000\\t1.515293\\t1\\n', '14738\\t3.396030\\t0.633977\\t2\\n', '19896\\t11.916091\\t0.025294\\t3\\n', '14673\\t0.460758\\t0.689586\\t2\\n', '32011\\t13.087566\\t0.476002\\t3\\n', '58736\\t4.589016\\t1.672600\\t1\\n', '54744\\t8.397217\\t1.534103\\t1\\n', '29482\\t5.562772\\t1.689388\\t1\\n', '27698\\t10.905159\\t0.619091\\t3\\n', '11443\\t1.311441\\t1.169887\\t2\\n', '56117\\t10.647170\\t0.980141\\t3\\n', '39514\\t0.000000\\t0.481918\\t1\\n', '26627\\t8.503025\\t0.830861\\t3\\n', '16525\\t0.436880\\t1.395314\\t2\\n', '24368\\t6.127867\\t1.102179\\t1\\n', '22160\\t12.112492\\t0.359680\\t3\\n', '6030\\t1.264968\\t1.141582\\t2\\n', '6468\\t6.067568\\t1.327047\\t2\\n', '22945\\t8.010964\\t1.681648\\t3\\n', '18520\\t3.791084\\t0.304072\\t2\\n', '34914\\t11.773195\\t1.262621\\t3\\n', '6121\\t8.339588\\t1.443357\\t2\\n', '38063\\t2.563092\\t1.464013\\t1\\n', '23410\\t5.954216\\t0.953782\\t1\\n', '35073\\t9.288374\\t0.767318\\t3\\n', '52914\\t3.976796\\t1.043109\\t1\\n', '16801\\t8.585227\\t1.455708\\t3\\n', '9533\\t1.271946\\t0.796506\\t2\\n', '16721\\t0.000000\\t0.242778\\t2\\n', '5832\\t0.000000\\t0.089749\\t2\\n', '44591\\t11.521298\\t0.300860\\t3\\n', '10143\\t1.139447\\t0.415373\\t2\\n', '21609\\t5.699090\\t1.391892\\t2\\n', '23817\\t2.449378\\t1.322560\\t1\\n', '15640\\t0.000000\\t1.228380\\t2\\n', '8847\\t3.168365\\t0.053993\\t2\\n', '50939\\t10.428610\\t1.126257\\t3\\n', '28521\\t2.943070\\t1.446816\\t1\\n', '32901\\t10.441348\\t0.975283\\t3\\n', '42850\\t12.478764\\t1.628726\\t3\\n', '13499\\t5.856902\\t0.363883\\t2\\n', '40345\\t2.476420\\t0.096075\\t1\\n', '43547\\t1.826637\\t0.811457\\t1\\n', '70758\\t4.324451\\t0.328235\\t1\\n', '19780\\t1.376085\\t1.178359\\t2\\n', '44484\\t5.342462\\t0.394527\\t1\\n', '54462\\t11.835521\\t0.693301\\t3\\n', '20085\\t12.423687\\t1.424264\\t3\\n', '42291\\t12.161273\\t0.071131\\t3\\n', '47550\\t8.148360\\t1.649194\\t3\\n', '11938\\t1.531067\\t1.549756\\t2\\n', '40699\\t3.200912\\t0.309679\\t1\\n', '70908\\t8.862691\\t0.530506\\t1\\n', '73989\\t6.370551\\t0.369350\\t1\\n', '11872\\t2.468841\\t0.145060\\t2\\n', '48463\\t11.054212\\t0.141508\\t3\\n', '15987\\t2.037080\\t0.715243\\t2\\n', '70036\\t13.364030\\t0.549972\\t1\\n', '32967\\t10.249135\\t0.192735\\t3\\n', '63249\\t10.464252\\t1.669767\\t1\\n', '42795\\t9.424574\\t0.013725\\t3\\n', '14459\\t4.458902\\t0.268444\\t2\\n', '19973\\t0.000000\\t0.575976\\t2\\n', '5494\\t9.686082\\t1.029808\\t3\\n', '67902\\t13.649402\\t1.052618\\t1\\n', '25621\\t13.181148\\t0.273014\\t3\\n', '27545\\t3.877472\\t0.401600\\t1\\n', '58656\\t1.413952\\t0.451380\\t1\\n', '7327\\t4.248986\\t1.430249\\t2\\n', '64555\\t8.779183\\t0.845947\\t1\\n', '8998\\t4.156252\\t0.097109\\t2\\n', '11752\\t5.580018\\t0.158401\\t2\\n', '76319\\t15.040440\\t1.366898\\t1\\n', '27665\\t12.793870\\t1.307323\\t3\\n', '67417\\t3.254877\\t0.669546\\t1\\n', '21808\\t10.725607\\t0.588588\\t3\\n', '15326\\t8.256473\\t0.765891\\t2\\n', '20057\\t8.033892\\t1.618562\\t3\\n', '79341\\t10.702532\\t0.204792\\t1\\n', '15636\\t5.062996\\t1.132555\\t2\\n', '35602\\t10.772286\\t0.668721\\t3\\n', '28544\\t1.892354\\t0.837028\\t1\\n', '57663\\t1.019966\\t0.372320\\t1\\n', '78727\\t15.546043\\t0.729742\\t1\\n', '68255\\t11.638205\\t0.409125\\t1\\n', '14964\\t3.427886\\t0.975616\\t2\\n', '21835\\t11.246174\\t1.475586\\t3\\n', '7487\\t0.000000\\t0.645045\\t2\\n', '8700\\t0.000000\\t1.424017\\t2\\n', '26226\\t8.242553\\t0.279069\\t3\\n', '65899\\t8.700060\\t0.101807\\t1\\n', '6543\\t0.812344\\t0.260334\\t2\\n', '46556\\t2.448235\\t1.176829\\t1\\n', '71038\\t13.230078\\t0.616147\\t1\\n', '47657\\t0.236133\\t0.340840\\t1\\n', '19600\\t11.155826\\t0.335131\\t3\\n', '37422\\t11.029636\\t0.505769\\t3\\n', '1363\\t2.901181\\t1.646633\\t2\\n', '26535\\t3.924594\\t1.143120\\t1\\n', '47707\\t2.524806\\t1.292848\\t1\\n', '38055\\t3.527474\\t1.449158\\t1\\n', '6286\\t3.384281\\t0.889268\\t2\\n', '10747\\t0.000000\\t1.107592\\t2\\n', '44883\\t11.898890\\t0.406441\\t3\\n', '56823\\t3.529892\\t1.375844\\t1\\n', '68086\\t11.442677\\t0.696919\\t1\\n', '70242\\t10.308145\\t0.422722\\t1\\n', '11409\\t8.540529\\t0.727373\\t2\\n', '67671\\t7.156949\\t1.691682\\t1\\n', '61238\\t0.720675\\t0.847574\\t1\\n', '17774\\t0.229405\\t1.038603\\t2\\n', '53376\\t3.399331\\t0.077501\\t1\\n', '30930\\t6.157239\\t0.580133\\t1\\n', '28987\\t1.239698\\t0.719989\\t1\\n', '13655\\t6.036854\\t0.016548\\t2\\n', '7227\\t5.258665\\t0.933722\\t2\\n', '40409\\t12.393001\\t1.571281\\t3\\n', '13605\\t9.627613\\t0.935842\\t2\\n', '26400\\t11.130453\\t0.597610\\t3\\n', '13491\\t8.842595\\t0.349768\\t3\\n', '30232\\t10.690010\\t1.456595\\t3\\n', '43253\\t5.714718\\t1.674780\\t3\\n', '55536\\t3.052505\\t1.335804\\t1\\n', '8807\\t0.000000\\t0.059025\\t2\\n', '25783\\t9.945307\\t1.287952\\t3\\n', '22812\\t2.719723\\t1.142148\\t1\\n', '77826\\t11.154055\\t1.608486\\t1\\n', '38172\\t2.687918\\t0.660836\\t1\\n', '31676\\t10.037847\\t0.962245\\t3\\n', '74038\\t12.404762\\t1.112080\\t1\\n', '44738\\t10.237305\\t0.633422\\t3\\n', '17410\\t4.745392\\t0.662520\\t2\\n', '5688\\t4.639461\\t1.569431\\t2\\n', '36642\\t3.149310\\t0.639669\\t1\\n', '29956\\t13.406875\\t1.639194\\t3\\n', '60350\\t6.068668\\t0.881241\\t1\\n', '23758\\t9.477022\\t0.899002\\t3\\n', '25780\\t3.897620\\t0.560201\\t2\\n', '11342\\t5.463615\\t1.203677\\t2\\n', '36109\\t3.369267\\t1.575043\\t1\\n', '14292\\t5.234562\\t0.825954\\t2\\n', '11160\\t0.000000\\t0.722170\\t2\\n', '23762\\t12.979069\\t0.504068\\t3\\n', '39567\\t5.376564\\t0.557476\\t1\\n', '25647\\t13.527910\\t1.586732\\t3\\n', '14814\\t2.196889\\t0.784587\\t2\\n', '73590\\t10.691748\\t0.007509\\t1\\n', '35187\\t1.659242\\t0.447066\\t1\\n', '49459\\t8.369667\\t0.656697\\t3\\n', '31657\\t13.157197\\t0.143248\\t3\\n', '6259\\t8.199667\\t0.908508\\t2\\n', '33101\\t4.441669\\t0.439381\\t3\\n', '27107\\t9.846492\\t0.644523\\t3\\n', '17824\\t0.019540\\t0.977949\\t2\\n', '43536\\t8.253774\\t0.748700\\t3\\n', '67705\\t6.038620\\t1.509646\\t1\\n', '35283\\t6.091587\\t1.694641\\t3\\n', '71308\\t8.986820\\t1.225165\\t1\\n', '31054\\t11.508473\\t1.624296\\t3\\n', '52387\\t8.807734\\t0.713922\\t3\\n', '40328\\t0.000000\\t0.816676\\t1\\n', '34844\\t8.889202\\t1.665414\\t3\\n', '11607\\t3.178117\\t0.542752\\t2\\n', '64306\\t7.013795\\t0.139909\\t1\\n', '32721\\t9.605014\\t0.065254\\t3\\n', '33170\\t1.230540\\t1.331674\\t1\\n', '37192\\t10.412811\\t0.890803\\t3\\n', '13089\\t0.000000\\t0.567161\\t2\\n', '66491\\t9.699991\\t0.122011\\t1\\n', '15941\\t0.000000\\t0.061191\\t2\\n', '4272\\t4.455293\\t0.272135\\t2\\n', '48812\\t3.020977\\t1.502803\\t1\\n', '28818\\t8.099278\\t0.216317\\t3\\n', '35394\\t1.157764\\t1.603217\\t1\\n', '71791\\t10.105396\\t0.121067\\t1\\n', '40668\\t11.230148\\t0.408603\\t3\\n', '39580\\t9.070058\\t0.011379\\t3\\n', '11786\\t0.566460\\t0.478837\\t2\\n', '19251\\t0.000000\\t0.487300\\t2\\n', '56594\\t8.956369\\t1.193484\\t3\\n', '54495\\t1.523057\\t0.620528\\t1\\n', '11844\\t2.749006\\t0.169855\\t2\\n', '45465\\t9.235393\\t0.188350\\t3\\n', '31033\\t10.555573\\t0.403927\\t3\\n', '16633\\t6.956372\\t1.519308\\t2\\n', '13887\\t0.636281\\t1.273984\\t2\\n', '52603\\t3.574737\\t0.075163\\t1\\n', '72000\\t9.032486\\t1.461809\\t1\\n', '68497\\t5.958993\\t0.023012\\t1\\n', '35135\\t2.435300\\t1.211744\\t1\\n', '26397\\t10.539731\\t1.638248\\t3\\n', '7313\\t7.646702\\t0.056513\\t2\\n', '91273\\t20.919349\\t0.644571\\t1\\n', '24743\\t1.424726\\t0.838447\\t1\\n', '31690\\t6.748663\\t0.890223\\t3\\n', '15432\\t2.289167\\t0.114881\\t2\\n', '58394\\t5.548377\\t0.402238\\t1\\n', '33962\\t6.057227\\t0.432666\\t1\\n', '31442\\t10.828595\\t0.559955\\t3\\n', '31044\\t11.318160\\t0.271094\\t3\\n', '29938\\t13.265311\\t0.633903\\t3\\n', '9875\\t0.000000\\t1.496715\\t2\\n', '51542\\t6.517133\\t0.402519\\t3\\n', '11878\\t4.934374\\t1.520028\\t2\\n', '69241\\t10.151738\\t0.896433\\t1\\n', '37776\\t2.425781\\t1.559467\\t1\\n', '68997\\t9.778962\\t1.195498\\t1\\n', '67416\\t12.219950\\t0.657677\\t1\\n', '59225\\t7.394151\\t0.954434\\t1\\n', '29138\\t8.518535\\t0.742546\\t3\\n', '5962\\t2.798700\\t0.662632\\t2\\n', '10847\\t0.637930\\t0.617373\\t2\\n', '70527\\t10.750490\\t0.097415\\t1\\n', '9610\\t0.625382\\t0.140969\\t2\\n', '64734\\t10.027968\\t0.282787\\t1\\n', '25941\\t9.817347\\t0.364197\\t3\\n', '2763\\t0.646828\\t1.266069\\t2\\n', '55601\\t3.347111\\t0.914294\\t1\\n', '31128\\t11.816892\\t0.193798\\t3\\n', '5181\\t0.000000\\t1.480198\\t2\\n', '69982\\t10.945666\\t0.993219\\t1\\n', '52440\\t10.244706\\t0.280539\\t3\\n', '57350\\t2.579801\\t1.149172\\t1\\n', '57869\\t2.630410\\t0.098869\\t1\\n', '56557\\t11.746200\\t1.695517\\t3\\n', '42342\\t8.104232\\t1.326277\\t3\\n', '15560\\t12.409743\\t0.790295\\t3\\n', '34826\\t12.167844\\t1.328086\\t3\\n', '8569\\t3.198408\\t0.299287\\t2\\n', '77623\\t16.055513\\t0.541052\\t1\\n', '78184\\t7.138659\\t0.158481\\t1\\n', '7036\\t4.831041\\t0.761419\\t2\\n', '69616\\t10.082890\\t1.373611\\t1\\n', '21546\\t10.066867\\t0.788470\\t3\\n', '36715\\t8.129538\\t0.329913\\t3\\n', '20522\\t3.012463\\t1.138108\\t2\\n', '42349\\t3.720391\\t0.845974\\t1\\n', '9037\\t0.773493\\t1.148256\\t2\\n', '26728\\t10.962941\\t1.037324\\t3\\n', '587\\t0.177621\\t0.162614\\t2\\n', '48915\\t3.085853\\t0.967899\\t1\\n', '9824\\t8.426781\\t0.202558\\t2\\n', '4135\\t1.825927\\t1.128347\\t2\\n', '9666\\t2.185155\\t1.010173\\t2\\n', '59333\\t7.184595\\t1.261338\\t1\\n', '36198\\t0.000000\\t0.116525\\t1\\n', '34909\\t8.901752\\t1.033527\\t3\\n', '47516\\t2.451497\\t1.358795\\t1\\n', '55807\\t3.213631\\t0.432044\\t1\\n', '14036\\t3.974739\\t0.723929\\t2\\n', '42856\\t9.601306\\t0.619232\\t3\\n', '64007\\t8.363897\\t0.445341\\t1\\n', '59428\\t6.381484\\t1.365019\\t1\\n', '13730\\t0.000000\\t1.403914\\t2\\n', '41740\\t9.609836\\t1.438105\\t3\\n', '63546\\t9.904741\\t0.985862\\t1\\n', '30417\\t7.185807\\t1.489102\\t3\\n', '69636\\t5.466703\\t1.216571\\t1\\n', '64660\\t0.000000\\t0.915898\\t1\\n', '14883\\t4.575443\\t0.535671\\t2\\n', '7965\\t3.277076\\t1.010868\\t2\\n', '68620\\t10.246623\\t1.239634\\t1\\n', '8738\\t2.341735\\t1.060235\\t2\\n', '7544\\t3.201046\\t0.498843\\t2\\n', '6377\\t6.066013\\t0.120927\\t2\\n', '36842\\t8.829379\\t0.895657\\t3\\n', '81046\\t15.833048\\t1.568245\\t1\\n', '67736\\t13.516711\\t1.220153\\t1\\n', '32492\\t0.664284\\t1.116755\\t1\\n', '39299\\t6.325139\\t0.605109\\t3\\n', '77289\\t8.677499\\t0.344373\\t1\\n', '33835\\t8.188005\\t0.964896\\t3\\n', '71890\\t9.414263\\t0.384030\\t1\\n', '32054\\t9.196547\\t1.138253\\t3\\n', '38579\\t10.202968\\t0.452363\\t3\\n', '55984\\t2.119439\\t1.481661\\t1\\n', '72694\\t13.635078\\t0.858314\\t1\\n', '42299\\t0.083443\\t0.701669\\t1\\n', '26635\\t9.149096\\t1.051446\\t3\\n', '8579\\t1.933803\\t1.374388\\t2\\n', '37302\\t14.115544\\t0.676198\\t3\\n', '22878\\t8.933736\\t0.943352\\t3\\n', '4364\\t2.661254\\t0.946117\\t2\\n', '4985\\t0.988432\\t1.305027\\t2\\n', '37068\\t2.063741\\t1.125946\\t1\\n', '41137\\t2.220590\\t0.690754\\t1\\n', '67759\\t6.424849\\t0.806641\\t1\\n', '11831\\t1.156153\\t1.613674\\t2\\n', '34502\\t3.032720\\t0.601847\\t1\\n', '4088\\t3.076828\\t0.952089\\t2\\n', '15199\\t0.000000\\t0.318105\\t2\\n', '17309\\t7.750480\\t0.554015\\t3\\n', '42816\\t10.958135\\t1.482500\\t3\\n', '43751\\t10.222018\\t0.488678\\t3\\n', '58335\\t2.367988\\t0.435741\\t1\\n', '75039\\t7.686054\\t1.381455\\t1\\n', '42878\\t11.464879\\t1.481589\\t3\\n', '42770\\t11.075735\\t0.089726\\t3\\n', '8848\\t3.543989\\t0.345853\\t2\\n', '31340\\t8.123889\\t1.282880\\t3\\n', '41413\\t4.331769\\t0.754467\\t3\\n', '12731\\t0.120865\\t1.211961\\t2\\n', '22447\\t6.116109\\t0.701523\\t3\\n', '33564\\t7.474534\\t0.505790\\t3\\n', '48907\\t8.819454\\t0.649292\\t3\\n', '8762\\t6.802144\\t0.615284\\t2\\n', '46696\\t12.666325\\t0.931960\\t3\\n', '36851\\t8.636180\\t0.399333\\t3\\n', '67639\\t11.730991\\t1.289833\\t1\\n', '171\\t8.132449\\t0.039062\\t2\\n', '26674\\t10.296589\\t1.496144\\t3\\n', '8739\\t7.583906\\t1.005764\\t2\\n', '66668\\t9.777806\\t0.496377\\t1\\n', '68732\\t8.833546\\t0.513876\\t1\\n', '69995\\t4.907899\\t1.518036\\t1\\n', '82008\\t8.362736\\t1.285939\\t1\\n', '25054\\t9.084726\\t1.606312\\t3\\n', '33085\\t14.164141\\t0.560970\\t3\\n', '41379\\t9.080683\\t0.989920\\t3\\n', '39417\\t6.522767\\t0.038548\\t3\\n', '12556\\t3.690342\\t0.462281\\t2\\n', '39432\\t3.563706\\t0.242019\\t1\\n', '38010\\t1.065870\\t1.141569\\t1\\n', '69306\\t6.683796\\t1.456317\\t1\\n', '38000\\t1.712874\\t0.243945\\t1\\n', '46321\\t13.109929\\t1.280111\\t3\\n', '66293\\t11.327910\\t0.780977\\t1\\n', '22730\\t4.545711\\t1.233254\\t1\\n', '5952\\t3.367889\\t0.468104\\t2\\n', '72308\\t8.326224\\t0.567347\\t1\\n', '60338\\t8.978339\\t1.442034\\t1\\n', '13301\\t5.655826\\t1.582159\\t2\\n', '27884\\t8.855312\\t0.570684\\t3\\n', '11188\\t6.649568\\t0.544233\\t2\\n', '56796\\t3.966325\\t0.850410\\t1\\n', '8571\\t1.924045\\t1.664782\\t2\\n', '4914\\t6.004812\\t0.280369\\t2\\n', '10784\\t0.000000\\t0.375849\\t2\\n', '39296\\t9.923018\\t0.092192\\t3\\n', '13113\\t2.389084\\t0.119284\\t2\\n', '70204\\t13.663189\\t0.133251\\t1\\n', '46813\\t11.434976\\t0.321216\\t3\\n', '11697\\t0.358270\\t1.292858\\t2\\n', '44183\\t9.598873\\t0.223524\\t3\\n', '2225\\t6.375275\\t0.608040\\t2\\n', '29066\\t11.580532\\t0.458401\\t3\\n', '4245\\t5.319324\\t1.598070\\t2\\n', '34379\\t4.324031\\t1.603481\\t1\\n', '44441\\t2.358370\\t1.273204\\t1\\n', '2022\\t0.000000\\t1.182708\\t2\\n', '26866\\t12.824376\\t0.890411\\t3\\n', '57070\\t1.587247\\t1.456982\\t1\\n', '32932\\t8.510324\\t1.520683\\t3\\n', '51967\\t10.428884\\t1.187734\\t3\\n', '44432\\t8.346618\\t0.042318\\t3\\n', '67066\\t7.541444\\t0.809226\\t1\\n', '17262\\t2.540946\\t1.583286\\t2\\n', '79728\\t9.473047\\t0.692513\\t1\\n', '14259\\t0.352284\\t0.474080\\t2\\n', '6122\\t0.000000\\t0.589826\\t2\\n', '76879\\t12.405171\\t0.567201\\t1\\n', '11426\\t4.126775\\t0.871452\\t2\\n', '2493\\t0.034087\\t0.335848\\t2\\n', '19910\\t1.177634\\t0.075106\\t2\\n', '10939\\t0.000000\\t0.479996\\t2\\n', '17716\\t0.994909\\t0.611135\\t2\\n', '31390\\t11.053664\\t1.180117\\t3\\n', '20375\\t0.000000\\t1.679729\\t2\\n', '26309\\t2.495011\\t1.459589\\t1\\n', '33484\\t11.516831\\t0.001156\\t3\\n', '45944\\t9.213215\\t0.797743\\t3\\n', '4249\\t5.332865\\t0.109288\\t2\\n', '6089\\t0.000000\\t1.689771\\t2\\n', '7513\\t0.000000\\t1.126053\\t2\\n', '27862\\t12.640062\\t1.690903\\t3\\n', '39038\\t2.693142\\t1.317518\\t1\\n', '19218\\t3.328969\\t0.268271\\t2\\n', '62911\\t7.193166\\t1.117456\\t1\\n', '77758\\t6.615512\\t1.521012\\t1\\n', '27940\\t8.000567\\t0.835341\\t3\\n', '2194\\t4.017541\\t0.512104\\t2\\n', '37072\\t13.245859\\t0.927465\\t3\\n', '15585\\t5.970616\\t0.813624\\t2\\n', '25577\\t11.668719\\t0.886902\\t3\\n', '8777\\t4.283237\\t1.272728\\t2\\n', '29016\\t10.742963\\t0.971401\\t3\\n', '21910\\t12.326672\\t1.592608\\t3\\n', '12916\\t0.000000\\t0.344622\\t2\\n', '10976\\t0.000000\\t0.922846\\t2\\n', '79065\\t10.602095\\t0.573686\\t1\\n', '36759\\t10.861859\\t1.155054\\t3\\n', '50011\\t1.229094\\t1.638690\\t1\\n', '1155\\t0.410392\\t1.313401\\t2\\n', '71600\\t14.552711\\t0.616162\\t1\\n', '30817\\t14.178043\\t0.616313\\t3\\n', '54559\\t14.136260\\t0.362388\\t1\\n', '29764\\t0.093534\\t1.207194\\t1\\n', '69100\\t10.929021\\t0.403110\\t1\\n', '47324\\t11.432919\\t0.825959\\t3\\n', '73199\\t9.134527\\t0.586846\\t1\\n', '44461\\t5.071432\\t1.421420\\t1\\n', '45617\\t11.460254\\t1.541749\\t3\\n', '28221\\t11.620039\\t1.103553\\t3\\n', '7091\\t4.022079\\t0.207307\\t2\\n', '6110\\t3.057842\\t1.631262\\t2\\n', '79016\\t7.782169\\t0.404385\\t1\\n', '18289\\t7.981741\\t0.929789\\t3\\n', '43679\\t4.601363\\t0.268326\\t1\\n', '22075\\t2.595564\\t1.115375\\t1\\n', '23535\\t10.049077\\t0.391045\\t3\\n', '25301\\t3.265444\\t1.572970\\t2\\n', '32256\\t11.780282\\t1.511014\\t3\\n', '36951\\t3.075975\\t0.286284\\t1\\n', '31290\\t1.795307\\t0.194343\\t1\\n', '38953\\t11.106979\\t0.202415\\t3\\n', '35257\\t5.994413\\t0.800021\\t1\\n', '25847\\t9.706062\\t1.012182\\t3\\n', '32680\\t10.582992\\t0.836025\\t3\\n', '62018\\t7.038266\\t1.458979\\t1\\n', '9074\\t0.023771\\t0.015314\\t2\\n', '33004\\t12.823982\\t0.676371\\t3\\n', '44588\\t3.617770\\t0.493483\\t1\\n', '32565\\t8.346684\\t0.253317\\t3\\n', '38563\\t6.104317\\t0.099207\\t1\\n', '75668\\t16.207776\\t0.584973\\t1\\n', '9069\\t6.401969\\t1.691873\\t2\\n', '53395\\t2.298696\\t0.559757\\t1\\n', '28631\\t7.661515\\t0.055981\\t3\\n', '71036\\t6.353608\\t1.645301\\t1\\n', '71142\\t10.442780\\t0.335870\\t1\\n', '37653\\t3.834509\\t1.346121\\t1\\n', '76839\\t10.998587\\t0.584555\\t1\\n', '9916\\t2.695935\\t1.512111\\t2\\n', '38889\\t3.356646\\t0.324230\\t1\\n', '39075\\t14.677836\\t0.793183\\t3\\n', '48071\\t1.551934\\t0.130902\\t1\\n', '7275\\t2.464739\\t0.223502\\t2\\n', '41804\\t1.533216\\t1.007481\\t1\\n', '35665\\t12.473921\\t0.162910\\t3\\n', '67956\\t6.491596\\t0.032576\\t1\\n', '41892\\t10.506276\\t1.510747\\t3\\n', '38844\\t4.380388\\t0.748506\\t1\\n', '74197\\t13.670988\\t1.687944\\t1\\n', '14201\\t8.317599\\t0.390409\\t2\\n', '3908\\t0.000000\\t0.556245\\t2\\n', '2459\\t0.000000\\t0.290218\\t2\\n', '32027\\t10.095799\\t1.188148\\t3\\n', '12870\\t0.860695\\t1.482632\\t2\\n', '9880\\t1.557564\\t0.711278\\t2\\n', '72784\\t10.072779\\t0.756030\\t1\\n', '17521\\t0.000000\\t0.431468\\t2\\n', '50283\\t7.140817\\t0.883813\\t3\\n', '33536\\t11.384548\\t1.438307\\t3\\n', '9452\\t3.214568\\t1.083536\\t2\\n', '37457\\t11.720655\\t0.301636\\t3\\n', '17724\\t6.374475\\t1.475925\\t3\\n', '43869\\t5.749684\\t0.198875\\t3\\n', '264\\t3.871808\\t0.552602\\t2\\n', '25736\\t8.336309\\t0.636238\\t3\\n', '39584\\t9.710442\\t1.503735\\t3\\n', '31246\\t1.532611\\t1.433898\\t1\\n', '49567\\t9.785785\\t0.984614\\t3\\n', '7052\\t2.633627\\t1.097866\\t2\\n', '35493\\t9.238935\\t0.494701\\t3\\n', '10986\\t1.205656\\t1.398803\\t2\\n', '49508\\t3.124909\\t1.670121\\t1\\n', '5734\\t7.935489\\t1.585044\\t2\\n', '65479\\t12.746636\\t1.560352\\t1\\n', '77268\\t10.732563\\t0.545321\\t1\\n', '28490\\t3.977403\\t0.766103\\t1\\n', '13546\\t4.194426\\t0.450663\\t2\\n', '37166\\t9.610286\\t0.142912\\t3\\n', '16381\\t4.797555\\t1.260455\\t2\\n', '10848\\t1.615279\\t0.093002\\t2\\n', '35405\\t4.614771\\t1.027105\\t1\\n', '15917\\t0.000000\\t1.369726\\t2\\n', '6131\\t0.608457\\t0.512220\\t2\\n', '67432\\t6.558239\\t0.667579\\t1\\n', '30354\\t12.315116\\t0.197068\\t3\\n', '69696\\t7.014973\\t1.494616\\t1\\n', '33481\\t8.822304\\t1.194177\\t3\\n', '43075\\t10.086796\\t0.570455\\t3\\n', '38343\\t7.241614\\t1.661627\\t3\\n', '14318\\t4.602395\\t1.511768\\t2\\n', '5367\\t7.434921\\t0.079792\\t2\\n', '37894\\t10.467570\\t1.595418\\t3\\n', '36172\\t9.948127\\t0.003663\\t3\\n', '40123\\t2.478529\\t1.568987\\t1\\n', '10976\\t5.938545\\t0.878540\\t2\\n', '12705\\t0.000000\\t0.948004\\t2\\n', '12495\\t5.559181\\t1.357926\\t2\\n', '35681\\t9.776654\\t0.535966\\t3\\n', '46202\\t3.092056\\t0.490906\\t1\\n', '11505\\t0.000000\\t1.623311\\t2\\n', '22834\\t4.459495\\t0.538867\\t1\\n', '49901\\t8.334306\\t1.646600\\t3\\n', '71932\\t11.226654\\t0.384686\\t1\\n', '13279\\t3.904737\\t1.597294\\t2\\n', '49112\\t7.038205\\t1.211329\\t3\\n', '77129\\t9.836120\\t1.054340\\t1\\n', '37447\\t1.990976\\t0.378081\\t1\\n', '62397\\t9.005302\\t0.485385\\t1\\n', '0\\t1.772510\\t1.039873\\t2\\n', '15476\\t0.458674\\t0.819560\\t2\\n', '40625\\t10.003919\\t0.231658\\t3\\n', '36706\\t0.520807\\t1.476008\\t1\\n', '28580\\t10.678214\\t1.431837\\t3\\n', '25862\\t4.425992\\t1.363842\\t1\\n', '63488\\t12.035355\\t0.831222\\t1\\n', '33944\\t10.606732\\t1.253858\\t3\\n', '30099\\t1.568653\\t0.684264\\t1\\n', '13725\\t2.545434\\t0.024271\\t2\\n', '36768\\t10.264062\\t0.982593\\t3\\n', '64656\\t9.866276\\t0.685218\\t1\\n', '14927\\t0.142704\\t0.057455\\t2\\n', '43231\\t9.853270\\t1.521432\\t3\\n', '66087\\t6.596604\\t1.653574\\t1\\n', '19806\\t2.602287\\t1.321481\\t2\\n', '41081\\t10.411776\\t0.664168\\t3\\n', '10277\\t7.083449\\t0.622589\\t2\\n', '7014\\t2.080068\\t1.254441\\t2\\n', '17275\\t0.522844\\t1.622458\\t2\\n', '31600\\t10.362000\\t1.544827\\t3\\n', '59956\\t3.412967\\t1.035410\\t1\\n', '42181\\t6.796548\\t1.112153\\t3\\n', '51743\\t4.092035\\t0.075804\\t1\\n', '5194\\t2.763811\\t1.564325\\t2\\n', '30832\\t12.547439\\t1.402443\\t3\\n', '7976\\t5.708052\\t1.596152\\t2\\n', '14602\\t4.558025\\t0.375806\\t2\\n', '41571\\t11.642307\\t0.438553\\t3\\n', '55028\\t3.222443\\t0.121399\\t1\\n', '5837\\t4.736156\\t0.029871\\t2\\n', '39808\\t10.839526\\t0.836323\\t3\\n', '20944\\t4.194791\\t0.235483\\t2\\n', '22146\\t14.936259\\t0.888582\\t3\\n', '42169\\t3.310699\\t1.521855\\t1\\n', '7010\\t2.971931\\t0.034321\\t2\\n', '3807\\t9.261667\\t0.537807\\t2\\n', '29241\\t7.791833\\t1.111416\\t3\\n', '52696\\t1.480470\\t1.028750\\t1\\n', '42545\\t3.677287\\t0.244167\\t1\\n', '24437\\t2.202967\\t1.370399\\t1\\n', '16037\\t5.796735\\t0.935893\\t2\\n', '8493\\t3.063333\\t0.144089\\t2\\n', '68080\\t11.233094\\t0.492487\\t1\\n', '59016\\t1.965570\\t0.005697\\t1\\n', '11810\\t8.616719\\t0.137419\\t2\\n', '68630\\t6.609989\\t1.083505\\t1\\n', '7629\\t1.712639\\t1.086297\\t2\\n', '71992\\t10.117445\\t1.299319\\t1\\n', '13398\\t0.000000\\t1.104178\\t2\\n', '26241\\t9.824777\\t1.346821\\t3\\n', '11160\\t1.653089\\t0.980949\\t2\\n', '76701\\t18.178822\\t1.473671\\t1\\n', '32174\\t6.781126\\t0.885340\\t3\\n', '45043\\t8.206750\\t1.549223\\t3\\n', '42173\\t10.081853\\t1.376745\\t3\\n', '69801\\t6.288742\\t0.112799\\t1\\n', '41737\\t3.695937\\t1.543589\\t1\\n', '46979\\t6.726151\\t1.069380\\t3\\n', '79267\\t12.969999\\t1.568223\\t1\\n', '4615\\t2.661390\\t1.531933\\t2\\n', '32907\\t7.072764\\t1.117386\\t3\\n', '37444\\t9.123366\\t1.318988\\t3\\n', '569\\t3.743946\\t1.039546\\t2\\n', '8723\\t2.341300\\t0.219361\\t2\\n', '6024\\t0.541913\\t0.592348\\t2\\n', '52252\\t2.310828\\t1.436753\\t1\\n', '8358\\t6.226597\\t1.427316\\t2\\n', '26166\\t7.277876\\t0.489252\\t3\\n', '18471\\t0.000000\\t0.389459\\t2\\n', '3386\\t7.218221\\t1.098828\\t2\\n', '41544\\t8.777129\\t1.111464\\t3\\n', '10480\\t2.813428\\t0.819419\\t2\\n', '5894\\t2.268766\\t1.412130\\t2\\n', '7273\\t6.283627\\t0.571292\\t2\\n', '22272\\t7.520081\\t1.626868\\t3\\n', '31369\\t11.739225\\t0.027138\\t3\\n', '10708\\t3.746883\\t0.877350\\t2\\n', '69364\\t12.089835\\t0.521631\\t1\\n', '37760\\t12.310404\\t0.259339\\t3\\n', '13004\\t0.000000\\t0.671355\\t2\\n', '37885\\t2.728800\\t0.331502\\t1\\n', '52555\\t10.814342\\t0.607652\\t3\\n', '38997\\t12.170268\\t0.844205\\t3\\n', '69698\\t6.698371\\t0.240084\\t1\\n', '11783\\t3.632672\\t1.643479\\t2\\n', '47636\\t10.059991\\t0.892361\\t3\\n', '15744\\t1.887674\\t0.756162\\t2\\n', '69058\\t8.229125\\t0.195886\\t1\\n', '33057\\t7.817082\\t0.476102\\t3\\n', '28681\\t12.277230\\t0.076805\\t3\\n', '34042\\t10.055337\\t1.115778\\t3\\n', '29928\\t3.596002\\t1.485952\\t1\\n', '9734\\t2.755530\\t1.420655\\t2\\n', '7344\\t7.780991\\t0.513048\\t2\\n', '7387\\t0.093705\\t0.391834\\t2\\n', '33957\\t8.481567\\t0.520078\\t3\\n', '9936\\t3.865584\\t0.110062\\t2\\n', '36094\\t9.683709\\t0.779984\\t3\\n', '39835\\t10.617255\\t1.359970\\t3\\n', '64486\\t7.203216\\t1.624762\\t1\\n', '0\\t7.601414\\t1.215605\\t2\\n', '39539\\t1.386107\\t1.417070\\t1\\n', '66972\\t9.129253\\t0.594089\\t1\\n', '15029\\t1.363447\\t0.620841\\t2\\n', '44909\\t3.181399\\t0.359329\\t1\\n', '38183\\t13.365414\\t0.217011\\t3\\n', '37372\\t4.207717\\t1.289767\\t1\\n', '0\\t4.088395\\t0.870075\\t2\\n', '17786\\t3.327371\\t1.142505\\t2\\n', '39055\\t1.303323\\t1.235650\\t1\\n', '37045\\t7.999279\\t1.581763\\t3\\n', '6435\\t2.217488\\t0.864536\\t2\\n', '72265\\t7.751808\\t0.192451\\t1\\n', '28152\\t14.149305\\t1.591532\\t3\\n', '25931\\t8.765721\\t0.152808\\t3\\n', '7538\\t3.408996\\t0.184896\\t2\\n', '1315\\t1.251021\\t0.112340\\t2\\n', '12292\\t6.160619\\t1.537165\\t2\\n', '49248\\t1.034538\\t1.585162\\t1\\n', '9025\\t0.000000\\t1.034635\\t2\\n', '13438\\t2.355051\\t0.542603\\t2\\n', '69683\\t6.614543\\t0.153771\\t1\\n', '25374\\t10.245062\\t1.450903\\t3\\n', '55264\\t3.467074\\t1.231019\\t1\\n', '38324\\t7.487678\\t1.572293\\t3\\n', '69643\\t4.624115\\t1.185192\\t1\\n', '44058\\t8.995957\\t1.436479\\t3\\n', '41316\\t11.564476\\t0.007195\\t3\\n', '29119\\t3.440948\\t0.078331\\t1\\n', '51656\\t1.673603\\t0.732746\\t1\\n', '3030\\t4.719341\\t0.699755\\t2\\n', '35695\\t10.304798\\t1.576488\\t3\\n', '1537\\t2.086915\\t1.199312\\t2\\n', '9083\\t6.338220\\t1.131305\\t2\\n', '47744\\t8.254926\\t0.710694\\t3\\n', '71372\\t16.067108\\t0.974142\\t1\\n', '37980\\t1.723201\\t0.310488\\t1\\n', '42385\\t3.785045\\t0.876904\\t1\\n', '22687\\t2.557561\\t0.123738\\t1\\n', '39512\\t9.852220\\t1.095171\\t3\\n', '11885\\t3.679147\\t1.557205\\t2\\n', '4944\\t9.789681\\t0.852971\\t2\\n', '73230\\t14.958998\\t0.526707\\t1\\n', '17585\\t11.182148\\t1.288459\\t3\\n', '68737\\t7.528533\\t1.657487\\t1\\n', '13818\\t5.253802\\t1.378603\\t2\\n', '31662\\t13.946752\\t1.426657\\t3\\n', '86686\\t15.557263\\t1.430029\\t1\\n', '43214\\t12.483550\\t0.688513\\t3\\n', '24091\\t2.317302\\t1.411137\\t1\\n', '52544\\t10.069724\\t0.766119\\t3\\n', '61861\\t5.792231\\t1.615483\\t1\\n', '47903\\t4.138435\\t0.475994\\t1\\n', '37190\\t12.929517\\t0.304378\\t3\\n', '6013\\t9.378238\\t0.307392\\t2\\n', '27223\\t8.361362\\t1.643204\\t3\\n', '69027\\t7.939406\\t1.325042\\t1\\n', '78642\\t10.735384\\t0.705788\\t1\\n', '30254\\t11.592723\\t0.286188\\t3\\n', '21704\\t10.098356\\t0.704748\\t3\\n', '34985\\t9.299025\\t0.545337\\t3\\n', '31316\\t11.158297\\t0.218067\\t3\\n', '76368\\t16.143900\\t0.558388\\t1\\n', '27953\\t10.971700\\t1.221787\\t3\\n', '152\\t0.000000\\t0.681478\\t2\\n', '9146\\t3.178961\\t1.292692\\t2\\n', '75346\\t17.625350\\t0.339926\\t1\\n', '26376\\t1.995833\\t0.267826\\t1\\n', '35255\\t10.640467\\t0.416181\\t3\\n', '19198\\t9.628339\\t0.985462\\t3\\n', '12518\\t4.662664\\t0.495403\\t2\\n', '25453\\t5.754047\\t1.382742\\t2\\n', '12530\\t0.000000\\t0.037146\\t2\\n', '62230\\t9.334332\\t0.198118\\t1\\n', '9517\\t3.846162\\t0.619968\\t2\\n', '71161\\t10.685084\\t0.678179\\t1\\n', '1593\\t4.752134\\t0.359205\\t2\\n', '33794\\t0.697630\\t0.966786\\t1\\n', '39710\\t10.365836\\t0.505898\\t3\\n', '16941\\t0.461478\\t0.352865\\t2\\n', '69209\\t11.339537\\t1.068740\\t1\\n', '4446\\t5.420280\\t0.127310\\t2\\n', '9347\\t3.469955\\t1.619947\\t2\\n', '55635\\t8.517067\\t0.994858\\t3\\n', '65889\\t8.306512\\t0.413690\\t1\\n', '10753\\t2.628690\\t0.444320\\t2\\n', '7055\\t0.000000\\t0.802985\\t2\\n', '7905\\t0.000000\\t1.170397\\t2\\n', '53447\\t7.298767\\t1.582346\\t3\\n', '9194\\t7.331319\\t1.277988\\t2\\n', '61914\\t9.392269\\t0.151617\\t1\\n', '15630\\t5.541201\\t1.180596\\t2\\n', '79194\\t15.149460\\t0.537540\\t1\\n', '12268\\t5.515189\\t0.250562\\t2\\n', '33682\\t7.728898\\t0.920494\\t3\\n', '26080\\t11.318785\\t1.510979\\t3\\n', '19119\\t3.574709\\t1.531514\\t2\\n', '30902\\t7.350965\\t0.026332\\t3\\n', '63039\\t7.122363\\t1.630177\\t1\\n', '51136\\t1.828412\\t1.013702\\t1\\n', '35262\\t10.117989\\t1.156862\\t3\\n', '42776\\t11.309897\\t0.086291\\t3\\n', '64191\\t8.342034\\t1.388569\\t1\\n', '15436\\t0.241714\\t0.715577\\t2\\n', '14402\\t10.482619\\t1.694972\\t2\\n', '6341\\t9.289510\\t1.428879\\t2\\n', '14113\\t4.269419\\t0.134181\\t2\\n', '6390\\t0.000000\\t0.189456\\t2\\n', '8794\\t0.817119\\t0.143668\\t2\\n', '43432\\t1.508394\\t0.652651\\t1\\n', '38334\\t9.359918\\t0.052262\\t3\\n', '34068\\t10.052333\\t0.550423\\t3\\n', '30819\\t11.111660\\t0.989159\\t3\\n', '22239\\t11.265971\\t0.724054\\t3\\n', '28725\\t10.383830\\t0.254836\\t3\\n', '57071\\t3.878569\\t1.377983\\t1\\n', '72420\\t13.679237\\t0.025346\\t1\\n', '28294\\t10.526846\\t0.781569\\t3\\n', '9896\\t0.000000\\t0.924198\\t2\\n', '65821\\t4.106727\\t1.085669\\t1\\n', '7645\\t8.118856\\t1.470686\\t2\\n', '71289\\t7.796874\\t0.052336\\t1\\n', '5128\\t2.789669\\t1.093070\\t2\\n', '13711\\t6.226962\\t0.287251\\t2\\n', '22240\\t10.169548\\t1.660104\\t3\\n', '15092\\t0.000000\\t1.370549\\t2\\n', '5017\\t7.513353\\t0.137348\\t2\\n', '10141\\t8.240793\\t0.099735\\t2\\n', '35570\\t14.612797\\t1.247390\\t3\\n', '46893\\t3.562976\\t0.445386\\t1\\n', '8178\\t3.230482\\t1.331698\\t2\\n', '55783\\t3.612548\\t1.551911\\t1\\n', '1148\\t0.000000\\t0.332365\\t2\\n', '10062\\t3.931299\\t0.487577\\t2\\n', '74124\\t14.752342\\t1.155160\\t1\\n', '66603\\t10.261887\\t1.628085\\t1\\n', '11893\\t2.787266\\t1.570402\\t2\\n', '50908\\t15.112319\\t1.324132\\t3\\n', '39891\\t5.184553\\t0.223382\\t3\\n', '65915\\t3.868359\\t0.128078\\t1\\n', '65678\\t3.507965\\t0.028904\\t1\\n', '62996\\t11.019254\\t0.427554\\t1\\n', '36851\\t3.812387\\t0.655245\\t1\\n', '36669\\t11.056784\\t0.378725\\t3\\n', '38876\\t8.826880\\t1.002328\\t3\\n', '26878\\t11.173861\\t1.478244\\t3\\n', '46246\\t11.506465\\t0.421993\\t3\\n', '12761\\t7.798138\\t0.147917\\t3\\n', '35282\\t10.155081\\t1.370039\\t3\\n', '68306\\t10.645275\\t0.693453\\t1\\n', '31262\\t9.663200\\t1.521541\\t3\\n', '34754\\t10.790404\\t1.312679\\t3\\n', '13408\\t2.810534\\t0.219962\\t2\\n', '30365\\t9.825999\\t1.388500\\t3\\n', '10709\\t1.421316\\t0.677603\\t2\\n', '24332\\t11.123219\\t0.809107\\t3\\n', '45517\\t13.402206\\t0.661524\\t3\\n', '6178\\t1.212255\\t0.836807\\t2\\n', '10639\\t1.568446\\t1.297469\\t2\\n', '29613\\t3.343473\\t1.312266\\t1\\n', '22392\\t5.400155\\t0.193494\\t1\\n', '51126\\t3.818754\\t0.590905\\t1\\n', '53644\\t7.973845\\t0.307364\\t3\\n', '51417\\t9.078824\\t0.734876\\t3\\n', '24859\\t0.153467\\t0.766619\\t1\\n', '61732\\t8.325167\\t0.028479\\t1\\n', '71128\\t7.092089\\t1.216733\\t1\\n', '27276\\t5.192485\\t1.094409\\t3\\n', '30453\\t10.340791\\t1.087721\\t3\\n', '18670\\t2.077169\\t1.019775\\t2\\n', '70600\\t10.151966\\t0.993105\\t1\\n', '12683\\t0.046826\\t0.809614\\t2\\n', '81597\\t11.221874\\t1.395015\\t1\\n', '69959\\t14.497963\\t1.019254\\t1\\n', '8124\\t3.554508\\t0.533462\\t2\\n', '18867\\t3.522673\\t0.086725\\t2\\n', '80886\\t14.531655\\t0.380172\\t1\\n', '55895\\t3.027528\\t0.885457\\t1\\n', '31587\\t1.845967\\t0.488985\\t1\\n', '10591\\t10.226164\\t0.804403\\t3\\n', '70096\\t10.965926\\t1.212328\\t1\\n', '53151\\t2.129921\\t1.477378\\t1\\n', '11992\\t0.000000\\t1.606849\\t2\\n', '33114\\t9.489005\\t0.827814\\t3\\n', '7413\\t0.000000\\t1.020797\\t2\\n', '10583\\t0.000000\\t1.270167\\t2\\n', '58668\\t6.556676\\t0.055183\\t1\\n', '35018\\t9.959588\\t0.060020\\t3\\n', '70843\\t7.436056\\t1.479856\\t1\\n', '14011\\t0.404888\\t0.459517\\t2\\n', '35015\\t9.952942\\t1.650279\\t3\\n', '70839\\t15.600252\\t0.021935\\t1\\n', '3024\\t2.723846\\t0.387455\\t2\\n', '5526\\t0.513866\\t1.323448\\t2\\n', '5113\\t0.000000\\t0.861859\\t2\\n', '20851\\t7.280602\\t1.438470\\t2\\n', '40999\\t9.161978\\t1.110180\\t3\\n', '15823\\t0.991725\\t0.730979\\t2\\n', '35432\\t7.398380\\t0.684218\\t3\\n', '53711\\t12.149747\\t1.389088\\t3\\n', '64371\\t9.149678\\t0.874905\\t1\\n', '9289\\t9.666576\\t1.370330\\t2\\n', '60613\\t3.620110\\t0.287767\\t1\\n', '18338\\t5.238800\\t1.253646\\t2\\n', '22845\\t14.715782\\t1.503758\\t3\\n', '74676\\t14.445740\\t1.211160\\t1\\n', '34143\\t13.609528\\t0.364240\\t3\\n', '14153\\t3.141585\\t0.424280\\t2\\n', '9327\\t0.000000\\t0.120947\\t2\\n', '18991\\t0.454750\\t1.033280\\t2\\n', '9193\\t0.510310\\t0.016395\\t2\\n', '2285\\t3.864171\\t0.616349\\t2\\n', '9493\\t6.724021\\t0.563044\\t2\\n', '2371\\t4.289375\\t0.012563\\t2\\n', '13963\\t0.000000\\t1.437030\\t2\\n', '2299\\t3.733617\\t0.698269\\t2\\n', '5262\\t2.002589\\t1.380184\\t2\\n', '4659\\t2.502627\\t0.184223\\t2\\n', '17582\\t6.382129\\t0.876581\\t2\\n', '27750\\t8.546741\\t0.128706\\t3\\n', '9868\\t2.694977\\t0.432818\\t2\\n', '18333\\t3.951256\\t0.333300\\t2\\n', '3780\\t9.856183\\t0.329181\\t2\\n', '18190\\t2.068962\\t0.429927\\t2\\n', '11145\\t3.410627\\t0.631838\\t2\\n', '68846\\t9.974715\\t0.669787\\t1\\n', '26575\\t10.650102\\t0.866627\\t3\\n', '48111\\t9.134528\\t0.728045\\t3\\n', '43757\\t7.882601\\t1.332446\\t3\\n']\n"
          ],
          "name": "stdout"
        }
      ]
    },
    {
      "metadata": {
        "id": "Y2GBeZvP-_PC",
        "colab_type": "code",
        "colab": {
          "base_uri": "https://localhost:8080/",
          "height": 212
        },
        "outputId": "54b76f54-f2b6-4baa-b287-d2b63bcd4b86"
      },
      "cell_type": "code",
      "source": [
        "data_df = pd.read_csv('datingTestSet2.txt',sep='\\t',header=None)\n",
        "print(data_df.shape)\n",
        "data_df.head()"
      ],
      "execution_count": 28,
      "outputs": [
        {
          "output_type": "stream",
          "text": [
            "(1000, 4)\n"
          ],
          "name": "stdout"
        },
        {
          "output_type": "execute_result",
          "data": {
            "text/html": [
              "<div>\n",
              "<style scoped>\n",
              "    .dataframe tbody tr th:only-of-type {\n",
              "        vertical-align: middle;\n",
              "    }\n",
              "\n",
              "    .dataframe tbody tr th {\n",
              "        vertical-align: top;\n",
              "    }\n",
              "\n",
              "    .dataframe thead th {\n",
              "        text-align: right;\n",
              "    }\n",
              "</style>\n",
              "<table border=\"1\" class=\"dataframe\">\n",
              "  <thead>\n",
              "    <tr style=\"text-align: right;\">\n",
              "      <th></th>\n",
              "      <th>0</th>\n",
              "      <th>1</th>\n",
              "      <th>2</th>\n",
              "      <th>3</th>\n",
              "    </tr>\n",
              "  </thead>\n",
              "  <tbody>\n",
              "    <tr>\n",
              "      <th>0</th>\n",
              "      <td>40920</td>\n",
              "      <td>8.326976</td>\n",
              "      <td>0.953952</td>\n",
              "      <td>3</td>\n",
              "    </tr>\n",
              "    <tr>\n",
              "      <th>1</th>\n",
              "      <td>14488</td>\n",
              "      <td>7.153469</td>\n",
              "      <td>1.673904</td>\n",
              "      <td>2</td>\n",
              "    </tr>\n",
              "    <tr>\n",
              "      <th>2</th>\n",
              "      <td>26052</td>\n",
              "      <td>1.441871</td>\n",
              "      <td>0.805124</td>\n",
              "      <td>1</td>\n",
              "    </tr>\n",
              "    <tr>\n",
              "      <th>3</th>\n",
              "      <td>75136</td>\n",
              "      <td>13.147394</td>\n",
              "      <td>0.428964</td>\n",
              "      <td>1</td>\n",
              "    </tr>\n",
              "    <tr>\n",
              "      <th>4</th>\n",
              "      <td>38344</td>\n",
              "      <td>1.669788</td>\n",
              "      <td>0.134296</td>\n",
              "      <td>1</td>\n",
              "    </tr>\n",
              "  </tbody>\n",
              "</table>\n",
              "</div>"
            ],
            "text/plain": [
              "       0          1         2  3\n",
              "0  40920   8.326976  0.953952  3\n",
              "1  14488   7.153469  1.673904  2\n",
              "2  26052   1.441871  0.805124  1\n",
              "3  75136  13.147394  0.428964  1\n",
              "4  38344   1.669788  0.134296  1"
            ]
          },
          "metadata": {
            "tags": []
          },
          "execution_count": 28
        }
      ]
    },
    {
      "metadata": {
        "id": "TO8jUrujCxz8",
        "colab_type": "text"
      },
      "cell_type": "markdown",
      "source": [
        "## 2-2 Text to Numpy\n",
        "\n",
        "1. 每年飞行里程数\n",
        "2. 玩游戏所占时间百分比\n",
        "3. 每周消费冰激凌公斤数"
      ]
    },
    {
      "metadata": {
        "id": "Rw6J6K5lAjXl",
        "colab_type": "code",
        "colab": {
          "base_uri": "https://localhost:8080/",
          "height": 34
        },
        "outputId": "0d200998-0f2a-424d-8af8-babcf36729b4"
      },
      "cell_type": "code",
      "source": [
        "fr = open('datingTestSet2.txt')\n",
        "fr"
      ],
      "execution_count": 29,
      "outputs": [
        {
          "output_type": "execute_result",
          "data": {
            "text/plain": [
              "<_io.TextIOWrapper name='datingTestSet2.txt' mode='r' encoding='UTF-8'>"
            ]
          },
          "metadata": {
            "tags": []
          },
          "execution_count": 29
        }
      ]
    },
    {
      "metadata": {
        "id": "Po_iWPYjDSOq",
        "colab_type": "code",
        "colab": {
          "base_uri": "https://localhost:8080/",
          "height": 34
        },
        "outputId": "617bed8f-e6bc-4d8f-94b5-37c830ebfbc3"
      },
      "cell_type": "code",
      "source": [
        "lines_list = fr.readlines()\n",
        "lines_list[:2]"
      ],
      "execution_count": 30,
      "outputs": [
        {
          "output_type": "execute_result",
          "data": {
            "text/plain": [
              "['40920\\t8.326976\\t0.953952\\t3\\n', '14488\\t7.153469\\t1.673904\\t2\\n']"
            ]
          },
          "metadata": {
            "tags": []
          },
          "execution_count": 30
        }
      ]
    },
    {
      "metadata": {
        "id": "jKRLUd6oDjea",
        "colab_type": "code",
        "colab": {
          "base_uri": "https://localhost:8080/",
          "height": 34
        },
        "outputId": "a8547f96-6b57-4e14-994b-df8a86877a8d"
      },
      "cell_type": "code",
      "source": [
        "len(lines_list)"
      ],
      "execution_count": 31,
      "outputs": [
        {
          "output_type": "execute_result",
          "data": {
            "text/plain": [
              "1000"
            ]
          },
          "metadata": {
            "tags": []
          },
          "execution_count": 31
        }
      ]
    },
    {
      "metadata": {
        "id": "RJ4OD_RBD8hF",
        "colab_type": "code",
        "colab": {
          "base_uri": "https://localhost:8080/",
          "height": 134
        },
        "outputId": "fc4e1443-2a2b-4700-9619-a21d1f6df534"
      },
      "cell_type": "code",
      "source": [
        "np.zeros((len(lines_list),3))"
      ],
      "execution_count": 32,
      "outputs": [
        {
          "output_type": "execute_result",
          "data": {
            "text/plain": [
              "array([[0., 0., 0.],\n",
              "       [0., 0., 0.],\n",
              "       [0., 0., 0.],\n",
              "       ...,\n",
              "       [0., 0., 0.],\n",
              "       [0., 0., 0.],\n",
              "       [0., 0., 0.]])"
            ]
          },
          "metadata": {
            "tags": []
          },
          "execution_count": 32
        }
      ]
    },
    {
      "metadata": {
        "id": "QssaphlCEaGK",
        "colab_type": "code",
        "colab": {
          "base_uri": "https://localhost:8080/",
          "height": 34
        },
        "outputId": "b6bcec96-e443-4144-e360-aa009478ab53"
      },
      "cell_type": "code",
      "source": [
        "lines_list[0].strip().split('\\t')"
      ],
      "execution_count": 33,
      "outputs": [
        {
          "output_type": "execute_result",
          "data": {
            "text/plain": [
              "['40920', '8.326976', '0.953952', '3']"
            ]
          },
          "metadata": {
            "tags": []
          },
          "execution_count": 33
        }
      ]
    },
    {
      "metadata": {
        "id": "odmIdfuAEpF8",
        "colab_type": "code",
        "colab": {}
      },
      "cell_type": "code",
      "source": [
        "def file2matrix(filename):\n",
        "  file = open(filename)\n",
        "  file_lines = file.readlines()\n",
        "  length = len(file_lines)\n",
        "  matrix = np.zeros((length, 3))\n",
        "  label = []\n",
        "  for idx, line in enumerate(file_lines):\n",
        "    split_row = line.strip() # cut by enter \\n\n",
        "    split_element = split_row.split('\\t')\n",
        "    matrix[idx,:] = split_element[0:3] # only 0,1,2 not include 3\n",
        "    label.append(split_element[-1])\n",
        "  return matrix,np.array(label)"
      ],
      "execution_count": 0,
      "outputs": []
    },
    {
      "metadata": {
        "id": "jwnNRywnGbYj",
        "colab_type": "code",
        "colab": {}
      },
      "cell_type": "code",
      "source": [
        "matrix,label = file2matrix('datingTestSet2.txt')"
      ],
      "execution_count": 0,
      "outputs": []
    },
    {
      "metadata": {
        "id": "g6jXpqKdL1Hq",
        "colab_type": "code",
        "colab": {
          "base_uri": "https://localhost:8080/",
          "height": 134
        },
        "outputId": "40981cc0-17e3-467a-a925-a0410d905eab"
      },
      "cell_type": "code",
      "source": [
        "matrix"
      ],
      "execution_count": 69,
      "outputs": [
        {
          "output_type": "execute_result",
          "data": {
            "text/plain": [
              "array([[4.0920000e+04, 8.3269760e+00, 9.5395200e-01],\n",
              "       [1.4488000e+04, 7.1534690e+00, 1.6739040e+00],\n",
              "       [2.6052000e+04, 1.4418710e+00, 8.0512400e-01],\n",
              "       ...,\n",
              "       [2.6575000e+04, 1.0650102e+01, 8.6662700e-01],\n",
              "       [4.8111000e+04, 9.1345280e+00, 7.2804500e-01],\n",
              "       [4.3757000e+04, 7.8826010e+00, 1.3324460e+00]])"
            ]
          },
          "metadata": {
            "tags": []
          },
          "execution_count": 69
        }
      ]
    },
    {
      "metadata": {
        "id": "acWjFgNuGmJi",
        "colab_type": "code",
        "colab": {
          "base_uri": "https://localhost:8080/",
          "height": 34
        },
        "outputId": "f93bb268-7790-4f5d-b7df-2653bf82bdf0"
      },
      "cell_type": "code",
      "source": [
        "matrix.shape"
      ],
      "execution_count": 70,
      "outputs": [
        {
          "output_type": "execute_result",
          "data": {
            "text/plain": [
              "(1000, 3)"
            ]
          },
          "metadata": {
            "tags": []
          },
          "execution_count": 70
        }
      ]
    },
    {
      "metadata": {
        "id": "YWbp-OhGHA7U",
        "colab_type": "code",
        "colab": {
          "base_uri": "https://localhost:8080/",
          "height": 34
        },
        "outputId": "f9b54cc4-2dc9-4132-caea-a3e42a31f5e5"
      },
      "cell_type": "code",
      "source": [
        "label.shape"
      ],
      "execution_count": 38,
      "outputs": [
        {
          "output_type": "execute_result",
          "data": {
            "text/plain": [
              "(1000,)"
            ]
          },
          "metadata": {
            "tags": []
          },
          "execution_count": 38
        }
      ]
    },
    {
      "metadata": {
        "id": "_lVnWD8gHCb7",
        "colab_type": "code",
        "colab": {
          "base_uri": "https://localhost:8080/",
          "height": 364
        },
        "outputId": "d3e4f3bd-8d9d-45f9-8931-15c48c5ba338"
      },
      "cell_type": "code",
      "source": [
        "fig = plt.figure()\n",
        "ax1 = fig.add_subplot(311)\n",
        "ax1.scatter(matrix[:,1],matrix[:,2],c=label,cmap='rainbow')\n",
        "\n",
        "ax2 = fig.add_subplot(312)\n",
        "ax2.scatter(matrix[:,0],matrix[:,1],c=label,cmap='rainbow')\n",
        "\n",
        "ax3 = fig.add_subplot(313)\n",
        "ax3.scatter(matrix[:,0],matrix[:,2],c=label,cmap='rainbow')"
      ],
      "execution_count": 44,
      "outputs": [
        {
          "output_type": "execute_result",
          "data": {
            "text/plain": [
              "<matplotlib.collections.PathCollection at 0x7f9ece4320f0>"
            ]
          },
          "metadata": {
            "tags": []
          },
          "execution_count": 44
        },
        {
          "output_type": "display_data",
          "data": {
            "image/png": "[encoded data removed]",
            "text/plain": [
              "<matplotlib.figure.Figure at 0x7f9ece2f8828>"
            ]
          },
          "metadata": {
            "tags": []
          }
        }
      ]
    },
    {
      "metadata": {
        "id": "QBTxPCLE9X03",
        "colab_type": "text"
      },
      "cell_type": "markdown",
      "source": [
        "## 2-3 Normalization 归一化\n",
        "\n",
        "- 数值较大的属性会对结果产生较大的影响，因此归一化后，使得各个特征对结果有同样的影响，即每个特征同等重要\n",
        "- 改变数值范围，虽然增加了分类器的复杂度，但可以得到准确结果\n",
        "- \n",
        "$$ x = \\frac{x-min}{max-min} , range(0,1)$$ "
      ]
    },
    {
      "metadata": {
        "id": "CufxdTkI_WzO",
        "colab_type": "code",
        "colab": {
          "base_uri": "https://localhost:8080/",
          "height": 84
        },
        "outputId": "0ebb59ca-6631-4677-9047-56d844c9e3aa"
      },
      "cell_type": "code",
      "source": [
        "group"
      ],
      "execution_count": 49,
      "outputs": [
        {
          "output_type": "execute_result",
          "data": {
            "text/plain": [
              "array([[1. , 1.1],\n",
              "       [1. , 1. ],\n",
              "       [0. , 0. ],\n",
              "       [0. , 1.1]])"
            ]
          },
          "metadata": {
            "tags": []
          },
          "execution_count": 49
        }
      ]
    },
    {
      "metadata": {
        "id": "7UyS6JfVIrz7",
        "colab_type": "code",
        "colab": {
          "base_uri": "https://localhost:8080/",
          "height": 34
        },
        "outputId": "653a3d7d-54dd-4c5e-c4e5-c5d92092291c"
      },
      "cell_type": "code",
      "source": [
        "group.min(axis=0) # each col's min and max, for each feature"
      ],
      "execution_count": 47,
      "outputs": [
        {
          "output_type": "execute_result",
          "data": {
            "text/plain": [
              "0.0"
            ]
          },
          "metadata": {
            "tags": []
          },
          "execution_count": 47
        }
      ]
    },
    {
      "metadata": {
        "id": "wu-9dCkS_NGf",
        "colab_type": "code",
        "colab": {
          "base_uri": "https://localhost:8080/",
          "height": 34
        },
        "outputId": "4496e280-fad0-4ad2-890a-60f827dc645c"
      },
      "cell_type": "code",
      "source": [
        "group.max(axis=0)"
      ],
      "execution_count": 51,
      "outputs": [
        {
          "output_type": "execute_result",
          "data": {
            "text/plain": [
              "array([1. , 1.1])"
            ]
          },
          "metadata": {
            "tags": []
          },
          "execution_count": 51
        }
      ]
    },
    {
      "metadata": {
        "id": "Ag74r9ym_fjW",
        "colab_type": "code",
        "colab": {
          "base_uri": "https://localhost:8080/",
          "height": 84
        },
        "outputId": "ce83077b-1880-401f-c693-573b10c0c1d9"
      },
      "cell_type": "code",
      "source": [
        "np.zeros(group.shape)"
      ],
      "execution_count": 56,
      "outputs": [
        {
          "output_type": "execute_result",
          "data": {
            "text/plain": [
              "array([[0., 0.],\n",
              "       [0., 0.],\n",
              "       [0., 0.],\n",
              "       [0., 0.]])"
            ]
          },
          "metadata": {
            "tags": []
          },
          "execution_count": 56
        }
      ]
    },
    {
      "metadata": {
        "id": "SzrrVZSC_5EV",
        "colab_type": "code",
        "colab": {}
      },
      "cell_type": "code",
      "source": [
        "def autoNorm(dataset):\n",
        "  min_val = dataset.min(axis=0)\n",
        "  max_val = dataset.max(axis=0)\n",
        "  max_min_range = max_val - min_val\n",
        "  norm_dataset = np.zeros(dataset.shape)\n",
        "  row = dataset.shape[0]\n",
        "  norm_dataset = dataset - np.tile(min_val,(row,1))\n",
        "  norm_dataset = norm_dataset / np.tile(max_min_range,(row,1))\n",
        "  return norm_dataset, max_min_range, min_val"
      ],
      "execution_count": 0,
      "outputs": []
    },
    {
      "metadata": {
        "id": "pK6Rker1BcZ-",
        "colab_type": "code",
        "colab": {
          "base_uri": "https://localhost:8080/",
          "height": 84
        },
        "outputId": "93c8e9e4-0b49-400f-d013-30b048306e7f"
      },
      "cell_type": "code",
      "source": [
        "autoNorm(group)"
      ],
      "execution_count": 60,
      "outputs": [
        {
          "output_type": "execute_result",
          "data": {
            "text/plain": [
              "(array([[1.        , 1.        ],\n",
              "        [1.        , 0.90909091],\n",
              "        [0.        , 0.        ],\n",
              "        [0.        , 1.        ]]), array([1. , 1.1]), array([0., 0.]))"
            ]
          },
          "metadata": {
            "tags": []
          },
          "execution_count": 60
        }
      ]
    },
    {
      "metadata": {
        "id": "vDYn3JXtBfMG",
        "colab_type": "code",
        "colab": {}
      },
      "cell_type": "code",
      "source": [
        "norm_matrix, val_range, min_val = autoNorm(matrix)"
      ],
      "execution_count": 0,
      "outputs": []
    },
    {
      "metadata": {
        "id": "5r-bqBB-CVD8",
        "colab_type": "code",
        "colab": {
          "base_uri": "https://localhost:8080/",
          "height": 134
        },
        "outputId": "8f9f5d11-9c26-47bf-c224-c720f349782b"
      },
      "cell_type": "code",
      "source": [
        "norm_matrix"
      ],
      "execution_count": 63,
      "outputs": [
        {
          "output_type": "execute_result",
          "data": {
            "text/plain": [
              "array([[0.44832535, 0.39805139, 0.56233353],\n",
              "       [0.15873259, 0.34195467, 0.98724416],\n",
              "       [0.28542943, 0.06892523, 0.47449629],\n",
              "       ...,\n",
              "       [0.29115949, 0.50910294, 0.51079493],\n",
              "       [0.52711097, 0.43665451, 0.4290048 ],\n",
              "       [0.47940793, 0.3768091 , 0.78571804]])"
            ]
          },
          "metadata": {
            "tags": []
          },
          "execution_count": 63
        }
      ]
    },
    {
      "metadata": {
        "id": "nv5hA_n-Cy4H",
        "colab_type": "code",
        "colab": {
          "base_uri": "https://localhost:8080/",
          "height": 34
        },
        "outputId": "e8748f68-da7b-41e5-d6c5-b4716c30c1b3"
      },
      "cell_type": "code",
      "source": [
        "val_range"
      ],
      "execution_count": 64,
      "outputs": [
        {
          "output_type": "execute_result",
          "data": {
            "text/plain": [
              "array([9.1273000e+04, 2.0919349e+01, 1.6943610e+00])"
            ]
          },
          "metadata": {
            "tags": []
          },
          "execution_count": 64
        }
      ]
    },
    {
      "metadata": {
        "id": "R23tlHo0C1EA",
        "colab_type": "code",
        "colab": {
          "base_uri": "https://localhost:8080/",
          "height": 34
        },
        "outputId": "049ea6d9-3e31-41a2-8826-6d35e2d17278"
      },
      "cell_type": "code",
      "source": [
        "min_val"
      ],
      "execution_count": 65,
      "outputs": [
        {
          "output_type": "execute_result",
          "data": {
            "text/plain": [
              "array([0.      , 0.      , 0.001156])"
            ]
          },
          "metadata": {
            "tags": []
          },
          "execution_count": 65
        }
      ]
    },
    {
      "metadata": {
        "id": "xMD5uVURDdKI",
        "colab_type": "text"
      },
      "cell_type": "markdown",
      "source": [
        "## 2-4 Test code of dating website"
      ]
    },
    {
      "metadata": {
        "id": "uLL_sG_CDciD",
        "colab_type": "code",
        "colab": {
          "base_uri": "https://localhost:8080/",
          "height": 34
        },
        "outputId": "31f1dba8-659d-4632-d0ec-7209fdcfbc7f"
      },
      "cell_type": "code",
      "source": [
        "int(10)"
      ],
      "execution_count": 66,
      "outputs": [
        {
          "output_type": "execute_result",
          "data": {
            "text/plain": [
              "10"
            ]
          },
          "metadata": {
            "tags": []
          },
          "execution_count": 66
        }
      ]
    },
    {
      "metadata": {
        "id": "Y3h9aNgtC2g_",
        "colab_type": "code",
        "colab": {}
      },
      "cell_type": "code",
      "source": [
        "def datingClassTest():\n",
        "  ratio = 0.1\n",
        "  feature_arr,labels = file2matrix('datingTestSet2.txt')\n",
        "  norm_feature, val_range, min_val = autoNorm(feature_arr)\n",
        "  test_sample_num = int(norm_feature.shape[0] * ratio)\n",
        "  error_count = 0\n",
        "  for i in range(test_sample_num):\n",
        "    test_result = classify0(norm_feature[i,:], norm_feature[test_sample_num:,:], labels, 3)\n",
        "    print('test result is : {}, true label is {}'.format(test_result, label[i]))\n",
        "    if (test_result != label[i]):\n",
        "      error_count += 1\n",
        "  print('Total error rate is: {}'.format(error_count/test_sample_num))"
      ],
      "execution_count": 0,
      "outputs": []
    },
    {
      "metadata": {
        "id": "W6GDEDUOKokx",
        "colab_type": "code",
        "colab": {
          "base_uri": "https://localhost:8080/",
          "height": 1714
        },
        "outputId": "f0fd748f-7944-44f0-dc4c-7aa916ab309c"
      },
      "cell_type": "code",
      "source": [
        "datingClassTest()"
      ],
      "execution_count": 76,
      "outputs": [
        {
          "output_type": "stream",
          "text": [
            "test result is : 1, true label is 3\n",
            "test result is : 3, true label is 2\n",
            "test result is : 1, true label is 1\n",
            "test result is : 2, true label is 1\n",
            "test result is : 2, true label is 1\n",
            "test result is : 2, true label is 1\n",
            "test result is : 2, true label is 3\n",
            "test result is : 1, true label is 3\n",
            "test result is : 1, true label is 1\n",
            "test result is : 2, true label is 3\n",
            "test result is : 2, true label is 1\n",
            "test result is : 2, true label is 1\n",
            "test result is : 2, true label is 2\n",
            "test result is : 3, true label is 1\n",
            "test result is : 2, true label is 1\n",
            "test result is : 2, true label is 1\n",
            "test result is : 3, true label is 1\n",
            "test result is : 2, true label is 1\n",
            "test result is : 2, true label is 2\n",
            "test result is : 3, true label is 3\n",
            "test result is : 1, true label is 2\n",
            "test result is : 3, true label is 1\n",
            "test result is : 3, true label is 2\n",
            "test result is : 1, true label is 3\n",
            "test result is : 3, true label is 2\n",
            "test result is : 2, true label is 3\n",
            "test result is : 1, true label is 2\n",
            "test result is : 1, true label is 3\n",
            "test result is : 1, true label is 2\n",
            "test result is : 1, true label is 1\n",
            "test result is : 1, true label is 3\n",
            "test result is : 3, true label is 1\n",
            "test result is : 1, true label is 3\n",
            "test result is : 3, true label is 1\n",
            "test result is : 2, true label is 2\n",
            "test result is : 1, true label is 1\n",
            "test result is : 1, true label is 1\n",
            "test result is : 2, true label is 2\n",
            "test result is : 1, true label is 3\n",
            "test result is : 1, true label is 3\n",
            "test result is : 2, true label is 1\n",
            "test result is : 2, true label is 2\n",
            "test result is : 1, true label is 3\n",
            "test result is : 3, true label is 3\n",
            "test result is : 1, true label is 3\n",
            "test result is : 3, true label is 1\n",
            "test result is : 3, true label is 1\n",
            "test result is : 1, true label is 1\n",
            "test result is : 3, true label is 1\n",
            "test result is : 3, true label is 2\n",
            "test result is : 2, true label is 2\n",
            "test result is : 2, true label is 1\n",
            "test result is : 1, true label is 3\n",
            "test result is : 3, true label is 2\n",
            "test result is : 1, true label is 2\n",
            "test result is : 1, true label is 2\n",
            "test result is : 3, true label is 2\n",
            "test result is : 2, true label is 3\n",
            "test result is : 1, true label is 1\n",
            "test result is : 2, true label is 2\n",
            "test result is : 2, true label is 1\n",
            "test result is : 3, true label is 2\n",
            "test result is : 3, true label is 2\n",
            "test result is : 2, true label is 2\n",
            "test result is : 1, true label is 2\n",
            "test result is : 2, true label is 2\n",
            "test result is : 2, true label is 3\n",
            "test result is : 3, true label is 2\n",
            "test result is : 2, true label is 3\n",
            "test result is : 1, true label is 1\n",
            "test result is : 1, true label is 2\n",
            "test result is : 2, true label is 3\n",
            "test result is : 3, true label is 2\n",
            "test result is : 3, true label is 2\n",
            "test result is : 1, true label is 1\n",
            "test result is : 1, true label is 3\n",
            "test result is : 3, true label is 1\n",
            "test result is : 1, true label is 1\n",
            "test result is : 3, true label is 3\n",
            "test result is : 3, true label is 3\n",
            "test result is : 1, true label is 1\n",
            "test result is : 2, true label is 2\n",
            "test result is : 2, true label is 3\n",
            "test result is : 2, true label is 1\n",
            "test result is : 1, true label is 3\n",
            "test result is : 1, true label is 1\n",
            "test result is : 1, true label is 2\n",
            "test result is : 1, true label is 2\n",
            "test result is : 3, true label is 1\n",
            "test result is : 1, true label is 1\n",
            "test result is : 3, true label is 3\n",
            "test result is : 3, true label is 3\n",
            "test result is : 1, true label is 1\n",
            "test result is : 1, true label is 2\n",
            "test result is : 2, true label is 1\n",
            "test result is : 1, true label is 3\n",
            "test result is : 1, true label is 3\n",
            "test result is : 1, true label is 2\n",
            "test result is : 1, true label is 1\n",
            "test result is : 2, true label is 1\n",
            "Total error rate is: 0.69\n"
          ],
          "name": "stdout"
        }
      ]
    },
    {
      "metadata": {
        "id": "gij-8wR7KsmA",
        "colab_type": "code",
        "colab": {}
      },
      "cell_type": "code",
      "source": [
        ""
      ],
      "execution_count": 0,
      "outputs": []
    }
  ]
}