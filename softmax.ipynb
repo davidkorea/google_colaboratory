{
  "nbformat": 4,
  "nbformat_minor": 0,
  "metadata": {
    "colab": {
      "name": "softmax.ipynb",
      "version": "0.3.2",
      "provenance": [],
      "collapsed_sections": [],
      "include_colab_link": true
    },
    "kernelspec": {
      "name": "python3",
      "display_name": "Python 3"
    }
  },
  "cells": [
    {
      "cell_type": "markdown",
      "metadata": {
        "id": "view-in-github",
        "colab_type": "text"
      },
      "source": [
        "<a href=\"https://colab.research.google.com/github/davidkorea/google_colaboratory/blob/master/softmax.ipynb\" target=\"_parent\"><img src=\"https://colab.research.google.com/assets/colab-badge.svg\" alt=\"Open In Colab\"/></a>"
      ]
    },
    {
      "metadata": {
        "id": "Q-JnKDmE9K-s",
        "colab_type": "code",
        "colab": {}
      },
      "cell_type": "code",
      "source": [
        "import numpy as np"
      ],
      "execution_count": 0,
      "outputs": []
    },
    {
      "metadata": {
        "id": "nVyBmiKn9glI",
        "colab_type": "code",
        "colab": {
          "base_uri": "https://localhost:8080/",
          "height": 35
        },
        "outputId": "fdcd3015-95a1-4e7f-c861-4ef8ed98554b"
      },
      "cell_type": "code",
      "source": [
        "a = np.array([[1,2],[4,3],[10,6]])\n",
        "a.shape"
      ],
      "execution_count": 31,
      "outputs": [
        {
          "output_type": "execute_result",
          "data": {
            "text/plain": [
              "(3, 2)"
            ]
          },
          "metadata": {
            "tags": []
          },
          "execution_count": 31
        }
      ]
    },
    {
      "metadata": {
        "id": "aw_D66y79pC9",
        "colab_type": "code",
        "colab": {
          "base_uri": "https://localhost:8080/",
          "height": 35
        },
        "outputId": "4c3f9baa-7b15-4431-ca71-13d826d02b8e"
      },
      "cell_type": "code",
      "source": [
        "a.shape[0]"
      ],
      "execution_count": 7,
      "outputs": [
        {
          "output_type": "execute_result",
          "data": {
            "text/plain": [
              "3"
            ]
          },
          "metadata": {
            "tags": []
          },
          "execution_count": 7
        }
      ]
    },
    {
      "metadata": {
        "id": "45wduWN19pPj",
        "colab_type": "code",
        "colab": {
          "base_uri": "https://localhost:8080/",
          "height": 35
        },
        "outputId": "fc600dc5-24d5-47c0-e94b-56266525067d"
      },
      "cell_type": "code",
      "source": [
        "row = a[0]\n",
        "row"
      ],
      "execution_count": 10,
      "outputs": [
        {
          "output_type": "execute_result",
          "data": {
            "text/plain": [
              "array([1, 2])"
            ]
          },
          "metadata": {
            "tags": []
          },
          "execution_count": 10
        }
      ]
    },
    {
      "metadata": {
        "id": "wJTJHvIc9pks",
        "colab_type": "code",
        "colab": {
          "base_uri": "https://localhost:8080/",
          "height": 35
        },
        "outputId": "a1234b46-b8a4-4275-a1f1-d6a10ce34930"
      },
      "cell_type": "code",
      "source": [
        "row[np.argmax(a[0])]"
      ],
      "execution_count": 11,
      "outputs": [
        {
          "output_type": "execute_result",
          "data": {
            "text/plain": [
              "2"
            ]
          },
          "metadata": {
            "tags": []
          },
          "execution_count": 11
        }
      ]
    },
    {
      "metadata": {
        "id": "Du4dEUeH9pfh",
        "colab_type": "code",
        "colab": {
          "base_uri": "https://localhost:8080/",
          "height": 35
        },
        "outputId": "82205007-277d-4bea-ac40-39fae7e1c911"
      },
      "cell_type": "code",
      "source": [
        "exp = np.exp(row-2)\n",
        "exp"
      ],
      "execution_count": 14,
      "outputs": [
        {
          "output_type": "execute_result",
          "data": {
            "text/plain": [
              "array([0.36787944, 1.        ])"
            ]
          },
          "metadata": {
            "tags": []
          },
          "execution_count": 14
        }
      ]
    },
    {
      "metadata": {
        "id": "0WpWEK2x9pbQ",
        "colab_type": "code",
        "colab": {
          "base_uri": "https://localhost:8080/",
          "height": 35
        },
        "outputId": "2699226e-4a9a-42a7-b603-249eddaaf7dc"
      },
      "cell_type": "code",
      "source": [
        "np.sum(exp)"
      ],
      "execution_count": 15,
      "outputs": [
        {
          "output_type": "execute_result",
          "data": {
            "text/plain": [
              "1.3678794411714423"
            ]
          },
          "metadata": {
            "tags": []
          },
          "execution_count": 15
        }
      ]
    },
    {
      "metadata": {
        "id": "dZjvq8OZ-d3I",
        "colab_type": "code",
        "colab": {
          "base_uri": "https://localhost:8080/",
          "height": 35
        },
        "outputId": "48e924bc-ca68-498d-945f-12ce0d2635a0"
      },
      "cell_type": "code",
      "source": [
        "b = np.array([1,2,3])\n",
        "b.shape"
      ],
      "execution_count": 72,
      "outputs": [
        {
          "output_type": "execute_result",
          "data": {
            "text/plain": [
              "(3,)"
            ]
          },
          "metadata": {
            "tags": []
          },
          "execution_count": 72
        }
      ]
    },
    {
      "metadata": {
        "id": "hbn2HoK4-dvn",
        "colab_type": "code",
        "colab": {
          "base_uri": "https://localhost:8080/",
          "height": 35
        },
        "outputId": "d94554ee-213d-4d5d-a155-be45c76063e0"
      },
      "cell_type": "code",
      "source": [
        "b.shape[0]"
      ],
      "execution_count": 74,
      "outputs": [
        {
          "output_type": "execute_result",
          "data": {
            "text/plain": [
              "3"
            ]
          },
          "metadata": {
            "tags": []
          },
          "execution_count": 74
        }
      ]
    },
    {
      "metadata": {
        "id": "39paHpRhJxJ0",
        "colab_type": "code",
        "colab": {
          "base_uri": "https://localhost:8080/",
          "height": 35
        },
        "outputId": "75c73330-7f94-4167-e75d-6856908cd15e"
      },
      "cell_type": "code",
      "source": [
        "b[np.argmax(b)]"
      ],
      "execution_count": 76,
      "outputs": [
        {
          "output_type": "execute_result",
          "data": {
            "text/plain": [
              "3"
            ]
          },
          "metadata": {
            "tags": []
          },
          "execution_count": 76
        }
      ]
    },
    {
      "metadata": {
        "id": "lD27PZkKJxF3",
        "colab_type": "code",
        "colab": {
          "base_uri": "https://localhost:8080/",
          "height": 35
        },
        "outputId": "c8d7ec2f-2b50-4171-ed3e-e17adf59eff4"
      },
      "cell_type": "code",
      "source": [
        " np.exp(b-3)"
      ],
      "execution_count": 59,
      "outputs": [
        {
          "output_type": "execute_result",
          "data": {
            "text/plain": [
              "array([[0.13533528, 0.36787944, 1.        ]])"
            ]
          },
          "metadata": {
            "tags": []
          },
          "execution_count": 59
        }
      ]
    },
    {
      "metadata": {
        "id": "lz_6Qo0CJxB1",
        "colab_type": "code",
        "colab": {}
      },
      "cell_type": "code",
      "source": [
        ""
      ],
      "execution_count": 0,
      "outputs": []
    },
    {
      "metadata": {
        "id": "aguqqsHnJw90",
        "colab_type": "code",
        "colab": {}
      },
      "cell_type": "code",
      "source": [
        ""
      ],
      "execution_count": 0,
      "outputs": []
    },
    {
      "metadata": {
        "id": "gquA4G-BJw5n",
        "colab_type": "code",
        "colab": {}
      },
      "cell_type": "code",
      "source": [
        ""
      ],
      "execution_count": 0,
      "outputs": []
    },
    {
      "metadata": {
        "id": "Eyh2eItGJw0r",
        "colab_type": "code",
        "colab": {}
      },
      "cell_type": "code",
      "source": [
        ""
      ],
      "execution_count": 0,
      "outputs": []
    },
    {
      "metadata": {
        "id": "hazW0UjI-dps",
        "colab_type": "code",
        "colab": {}
      },
      "cell_type": "code",
      "source": [
        ""
      ],
      "execution_count": 0,
      "outputs": []
    },
    {
      "metadata": {
        "id": "KzCwVCPm9WRd",
        "colab_type": "code",
        "colab": {}
      },
      "cell_type": "code",
      "source": [
        "def softmax(x):\n",
        "  soft_max_list = []\n",
        "  if len(x.shape) > 1:\n",
        "    for i in range(x.shape[0]): #rows\n",
        "      soft_max_row = []\n",
        "      row = x[i]\n",
        "      argmax = np.argmax(row)\n",
        "      max_i = row[argmax]\n",
        "      exp_max_row = np.exp(row-max_i)\n",
        "      down = np.sum(exp_max_row)\n",
        "      for j in range(x.shape[1]):\n",
        "        up = exp_max_row[j]\n",
        "        soft_max_i = up / down\n",
        "        soft_max_row.append(soft_max_i)\n",
        "      soft_max_list.append(soft_max_row)\n",
        "\n",
        "  else:\n",
        "    argmax = np.argmax(x)\n",
        "    max_i = x[argmax]\n",
        "    exp_max_x = np.exp(x-max_i)\n",
        "    down = np.sum(exp_max_x)\n",
        "    for i in range(x.shape[0]):\n",
        "      up = exp_max_x[i]\n",
        "      soft_max_i = up / down\n",
        "      soft_max_list.append(soft_max_i)\n",
        "#   print(soft_max_list)\n",
        "  return soft_max_list"
      ],
      "execution_count": 0,
      "outputs": []
    },
    {
      "metadata": {
        "id": "d5qNXM9V9oeG",
        "colab_type": "code",
        "colab": {
          "base_uri": "https://localhost:8080/",
          "height": 71
        },
        "outputId": "50e05873-c6e4-4edd-d3fa-33b26894dabf"
      },
      "cell_type": "code",
      "source": [
        "softmax(a)"
      ],
      "execution_count": 87,
      "outputs": [
        {
          "output_type": "execute_result",
          "data": {
            "text/plain": [
              "[[0.2689414213699951, 0.7310585786300049],\n",
              " [0.7310585786300049, 0.2689414213699951],\n",
              " [0.9820137900379085, 0.017986209962091555]]"
            ]
          },
          "metadata": {
            "tags": []
          },
          "execution_count": 87
        }
      ]
    },
    {
      "metadata": {
        "id": "fWvMOcp_9f40",
        "colab_type": "code",
        "colab": {
          "base_uri": "https://localhost:8080/",
          "height": 35
        },
        "outputId": "32988987-7a24-44e3-d406-cbd84e95788a"
      },
      "cell_type": "code",
      "source": [
        "softmax(b)"
      ],
      "execution_count": 88,
      "outputs": [
        {
          "output_type": "execute_result",
          "data": {
            "text/plain": [
              "[0.09003057317038046, 0.24472847105479764, 0.6652409557748218]"
            ]
          },
          "metadata": {
            "tags": []
          },
          "execution_count": 88
        }
      ]
    },
    {
      "metadata": {
        "id": "E9DLRI7xJksj",
        "colab_type": "code",
        "colab": {
          "base_uri": "https://localhost:8080/",
          "height": 35
        },
        "outputId": "41484fa3-671e-4c5c-89af-36432b8bf00e"
      },
      "cell_type": "code",
      "source": [
        "softmax(np.array([[1,2]]))"
      ],
      "execution_count": 67,
      "outputs": [
        {
          "output_type": "execute_result",
          "data": {
            "text/plain": [
              "[0.2689414213699951, 0.7310585786300049]"
            ]
          },
          "metadata": {
            "tags": []
          },
          "execution_count": 67
        }
      ]
    },
    {
      "metadata": {
        "id": "Yc-Q5OiTKquo",
        "colab_type": "code",
        "colab": {}
      },
      "cell_type": "code",
      "source": [
        "import numpy as np\n",
        "\n",
        "\n",
        "def softmax(x):\n",
        "    \"\"\"Compute the softmax function for each row of the input x.\n",
        "\n",
        "    It is crucial that this function is optimized for speed because\n",
        "    it will be used frequently in later code. You might find numpy\n",
        "    functions np.exp, np.sum, np.reshape, np.max, and numpy\n",
        "    broadcasting useful for this task.\n",
        "\n",
        "    Numpy broadcasting documentation:\n",
        "    http://docs.scipy.org/doc/numpy/user/basics.broadcasting.html\n",
        "\n",
        "    You should also make sure that your code works for a single\n",
        "    D-dimensional vector (treat the vector as a single row) and\n",
        "    for N x D matrices. This may be useful for testing later. Also,\n",
        "    make sure that the dimensions of the output match the input.\n",
        "\n",
        "    You must implement the optimization in problem 1(a) of the\n",
        "    written assignment!\n",
        "\n",
        "    Arguments:\n",
        "    x -- A D dimensional vector or N x D dimensional numpy matrix.\n",
        "\n",
        "    Return:\n",
        "    x -- You are allowed to modify x in-place\n",
        "    \"\"\"\n",
        "    orig_shape = x.shape\n",
        "    soft_max_list = []\n",
        "    if len(x.shape) > 1:\n",
        "        # Matrix\n",
        "        ### YOUR CODE HERE\n",
        "        for i in range(x.shape[0]): #rows\n",
        "          soft_max_row = []\n",
        "          row = x[i]\n",
        "          argmax = np.argmax(row)\n",
        "          max_i = row[argmax]\n",
        "          exp_max_row = np.exp(row-max_i)\n",
        "          down = np.sum(exp_max_row)\n",
        "          for j in range(x.shape[1]):\n",
        "            up = exp_max_row[j]\n",
        "            soft_max_i = up / down\n",
        "            soft_max_row.append(soft_max_i)\n",
        "          soft_max_list.append(soft_max_row)\n",
        "#         raise NotImplementedError\n",
        "        ### END YOUR CODE\n",
        "    else:\n",
        "        # Vector\n",
        "        ### YOUR CODE HERE\n",
        "        argmax = np.argmax(x)\n",
        "        max_i = x[argmax]\n",
        "        exp_max_x = np.exp(x-max_i)\n",
        "        down = np.sum(exp_max_x)\n",
        "        for i in range(x.shape[0]):\n",
        "          up = exp_max_x[i]\n",
        "          soft_max_i = up / down\n",
        "          soft_max_list.append(soft_max_i)\n",
        "#         raise NotImplementedError\n",
        "        ### END YOUR CODE\n",
        "\n",
        "    assert x.shape == np.array(soft_max_list).shape\n",
        "    return np.array(soft_max_list)\n",
        "\n",
        "\n",
        "def test_softmax_basic():\n",
        "    \"\"\"\n",
        "    Some simple tests to get you started.\n",
        "    Warning: these are not exhaustive.\n",
        "    \"\"\"\n",
        "    print( \"Running basic tests...\")\n",
        "    test1 = softmax(np.array([1,2]))\n",
        "    print( test1)\n",
        "    ans1 = np.array([0.26894142,  0.73105858])\n",
        "    assert np.allclose(test1, ans1, rtol=1e-05, atol=1e-06)\n",
        "\n",
        "    test2 = softmax(np.array([[1001,1002],[3,4]]))\n",
        "    print( test2)\n",
        "    ans2 = np.array([\n",
        "        [0.26894142, 0.73105858],\n",
        "        [0.26894142, 0.73105858]])\n",
        "    assert np.allclose(test2, ans2, rtol=1e-05, atol=1e-06)\n",
        "\n",
        "    test3 = softmax(np.array([[-1001,-1002]]))\n",
        "    print( test3)\n",
        "    ans3 = np.array([0.73105858, 0.26894142])\n",
        "    assert np.allclose(test3, ans3, rtol=1e-05, atol=1e-06)\n",
        "\n",
        "    print( \"You should be able to verify these results by hand!\\n\")\n",
        "\n",
        "\n",
        "def test_softmax():\n",
        "    \"\"\"\n",
        "    Use this space to test your softmax implementation by running:\n",
        "        python q1_softmax.py\n",
        "    This function will not be called by the autograder, nor will\n",
        "    your tests be graded.\n",
        "    \"\"\"\n",
        "    print( \"Running your tests...\")\n",
        "    ### YOUR CODE HERE\n",
        "    raise NotImplementedError\n",
        "    ### END YOUR CODE\n",
        "\n",
        "\n",
        "# if __name__ == \"__main__\":\n",
        "#     test_softmax_basic()\n",
        "#     test_softmax()\n"
      ],
      "execution_count": 0,
      "outputs": []
    },
    {
      "metadata": {
        "id": "kaUWSB4dMFbF",
        "colab_type": "code",
        "colab": {
          "base_uri": "https://localhost:8080/",
          "height": 143
        },
        "outputId": "14404bc1-e781-4979-a2c9-2bc587220f16"
      },
      "cell_type": "code",
      "source": [
        "test_softmax_basic()"
      ],
      "execution_count": 98,
      "outputs": [
        {
          "output_type": "stream",
          "text": [
            "Running basic tests...\n",
            "[0.26894142 0.73105858]\n",
            "[[0.26894142 0.73105858]\n",
            " [0.26894142 0.73105858]]\n",
            "[[0.73105858 0.26894142]]\n",
            "You should be able to verify these results by hand!\n",
            "\n"
          ],
          "name": "stdout"
        }
      ]
    },
    {
      "metadata": {
        "id": "_Qcb6a4QNtIz",
        "colab_type": "code",
        "colab": {
          "base_uri": "https://localhost:8080/",
          "height": 71
        },
        "outputId": "f8c24b04-2c52-4775-c99c-67c4acf1419c"
      },
      "cell_type": "code",
      "source": [
        ""
      ],
      "execution_count": 99,
      "outputs": [
        {
          "output_type": "stream",
          "text": [
            "[[0.73105858 0.26894142]]\n",
            "You should be able to verify these results by hand!\n",
            "\n"
          ],
          "name": "stdout"
        }
      ]
    },
    {
      "metadata": {
        "id": "MrusEQ2KP71s",
        "colab_type": "code",
        "colab": {}
      },
      "cell_type": "code",
      "source": [
        ""
      ],
      "execution_count": 0,
      "outputs": []
    },
    {
      "metadata": {
        "id": "IMDugoD0QZdM",
        "colab_type": "code",
        "colab": {
          "base_uri": "https://localhost:8080/",
          "height": 243
        },
        "outputId": "18e0b4a1-4e14-46c0-daa4-cdd711de9e2b"
      },
      "cell_type": "code",
      "source": [
        "|"
      ],
      "execution_count": 101,
      "outputs": [
        {
          "output_type": "error",
          "ename": "NotImplementedError",
          "evalue": "ignored",
          "traceback": [
            "\u001b[0;31m---------------------------------------------------------------------------\u001b[0m",
            "\u001b[0;31mNotImplementedError\u001b[0m                       Traceback (most recent call last)",
            "\u001b[0;32m<ipython-input-101-fbd55f77ab7c>\u001b[0m in \u001b[0;36m<module>\u001b[0;34m()\u001b[0m\n\u001b[0;32m----> 1\u001b[0;31m \u001b[0mtest\u001b[0m\u001b[0;34m(\u001b[0m\u001b[0;34m)\u001b[0m\u001b[0;34m\u001b[0m\u001b[0m\n\u001b[0m",
            "\u001b[0;32m<ipython-input-100-67e17c870a14>\u001b[0m in \u001b[0;36mtest\u001b[0;34m()\u001b[0m\n\u001b[1;32m      1\u001b[0m \u001b[0;32mdef\u001b[0m \u001b[0mtest\u001b[0m\u001b[0;34m(\u001b[0m\u001b[0;34m)\u001b[0m\u001b[0;34m:\u001b[0m\u001b[0;34m\u001b[0m\u001b[0m\n\u001b[0;32m----> 2\u001b[0;31m   \u001b[0;32mraise\u001b[0m \u001b[0mNotImplementedError\u001b[0m\u001b[0;34m\u001b[0m\u001b[0m\n\u001b[0m",
            "\u001b[0;31mNotImplementedError\u001b[0m: "
          ]
        }
      ]
    },
    {
      "metadata": {
        "id": "xOwP1rURQbC9",
        "colab_type": "code",
        "colab": {}
      },
      "cell_type": "code",
      "source": [
        ""
      ],
      "execution_count": 0,
      "outputs": []
    }
  ]
}