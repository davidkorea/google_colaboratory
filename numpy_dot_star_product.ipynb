{
  "nbformat": 4,
  "nbformat_minor": 0,
  "metadata": {
    "colab": {
      "name": "numpy_dot_star_product.ipynb",
      "version": "0.3.2",
      "provenance": [],
      "collapsed_sections": [],
      "include_colab_link": true
    },
    "kernelspec": {
      "name": "python3",
      "display_name": "Python 3"
    }
  },
  "cells": [
    {
      "cell_type": "markdown",
      "metadata": {
        "id": "view-in-github",
        "colab_type": "text"
      },
      "source": [
        "<a href=\"https://colab.research.google.com/github/davidkorea/google_colaboratory/blob/master/numpy_dot_star_product.ipynb\" target=\"_parent\"><img src=\"https://colab.research.google.com/assets/colab-badge.svg\" alt=\"Open In Colab\"/></a>"
      ]
    },
    {
      "metadata": {
        "id": "4nQ9RJNY2s52",
        "colab_type": "code",
        "colab": {}
      },
      "cell_type": "code",
      "source": [
        "import numpy as np"
      ],
      "execution_count": 0,
      "outputs": []
    },
    {
      "metadata": {
        "id": "kq9Uoy1QPZLC",
        "colab_type": "text"
      },
      "cell_type": "markdown",
      "source": [
        "  \n",
        "# Vector\n",
        "  1. ** a * b **: same location element product, return same shape as input\n",
        "  2. ** np.dot(a, b)**:  one scalar，A numer (1row, 1col)\n",
        "    $$  \\vec a \\cdot \\vec b=\\sum_{i-1}^{n} a_i  b_i$$\n",
        "     $$  \\vec a \\cdot \\vec b= |a| |b| cos \\theta $$\n",
        "  \n",
        "  \n",
        "# Matrix\n",
        "  1. ** a * b **, **same shape ONLY**: same location element product, return same shape as input\n",
        "  2.   ** np.dot(a, b)**: each row of a product each column of b, return (a.shape[0], b.shape[1])"
      ]
    },
    {
      "metadata": {
        "id": "WNHpRTc0OuT2",
        "colab_type": "text"
      },
      "cell_type": "markdown",
      "source": [
        "# 1. Vector numpy * vs numpy dot"
      ]
    },
    {
      "metadata": {
        "id": "OAOCx6wY21da",
        "colab_type": "code",
        "colab": {
          "base_uri": "https://localhost:8080/",
          "height": 35
        },
        "outputId": "83b3073d-f3f8-4e93-e722-df6df19cf7e7"
      },
      "cell_type": "code",
      "source": [
        "a = np.array([1,2])\n",
        "a"
      ],
      "execution_count": 3,
      "outputs": [
        {
          "output_type": "execute_result",
          "data": {
            "text/plain": [
              "array([1, 2])"
            ]
          },
          "metadata": {
            "tags": []
          },
          "execution_count": 3
        }
      ]
    },
    {
      "metadata": {
        "id": "ldM50yIw2-FV",
        "colab_type": "code",
        "colab": {
          "base_uri": "https://localhost:8080/",
          "height": 35
        },
        "outputId": "44bc4029-153f-423b-cdd0-80f8c11f9697"
      },
      "cell_type": "code",
      "source": [
        "b = np.array([3,4])\n",
        "b"
      ],
      "execution_count": 25,
      "outputs": [
        {
          "output_type": "execute_result",
          "data": {
            "text/plain": [
              "array([3, 4])"
            ]
          },
          "metadata": {
            "tags": []
          },
          "execution_count": 25
        }
      ]
    },
    {
      "metadata": {
        "id": "13lZRgCY3DMG",
        "colab_type": "code",
        "colab": {
          "base_uri": "https://localhost:8080/",
          "height": 35
        },
        "outputId": "771bcfb9-f9b7-4059-f720-5fa06d1c02a1"
      },
      "cell_type": "code",
      "source": [
        "np.dot(a,b)"
      ],
      "execution_count": 26,
      "outputs": [
        {
          "output_type": "execute_result",
          "data": {
            "text/plain": [
              "11"
            ]
          },
          "metadata": {
            "tags": []
          },
          "execution_count": 26
        }
      ]
    },
    {
      "metadata": {
        "id": "9pYtVnji3IpP",
        "colab_type": "code",
        "colab": {
          "base_uri": "https://localhost:8080/",
          "height": 35
        },
        "outputId": "a459cb89-67fc-4bab-99d1-8277164ff3e8"
      },
      "cell_type": "code",
      "source": [
        "a*b"
      ],
      "execution_count": 27,
      "outputs": [
        {
          "output_type": "execute_result",
          "data": {
            "text/plain": [
              "array([3, 8])"
            ]
          },
          "metadata": {
            "tags": []
          },
          "execution_count": 27
        }
      ]
    },
    {
      "metadata": {
        "id": "o--v-MVR4ajy",
        "colab_type": "code",
        "colab": {}
      },
      "cell_type": "code",
      "source": [
        ""
      ],
      "execution_count": 0,
      "outputs": []
    },
    {
      "metadata": {
        "id": "0BCSLmDlO81g",
        "colab_type": "text"
      },
      "cell_type": "markdown",
      "source": [
        "# 2. Matric numpy * vs numpy dot "
      ]
    },
    {
      "metadata": {
        "id": "5KN23GcL4amk",
        "colab_type": "code",
        "colab": {
          "base_uri": "https://localhost:8080/",
          "height": 53
        },
        "outputId": "8c04d217-6eac-4f20-97df-ead287f3e7e6"
      },
      "cell_type": "code",
      "source": [
        "c = np.array([[1,2],[3,4]])\n",
        "c"
      ],
      "execution_count": 14,
      "outputs": [
        {
          "output_type": "execute_result",
          "data": {
            "text/plain": [
              "array([[1, 2],\n",
              "       [3, 4]])"
            ]
          },
          "metadata": {
            "tags": []
          },
          "execution_count": 14
        }
      ]
    },
    {
      "metadata": {
        "id": "hIk2XXX94e1j",
        "colab_type": "code",
        "colab": {
          "base_uri": "https://localhost:8080/",
          "height": 53
        },
        "outputId": "36b00efe-1e9b-465a-f18b-f023feff4f03"
      },
      "cell_type": "code",
      "source": [
        "d = np.array([[1,1],[0,1]])\n",
        "d"
      ],
      "execution_count": 33,
      "outputs": [
        {
          "output_type": "execute_result",
          "data": {
            "text/plain": [
              "array([[1, 1],\n",
              "       [0, 1]])"
            ]
          },
          "metadata": {
            "tags": []
          },
          "execution_count": 33
        }
      ]
    },
    {
      "metadata": {
        "id": "vulUTPzEOnLO",
        "colab_type": "code",
        "colab": {
          "base_uri": "https://localhost:8080/",
          "height": 53
        },
        "outputId": "6bfd9b9c-538d-46b9-c675-1ecff1e50aec"
      },
      "cell_type": "code",
      "source": [
        "c * d"
      ],
      "execution_count": 34,
      "outputs": [
        {
          "output_type": "execute_result",
          "data": {
            "text/plain": [
              "array([[1, 2],\n",
              "       [0, 4]])"
            ]
          },
          "metadata": {
            "tags": []
          },
          "execution_count": 34
        }
      ]
    },
    {
      "metadata": {
        "id": "vUKOWzgZ4szB",
        "colab_type": "code",
        "colab": {
          "base_uri": "https://localhost:8080/",
          "height": 53
        },
        "outputId": "ebda531f-4114-43b5-a1b1-993e6b3f809e"
      },
      "cell_type": "code",
      "source": [
        "np.dot(c,d)"
      ],
      "execution_count": 35,
      "outputs": [
        {
          "output_type": "execute_result",
          "data": {
            "text/plain": [
              "array([[1, 3],\n",
              "       [3, 7]])"
            ]
          },
          "metadata": {
            "tags": []
          },
          "execution_count": 35
        }
      ]
    },
    {
      "metadata": {
        "id": "s2Pzzkx44xia",
        "colab_type": "code",
        "colab": {
          "base_uri": "https://localhost:8080/",
          "height": 53
        },
        "outputId": "83f9ee38-7aab-4d35-abb2-91d2b13d8349"
      },
      "cell_type": "code",
      "source": [
        "e = np.array([[1,1,1],[0,1,1]])\n",
        "e"
      ],
      "execution_count": 36,
      "outputs": [
        {
          "output_type": "execute_result",
          "data": {
            "text/plain": [
              "array([[1, 1, 1],\n",
              "       [0, 1, 1]])"
            ]
          },
          "metadata": {
            "tags": []
          },
          "execution_count": 36
        }
      ]
    },
    {
      "metadata": {
        "id": "J11desmEV3n_",
        "colab_type": "code",
        "colab": {
          "base_uri": "https://localhost:8080/",
          "height": 53
        },
        "outputId": "44437455-9bd7-4c36-ac16-e50ebbb24c6e"
      },
      "cell_type": "code",
      "source": [
        "np.dot(c,e)"
      ],
      "execution_count": 37,
      "outputs": [
        {
          "output_type": "execute_result",
          "data": {
            "text/plain": [
              "array([[1, 3, 3],\n",
              "       [3, 7, 7]])"
            ]
          },
          "metadata": {
            "tags": []
          },
          "execution_count": 37
        }
      ]
    },
    {
      "metadata": {
        "id": "tQ8j-VP8V7kW",
        "colab_type": "code",
        "colab": {}
      },
      "cell_type": "code",
      "source": [
        ""
      ],
      "execution_count": 0,
      "outputs": []
    }
  ]
}