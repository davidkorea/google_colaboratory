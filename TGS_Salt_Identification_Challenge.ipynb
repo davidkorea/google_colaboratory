{
  "nbformat": 4,
  "nbformat_minor": 0,
  "metadata": {
    "colab": {
      "name": "TGS Salt Identification Challenge.ipynb",
      "version": "0.3.2",
      "provenance": [],
      "collapsed_sections": [],
      "include_colab_link": true
    },
    "kernelspec": {
      "name": "python3",
      "display_name": "Python 3"
    }
  },
  "cells": [
    {
      "cell_type": "markdown",
      "metadata": {
        "id": "view-in-github",
        "colab_type": "text"
      },
      "source": [
        "[View in Colaboratory](https://colab.research.google.com/github/davidkorea/google_colaboratory/blob/master/TGS_Salt_Identification_Challenge.ipynb)"
      ]
    },
    {
      "metadata": {
        "id": "v2-2FoE0iD-z",
        "colab_type": "code",
        "colab": {}
      },
      "cell_type": "code",
      "source": [
        "#read/write image data\n",
        "!pip install imageio\n",
        "#deep learning library\n",
        "!pip install torch\n",
        "#access kaggle datasets from colab\n",
        "!pip install kaggle\n",
        "#model loading\n",
        "!pip install ipywidgets"
      ],
      "execution_count": 0,
      "outputs": []
    },
    {
      "metadata": {
        "id": "V-airaz7iEqv",
        "colab_type": "code",
        "colab": {}
      },
      "cell_type": "code",
      "source": [
        "#File input output\n",
        "import os\n",
        "#matrix math\n",
        "import numpy as np\n",
        "#read/write image data\n",
        "import imageio\n",
        "#visualize data\n",
        "import matplotlib.pyplot as plt\n",
        "#data preprocessing \n",
        "import pandas as pd\n",
        "#deep learning\n",
        "import torch\n",
        "#just in case we need a backup datasets\n",
        "from torch.utils import data\n",
        "#will output the plot right below the cell that produces it\n",
        "%matplotlib inline"
      ],
      "execution_count": 0,
      "outputs": []
    },
    {
      "metadata": {
        "id": "qU8Nbj1VjoLN",
        "colab_type": "code",
        "colab": {
          "base_uri": "https://localhost:8080/",
          "height": 141
        },
        "outputId": "f2ec5434-324d-4329-f906-4c5ced9ce75d"
      },
      "cell_type": "code",
      "source": [
        "# 查看目录下所有文件所占用的空间\n",
        "!ls -lha"
      ],
      "execution_count": 19,
      "outputs": [
        {
          "output_type": "stream",
          "text": [
            "total 24K\n",
            "drwxr-xr-x 1 root root 4.0K Sep 10 14:25 .\n",
            "drwxr-xr-x 1 root root 4.0K Sep 10 12:49 ..\n",
            "drwxr-xr-x 4 root root 4.0K Sep  6 17:27 .config\n",
            "-rw-r--r-- 1 root root   64 Sep 10 14:25 kaggle (1).json\n",
            "-rw-r--r-- 1 root root   64 Sep 10 12:58 kaggle.json\n",
            "drwxr-xr-x 2 root root 4.0K Sep  6 17:46 sample_data\n"
          ],
          "name": "stdout"
        }
      ]
    },
    {
      "metadata": {
        "id": "wIyqpgjsktfX",
        "colab_type": "code",
        "colab": {}
      },
      "cell_type": "code",
      "source": [
        "# The Kaggle API client expects this file to be in ~/.kaggle,\n",
        "# so lets move it there.\n",
        "# 如果用-p 可以直接创建2个目录 mkdir -p A/B(如果父目录A不存在就创建)\n",
        "!mkdir -p ~/.kaggle\n",
        "!cp kaggle.json ~/.kaggle/\n",
        "# This permissions change avoids a warning on Kaggle tool startup.\n",
        "!chmod 600 ~/.kaggle/kaggle.json"
      ],
      "execution_count": 0,
      "outputs": []
    },
    {
      "metadata": {
        "id": "0Y-Xf7wanBfc",
        "colab_type": "code",
        "colab": {
          "base_uri": "https://localhost:8080/",
          "height": 35
        },
        "outputId": "2ca5358a-2545-41f9-9f66-88a49be8bd11"
      },
      "cell_type": "code",
      "source": [
        "!ls /root/.kaggle/"
      ],
      "execution_count": 26,
      "outputs": [
        {
          "output_type": "stream",
          "text": [
            "kaggle.json\n"
          ],
          "name": "stdout"
        }
      ]
    },
    {
      "metadata": {
        "id": "jpUo_J8lnENp",
        "colab_type": "code",
        "colab": {
          "base_uri": "https://localhost:8080/",
          "height": 35
        },
        "outputId": "9d2bceec-7703-412b-e081-d6d8c6d617d8"
      },
      "cell_type": "code",
      "source": [
        "!pwd"
      ],
      "execution_count": 27,
      "outputs": [
        {
          "output_type": "stream",
          "text": [
            "/content\n"
          ],
          "name": "stdout"
        }
      ]
    },
    {
      "metadata": {
        "id": "0wpSNyqI3g7O",
        "colab_type": "code",
        "colab": {
          "base_uri": "https://localhost:8080/",
          "height": 282
        },
        "outputId": "864cb2e1-707b-4263-c6e7-23b553a66978"
      },
      "cell_type": "code",
      "source": [
        "#lets now download our dataset\n",
        "!kaggle competitions download -c tgs-salt-identification-challenge"
      ],
      "execution_count": 30,
      "outputs": [
        {
          "output_type": "stream",
          "text": [
            "Downloading depths.csv to /content\n",
            "\r  0% 0.00/322k [00:00<?, ?B/s]\n",
            "100% 322k/322k [00:00<00:00, 44.9MB/s]\n",
            "Downloading sample_submission.csv to /content\n",
            "  0% 0.00/264k [00:00<?, ?B/s]\n",
            "100% 264k/264k [00:00<00:00, 66.6MB/s]\n",
            "Downloading train.csv to /content\n",
            "  0% 0.00/922k [00:00<?, ?B/s]\n",
            "100% 922k/922k [00:00<00:00, 92.0MB/s]\n",
            "Downloading test.zip to /content\n",
            " 92% 150M/163M [00:00<00:00, 206MB/s]\n",
            "100% 163M/163M [00:00<00:00, 217MB/s]\n",
            "Downloading train.zip to /content\n",
            " 76% 29.0M/37.9M [00:00<00:00, 67.8MB/s]\n",
            "100% 37.9M/37.9M [00:00<00:00, 167MB/s] \n"
          ],
          "name": "stdout"
        }
      ]
    },
    {
      "metadata": {
        "id": "UrTiPe8V3r3_",
        "colab_type": "code",
        "colab": {}
      },
      "cell_type": "code",
      "source": [
        "!ls\n",
        "!unzip train.zip"
      ],
      "execution_count": 0,
      "outputs": []
    },
    {
      "metadata": {
        "id": "5YyfCe6CA92o",
        "colab_type": "code",
        "colab": {
          "base_uri": "https://localhost:8080/",
          "height": 52
        },
        "outputId": "c31100f9-20b7-41ab-d682-cb4455f6c3ed"
      },
      "cell_type": "code",
      "source": [
        "!ls"
      ],
      "execution_count": 35,
      "outputs": [
        {
          "output_type": "stream",
          "text": [
            "depths.csv  kaggle (1).json  masks\t  sample_submission.csv  train.csv\n",
            "images\t    kaggle.json      sample_data  test.zip\t\t train.zip\n"
          ],
          "name": "stdout"
        }
      ]
    },
    {
      "metadata": {
        "id": "gV_sSm566gt-",
        "colab_type": "code",
        "colab": {}
      },
      "cell_type": "code",
      "source": [
        "#lets create a class to represent this data, to make it easier to access\n",
        "\n",
        "class TGSSaltDataset(data.Dataset):\n",
        "    #init with the location of the dataset, and the list of file \n",
        "    def __init__(self, root_path, file_list):\n",
        "        self.root_path = root_path\n",
        "        self.file_list = file_list\n",
        "    #get method - how long is the list\n",
        "    def __len__(self):\n",
        "        return len(self.file_list)\n",
        "    #get method - return the seismic image + label for a given index\n",
        "    def __getitem__(self, index):\n",
        "        #if the index is out of bounds, get a random image\n",
        "        if index not in range(0, len(self.file_list)):\n",
        "            return self.__getitem__(np.random.randint(0, self.__len__()))\n",
        "        #define a file ID using the index parameter\n",
        "        file_id = self.file_list[index]\n",
        "        #image folder + path\n",
        "        image_folder = os.path.join(self.root_path, \"images\")\n",
        "        image_path = os.path.join(image_folder, file_id + \".png\")\n",
        "        #label folder + path\n",
        "        mask_folder = os.path.join(self.root_path, \"masks\")\n",
        "        mask_path = os.path.join(mask_folder, file_id + \".png\")\n",
        "        #read it, store it in memory as a byte array\n",
        "        image = np.array(imageio.imread(image_path), dtype=np.uint8)\n",
        "        mask = np.array(imageio.imread(mask_path), dtype=np.uint8)\n",
        "        #return image + label\n",
        "        return image, mask"
      ],
      "execution_count": 0,
      "outputs": []
    },
    {
      "metadata": {
        "id": "b4mzW3w67noJ",
        "colab_type": "code",
        "colab": {}
      },
      "cell_type": "code",
      "source": [
        "depths_df = pd.read_csv('depths.csv')\n",
        "train_df = pd.read_csv('train.csv')"
      ],
      "execution_count": 0,
      "outputs": []
    },
    {
      "metadata": {
        "id": "MkB51pykBDy0",
        "colab_type": "code",
        "colab": {
          "base_uri": "https://localhost:8080/",
          "height": 202
        },
        "outputId": "7d259ec6-ae54-4422-ca4e-a7a83c3f71dd"
      },
      "cell_type": "code",
      "source": [
        "depths_df.head()"
      ],
      "execution_count": 37,
      "outputs": [
        {
          "output_type": "execute_result",
          "data": {
            "text/html": [
              "<div>\n",
              "<style scoped>\n",
              "    .dataframe tbody tr th:only-of-type {\n",
              "        vertical-align: middle;\n",
              "    }\n",
              "\n",
              "    .dataframe tbody tr th {\n",
              "        vertical-align: top;\n",
              "    }\n",
              "\n",
              "    .dataframe thead th {\n",
              "        text-align: right;\n",
              "    }\n",
              "</style>\n",
              "<table border=\"1\" class=\"dataframe\">\n",
              "  <thead>\n",
              "    <tr style=\"text-align: right;\">\n",
              "      <th></th>\n",
              "      <th>id</th>\n",
              "      <th>z</th>\n",
              "    </tr>\n",
              "  </thead>\n",
              "  <tbody>\n",
              "    <tr>\n",
              "      <th>0</th>\n",
              "      <td>4ac19fb269</td>\n",
              "      <td>306</td>\n",
              "    </tr>\n",
              "    <tr>\n",
              "      <th>1</th>\n",
              "      <td>1825fadf99</td>\n",
              "      <td>157</td>\n",
              "    </tr>\n",
              "    <tr>\n",
              "      <th>2</th>\n",
              "      <td>f59821d067</td>\n",
              "      <td>305</td>\n",
              "    </tr>\n",
              "    <tr>\n",
              "      <th>3</th>\n",
              "      <td>5b435fad9d</td>\n",
              "      <td>503</td>\n",
              "    </tr>\n",
              "    <tr>\n",
              "      <th>4</th>\n",
              "      <td>e340e7bfca</td>\n",
              "      <td>783</td>\n",
              "    </tr>\n",
              "  </tbody>\n",
              "</table>\n",
              "</div>"
            ],
            "text/plain": [
              "           id    z\n",
              "0  4ac19fb269  306\n",
              "1  1825fadf99  157\n",
              "2  f59821d067  305\n",
              "3  5b435fad9d  503\n",
              "4  e340e7bfca  783"
            ]
          },
          "metadata": {
            "tags": []
          },
          "execution_count": 37
        }
      ]
    },
    {
      "metadata": {
        "id": "VBJgfxzzBOSO",
        "colab_type": "code",
        "colab": {
          "base_uri": "https://localhost:8080/",
          "height": 202
        },
        "outputId": "6c6731fe-5c0d-4b83-f1b1-797f85292779"
      },
      "cell_type": "code",
      "source": [
        "train_df.head()"
      ],
      "execution_count": 39,
      "outputs": [
        {
          "output_type": "execute_result",
          "data": {
            "text/html": [
              "<div>\n",
              "<style scoped>\n",
              "    .dataframe tbody tr th:only-of-type {\n",
              "        vertical-align: middle;\n",
              "    }\n",
              "\n",
              "    .dataframe tbody tr th {\n",
              "        vertical-align: top;\n",
              "    }\n",
              "\n",
              "    .dataframe thead th {\n",
              "        text-align: right;\n",
              "    }\n",
              "</style>\n",
              "<table border=\"1\" class=\"dataframe\">\n",
              "  <thead>\n",
              "    <tr style=\"text-align: right;\">\n",
              "      <th></th>\n",
              "      <th>id</th>\n",
              "      <th>rle_mask</th>\n",
              "    </tr>\n",
              "  </thead>\n",
              "  <tbody>\n",
              "    <tr>\n",
              "      <th>0</th>\n",
              "      <td>575d24d81d</td>\n",
              "      <td>NaN</td>\n",
              "    </tr>\n",
              "    <tr>\n",
              "      <th>1</th>\n",
              "      <td>a266a2a9df</td>\n",
              "      <td>5051 5151</td>\n",
              "    </tr>\n",
              "    <tr>\n",
              "      <th>2</th>\n",
              "      <td>75efad62c1</td>\n",
              "      <td>9 93 109 94 210 94 310 95 411 95 511 96 612 96...</td>\n",
              "    </tr>\n",
              "    <tr>\n",
              "      <th>3</th>\n",
              "      <td>34e51dba6a</td>\n",
              "      <td>48 54 149 54 251 53 353 52 455 51 557 50 659 4...</td>\n",
              "    </tr>\n",
              "    <tr>\n",
              "      <th>4</th>\n",
              "      <td>4875705fb0</td>\n",
              "      <td>1111 1 1212 1 1313 1 1414 1 1514 2 1615 2 1716...</td>\n",
              "    </tr>\n",
              "  </tbody>\n",
              "</table>\n",
              "</div>"
            ],
            "text/plain": [
              "           id                                           rle_mask\n",
              "0  575d24d81d                                                NaN\n",
              "1  a266a2a9df                                          5051 5151\n",
              "2  75efad62c1  9 93 109 94 210 94 310 95 411 95 511 96 612 96...\n",
              "3  34e51dba6a  48 54 149 54 251 53 353 52 455 51 557 50 659 4...\n",
              "4  4875705fb0  1111 1 1212 1 1313 1 1414 1 1514 2 1615 2 1716..."
            ]
          },
          "metadata": {
            "tags": []
          },
          "execution_count": 39
        }
      ]
    },
    {
      "metadata": {
        "id": "c5-SOdb1BWEq",
        "colab_type": "code",
        "colab": {
          "base_uri": "https://localhost:8080/",
          "height": 79
        },
        "outputId": "00fab1e8-a16b-4b65-b657-5c91fc631eb3"
      },
      "cell_type": "code",
      "source": [
        "depths_df.loc[depths_df['id']=='a266a2a9df']"
      ],
      "execution_count": 43,
      "outputs": [
        {
          "output_type": "execute_result",
          "data": {
            "text/html": [
              "<div>\n",
              "<style scoped>\n",
              "    .dataframe tbody tr th:only-of-type {\n",
              "        vertical-align: middle;\n",
              "    }\n",
              "\n",
              "    .dataframe tbody tr th {\n",
              "        vertical-align: top;\n",
              "    }\n",
              "\n",
              "    .dataframe thead th {\n",
              "        text-align: right;\n",
              "    }\n",
              "</style>\n",
              "<table border=\"1\" class=\"dataframe\">\n",
              "  <thead>\n",
              "    <tr style=\"text-align: right;\">\n",
              "      <th></th>\n",
              "      <th>id</th>\n",
              "      <th>z</th>\n",
              "    </tr>\n",
              "  </thead>\n",
              "  <tbody>\n",
              "    <tr>\n",
              "      <th>2332</th>\n",
              "      <td>a266a2a9df</td>\n",
              "      <td>794</td>\n",
              "    </tr>\n",
              "  </tbody>\n",
              "</table>\n",
              "</div>"
            ],
            "text/plain": [
              "              id    z\n",
              "2332  a266a2a9df  794"
            ]
          },
          "metadata": {
            "tags": []
          },
          "execution_count": 43
        }
      ]
    },
    {
      "metadata": {
        "id": "YGufaFjlN1Jq",
        "colab_type": "code",
        "colab": {}
      },
      "cell_type": "code",
      "source": [
        "merge_df= train_df.merge(depths_df)"
      ],
      "execution_count": 0,
      "outputs": []
    },
    {
      "metadata": {
        "id": "4CuEmdDzOBIa",
        "colab_type": "code",
        "colab": {
          "base_uri": "https://localhost:8080/",
          "height": 1955
        },
        "outputId": "90c8b3cd-9483-4db4-bc72-551959ee999f"
      },
      "cell_type": "code",
      "source": [
        "merge_df"
      ],
      "execution_count": 42,
      "outputs": [
        {
          "output_type": "execute_result",
          "data": {
            "text/html": [
              "<div>\n",
              "<style scoped>\n",
              "    .dataframe tbody tr th:only-of-type {\n",
              "        vertical-align: middle;\n",
              "    }\n",
              "\n",
              "    .dataframe tbody tr th {\n",
              "        vertical-align: top;\n",
              "    }\n",
              "\n",
              "    .dataframe thead th {\n",
              "        text-align: right;\n",
              "    }\n",
              "</style>\n",
              "<table border=\"1\" class=\"dataframe\">\n",
              "  <thead>\n",
              "    <tr style=\"text-align: right;\">\n",
              "      <th></th>\n",
              "      <th>id</th>\n",
              "      <th>rle_mask</th>\n",
              "      <th>z</th>\n",
              "    </tr>\n",
              "  </thead>\n",
              "  <tbody>\n",
              "    <tr>\n",
              "      <th>0</th>\n",
              "      <td>575d24d81d</td>\n",
              "      <td>NaN</td>\n",
              "      <td>843</td>\n",
              "    </tr>\n",
              "    <tr>\n",
              "      <th>1</th>\n",
              "      <td>a266a2a9df</td>\n",
              "      <td>5051 5151</td>\n",
              "      <td>794</td>\n",
              "    </tr>\n",
              "    <tr>\n",
              "      <th>2</th>\n",
              "      <td>75efad62c1</td>\n",
              "      <td>9 93 109 94 210 94 310 95 411 95 511 96 612 96...</td>\n",
              "      <td>468</td>\n",
              "    </tr>\n",
              "    <tr>\n",
              "      <th>3</th>\n",
              "      <td>34e51dba6a</td>\n",
              "      <td>48 54 149 54 251 53 353 52 455 51 557 50 659 4...</td>\n",
              "      <td>727</td>\n",
              "    </tr>\n",
              "    <tr>\n",
              "      <th>4</th>\n",
              "      <td>4875705fb0</td>\n",
              "      <td>1111 1 1212 1 1313 1 1414 1 1514 2 1615 2 1716...</td>\n",
              "      <td>797</td>\n",
              "    </tr>\n",
              "    <tr>\n",
              "      <th>5</th>\n",
              "      <td>782ae9b7e7</td>\n",
              "      <td>1 1815 1819 90 1920 81 2021 73 2122 64 2223 55...</td>\n",
              "      <td>677</td>\n",
              "    </tr>\n",
              "    <tr>\n",
              "      <th>6</th>\n",
              "      <td>9842f69f8d</td>\n",
              "      <td>NaN</td>\n",
              "      <td>907</td>\n",
              "    </tr>\n",
              "    <tr>\n",
              "      <th>7</th>\n",
              "      <td>aa94cfb806</td>\n",
              "      <td>1 28 102 28 203 29 304 30 405 32 506 33 607 34...</td>\n",
              "      <td>754</td>\n",
              "    </tr>\n",
              "    <tr>\n",
              "      <th>8</th>\n",
              "      <td>50d3073821</td>\n",
              "      <td>1 2121 9293 909</td>\n",
              "      <td>810</td>\n",
              "    </tr>\n",
              "    <tr>\n",
              "      <th>9</th>\n",
              "      <td>28f865caaa</td>\n",
              "      <td>NaN</td>\n",
              "      <td>147</td>\n",
              "    </tr>\n",
              "    <tr>\n",
              "      <th>10</th>\n",
              "      <td>b5e1371b3b</td>\n",
              "      <td>75 27 175 28 275 29 374 31 474 32 574 33 674 3...</td>\n",
              "      <td>325</td>\n",
              "    </tr>\n",
              "    <tr>\n",
              "      <th>11</th>\n",
              "      <td>57e394bc67</td>\n",
              "      <td>NaN</td>\n",
              "      <td>765</td>\n",
              "    </tr>\n",
              "    <tr>\n",
              "      <th>12</th>\n",
              "      <td>b45ad3932e</td>\n",
              "      <td>49 11 149 11 249 11 351 10 452 9 553 9 654 8 7...</td>\n",
              "      <td>613</td>\n",
              "    </tr>\n",
              "    <tr>\n",
              "      <th>13</th>\n",
              "      <td>ef51bbcde7</td>\n",
              "      <td>NaN</td>\n",
              "      <td>712</td>\n",
              "    </tr>\n",
              "    <tr>\n",
              "      <th>14</th>\n",
              "      <td>d4d34af4f7</td>\n",
              "      <td>8788 1414</td>\n",
              "      <td>114</td>\n",
              "    </tr>\n",
              "    <tr>\n",
              "      <th>15</th>\n",
              "      <td>302ea1ac81</td>\n",
              "      <td>6 96 108 95 210 94 311 94 413 93 515 92 615 93...</td>\n",
              "      <td>470</td>\n",
              "    </tr>\n",
              "    <tr>\n",
              "      <th>16</th>\n",
              "      <td>40dcff68b3</td>\n",
              "      <td>3536 4 3637 20 3738 36 3839 53 3940 70 4041 86...</td>\n",
              "      <td>707</td>\n",
              "    </tr>\n",
              "    <tr>\n",
              "      <th>17</th>\n",
              "      <td>7845115d01</td>\n",
              "      <td>7677 2525</td>\n",
              "      <td>343</td>\n",
              "    </tr>\n",
              "    <tr>\n",
              "      <th>18</th>\n",
              "      <td>3da729cae9</td>\n",
              "      <td>1 54 102 54 203 53 304 53 405 53 506 53 607 53...</td>\n",
              "      <td>707</td>\n",
              "    </tr>\n",
              "    <tr>\n",
              "      <th>19</th>\n",
              "      <td>d67e3a11d8</td>\n",
              "      <td>NaN</td>\n",
              "      <td>585</td>\n",
              "    </tr>\n",
              "    <tr>\n",
              "      <th>20</th>\n",
              "      <td>b3396387a6</td>\n",
              "      <td>42 60 141 62 241 63 341 64 441 65 542 65 642 6...</td>\n",
              "      <td>407</td>\n",
              "    </tr>\n",
              "    <tr>\n",
              "      <th>21</th>\n",
              "      <td>a5471f53d8</td>\n",
              "      <td>9797 1 9891 8 9986 14 10081 20 10176 26</td>\n",
              "      <td>659</td>\n",
              "    </tr>\n",
              "    <tr>\n",
              "      <th>22</th>\n",
              "      <td>d27831fef2</td>\n",
              "      <td>93 9 195 8 296 8 397 8 498 8 599 8 701 7 802 7...</td>\n",
              "      <td>657</td>\n",
              "    </tr>\n",
              "    <tr>\n",
              "      <th>23</th>\n",
              "      <td>7faea04242</td>\n",
              "      <td>1 6865 6869 92 6970 86 7071 81 7172 76 7273 71...</td>\n",
              "      <td>818</td>\n",
              "    </tr>\n",
              "    <tr>\n",
              "      <th>24</th>\n",
              "      <td>9747413253</td>\n",
              "      <td>NaN</td>\n",
              "      <td>472</td>\n",
              "    </tr>\n",
              "    <tr>\n",
              "      <th>25</th>\n",
              "      <td>b9614348f4</td>\n",
              "      <td>1 3434 3439 97 3544 93 3647 91 3749 90 3853 87...</td>\n",
              "      <td>429</td>\n",
              "    </tr>\n",
              "    <tr>\n",
              "      <th>26</th>\n",
              "      <td>4696bb53e6</td>\n",
              "      <td>23 79 127 76 228 76 335 70 439 67 543 64 650 5...</td>\n",
              "      <td>438</td>\n",
              "    </tr>\n",
              "    <tr>\n",
              "      <th>27</th>\n",
              "      <td>fc250f574c</td>\n",
              "      <td>3435 1 3536 1 3637 2 3738 2 3839 3 3940 3 4041...</td>\n",
              "      <td>684</td>\n",
              "    </tr>\n",
              "    <tr>\n",
              "      <th>28</th>\n",
              "      <td>005b452274</td>\n",
              "      <td>NaN</td>\n",
              "      <td>657</td>\n",
              "    </tr>\n",
              "    <tr>\n",
              "      <th>29</th>\n",
              "      <td>02117a400e</td>\n",
              "      <td>4041 1 4142 4 4243 7 4344 10 4445 13 4546 15 4...</td>\n",
              "      <td>696</td>\n",
              "    </tr>\n",
              "    <tr>\n",
              "      <th>...</th>\n",
              "      <td>...</td>\n",
              "      <td>...</td>\n",
              "      <td>...</td>\n",
              "    </tr>\n",
              "    <tr>\n",
              "      <th>3970</th>\n",
              "      <td>16207869ba</td>\n",
              "      <td>3447 41 3528 71 3618 6584</td>\n",
              "      <td>359</td>\n",
              "    </tr>\n",
              "    <tr>\n",
              "      <th>3971</th>\n",
              "      <td>44d745a704</td>\n",
              "      <td>91 11 191 12 291 13 392 13 492 14 592 15 693 1...</td>\n",
              "      <td>307</td>\n",
              "    </tr>\n",
              "    <tr>\n",
              "      <th>3972</th>\n",
              "      <td>711c478c93</td>\n",
              "      <td>NaN</td>\n",
              "      <td>548</td>\n",
              "    </tr>\n",
              "    <tr>\n",
              "      <th>3973</th>\n",
              "      <td>84e23dba29</td>\n",
              "      <td>304 1 405 2 506 3 607 4 708 5 809 6 910 7 1011...</td>\n",
              "      <td>576</td>\n",
              "    </tr>\n",
              "    <tr>\n",
              "      <th>3974</th>\n",
              "      <td>e73532b450</td>\n",
              "      <td>NaN</td>\n",
              "      <td>703</td>\n",
              "    </tr>\n",
              "    <tr>\n",
              "      <th>3975</th>\n",
              "      <td>8329ec9395</td>\n",
              "      <td>1 4039 4041 99 4142 98 4243 96 4344 95 4445 94...</td>\n",
              "      <td>625</td>\n",
              "    </tr>\n",
              "    <tr>\n",
              "      <th>3976</th>\n",
              "      <td>7e7276d088</td>\n",
              "      <td>405 1 506 3 607 5 708 8 809 10 910 12 1011 14 ...</td>\n",
              "      <td>491</td>\n",
              "    </tr>\n",
              "    <tr>\n",
              "      <th>3977</th>\n",
              "      <td>0e63d9a8b4</td>\n",
              "      <td>7573 3 7674 3 7775 3 7876 3 7977 3 8078 3 8179...</td>\n",
              "      <td>515</td>\n",
              "    </tr>\n",
              "    <tr>\n",
              "      <th>3978</th>\n",
              "      <td>1d80de2ec9</td>\n",
              "      <td>NaN</td>\n",
              "      <td>277</td>\n",
              "    </tr>\n",
              "    <tr>\n",
              "      <th>3979</th>\n",
              "      <td>919bc0e2ba</td>\n",
              "      <td>1 5959</td>\n",
              "      <td>352</td>\n",
              "    </tr>\n",
              "    <tr>\n",
              "      <th>3980</th>\n",
              "      <td>5cada3d3f1</td>\n",
              "      <td>NaN</td>\n",
              "      <td>364</td>\n",
              "    </tr>\n",
              "    <tr>\n",
              "      <th>3981</th>\n",
              "      <td>0530b67189</td>\n",
              "      <td>3938 2 4032 9 4127 15 4221 22 4310 34 4398 47 ...</td>\n",
              "      <td>437</td>\n",
              "    </tr>\n",
              "    <tr>\n",
              "      <th>3982</th>\n",
              "      <td>fb44090bc7</td>\n",
              "      <td>NaN</td>\n",
              "      <td>842</td>\n",
              "    </tr>\n",
              "    <tr>\n",
              "      <th>3983</th>\n",
              "      <td>3c1ed5cc1f</td>\n",
              "      <td>NaN</td>\n",
              "      <td>555</td>\n",
              "    </tr>\n",
              "    <tr>\n",
              "      <th>3984</th>\n",
              "      <td>c7f54785b8</td>\n",
              "      <td>92 10 195 8 298 6 402 3 505 1</td>\n",
              "      <td>297</td>\n",
              "    </tr>\n",
              "    <tr>\n",
              "      <th>3985</th>\n",
              "      <td>158765ed16</td>\n",
              "      <td>1 8585 8587 100 8690 98 8793 96 8896 94 8998 9...</td>\n",
              "      <td>330</td>\n",
              "    </tr>\n",
              "    <tr>\n",
              "      <th>3986</th>\n",
              "      <td>3ff3881428</td>\n",
              "      <td>NaN</td>\n",
              "      <td>100</td>\n",
              "    </tr>\n",
              "    <tr>\n",
              "      <th>3987</th>\n",
              "      <td>e8d8b35601</td>\n",
              "      <td>79 11 177 13 276 14 375 15 474 16 573 18 672 1...</td>\n",
              "      <td>637</td>\n",
              "    </tr>\n",
              "    <tr>\n",
              "      <th>3988</th>\n",
              "      <td>a7cfa30d35</td>\n",
              "      <td>1 84 102 83 203 81 304 79 405 77 506 75 607 73...</td>\n",
              "      <td>843</td>\n",
              "    </tr>\n",
              "    <tr>\n",
              "      <th>3989</th>\n",
              "      <td>917ef84e64</td>\n",
              "      <td>NaN</td>\n",
              "      <td>949</td>\n",
              "    </tr>\n",
              "    <tr>\n",
              "      <th>3990</th>\n",
              "      <td>633c7d5c80</td>\n",
              "      <td>NaN</td>\n",
              "      <td>249</td>\n",
              "    </tr>\n",
              "    <tr>\n",
              "      <th>3991</th>\n",
              "      <td>30082e87d9</td>\n",
              "      <td>59 43 163 40 267 37 371 34 472 34 573 34 674 3...</td>\n",
              "      <td>630</td>\n",
              "    </tr>\n",
              "    <tr>\n",
              "      <th>3992</th>\n",
              "      <td>f139be21a4</td>\n",
              "      <td>NaN</td>\n",
              "      <td>715</td>\n",
              "    </tr>\n",
              "    <tr>\n",
              "      <th>3993</th>\n",
              "      <td>ac931ace49</td>\n",
              "      <td>6464 1 6565 1 6666 1 6767 1 6868 1</td>\n",
              "      <td>141</td>\n",
              "    </tr>\n",
              "    <tr>\n",
              "      <th>3994</th>\n",
              "      <td>cb36193e2f</td>\n",
              "      <td>74 28 173 30 270 34 367 38 467 39 567 40 668 4...</td>\n",
              "      <td>648</td>\n",
              "    </tr>\n",
              "    <tr>\n",
              "      <th>3995</th>\n",
              "      <td>9cbd5ddba4</td>\n",
              "      <td>NaN</td>\n",
              "      <td>218</td>\n",
              "    </tr>\n",
              "    <tr>\n",
              "      <th>3996</th>\n",
              "      <td>caa039b231</td>\n",
              "      <td>2398 7 2499 11 2600 16 2700 22 2801 26 2901 29...</td>\n",
              "      <td>602</td>\n",
              "    </tr>\n",
              "    <tr>\n",
              "      <th>3997</th>\n",
              "      <td>1306fcee4c</td>\n",
              "      <td>NaN</td>\n",
              "      <td>177</td>\n",
              "    </tr>\n",
              "    <tr>\n",
              "      <th>3998</th>\n",
              "      <td>48d81e93d9</td>\n",
              "      <td>2828 1 2927 3 3026 5 3126 6 3225 8 3324 10 342...</td>\n",
              "      <td>221</td>\n",
              "    </tr>\n",
              "    <tr>\n",
              "      <th>3999</th>\n",
              "      <td>edf1e6ac00</td>\n",
              "      <td>NaN</td>\n",
              "      <td>460</td>\n",
              "    </tr>\n",
              "  </tbody>\n",
              "</table>\n",
              "<p>4000 rows × 3 columns</p>\n",
              "</div>"
            ],
            "text/plain": [
              "              id                                           rle_mask    z\n",
              "0     575d24d81d                                                NaN  843\n",
              "1     a266a2a9df                                          5051 5151  794\n",
              "2     75efad62c1  9 93 109 94 210 94 310 95 411 95 511 96 612 96...  468\n",
              "3     34e51dba6a  48 54 149 54 251 53 353 52 455 51 557 50 659 4...  727\n",
              "4     4875705fb0  1111 1 1212 1 1313 1 1414 1 1514 2 1615 2 1716...  797\n",
              "5     782ae9b7e7  1 1815 1819 90 1920 81 2021 73 2122 64 2223 55...  677\n",
              "6     9842f69f8d                                                NaN  907\n",
              "7     aa94cfb806  1 28 102 28 203 29 304 30 405 32 506 33 607 34...  754\n",
              "8     50d3073821                                    1 2121 9293 909  810\n",
              "9     28f865caaa                                                NaN  147\n",
              "10    b5e1371b3b  75 27 175 28 275 29 374 31 474 32 574 33 674 3...  325\n",
              "11    57e394bc67                                                NaN  765\n",
              "12    b45ad3932e  49 11 149 11 249 11 351 10 452 9 553 9 654 8 7...  613\n",
              "13    ef51bbcde7                                                NaN  712\n",
              "14    d4d34af4f7                                          8788 1414  114\n",
              "15    302ea1ac81  6 96 108 95 210 94 311 94 413 93 515 92 615 93...  470\n",
              "16    40dcff68b3  3536 4 3637 20 3738 36 3839 53 3940 70 4041 86...  707\n",
              "17    7845115d01                                          7677 2525  343\n",
              "18    3da729cae9  1 54 102 54 203 53 304 53 405 53 506 53 607 53...  707\n",
              "19    d67e3a11d8                                                NaN  585\n",
              "20    b3396387a6  42 60 141 62 241 63 341 64 441 65 542 65 642 6...  407\n",
              "21    a5471f53d8            9797 1 9891 8 9986 14 10081 20 10176 26  659\n",
              "22    d27831fef2  93 9 195 8 296 8 397 8 498 8 599 8 701 7 802 7...  657\n",
              "23    7faea04242  1 6865 6869 92 6970 86 7071 81 7172 76 7273 71...  818\n",
              "24    9747413253                                                NaN  472\n",
              "25    b9614348f4  1 3434 3439 97 3544 93 3647 91 3749 90 3853 87...  429\n",
              "26    4696bb53e6  23 79 127 76 228 76 335 70 439 67 543 64 650 5...  438\n",
              "27    fc250f574c  3435 1 3536 1 3637 2 3738 2 3839 3 3940 3 4041...  684\n",
              "28    005b452274                                                NaN  657\n",
              "29    02117a400e  4041 1 4142 4 4243 7 4344 10 4445 13 4546 15 4...  696\n",
              "...          ...                                                ...  ...\n",
              "3970  16207869ba                          3447 41 3528 71 3618 6584  359\n",
              "3971  44d745a704  91 11 191 12 291 13 392 13 492 14 592 15 693 1...  307\n",
              "3972  711c478c93                                                NaN  548\n",
              "3973  84e23dba29  304 1 405 2 506 3 607 4 708 5 809 6 910 7 1011...  576\n",
              "3974  e73532b450                                                NaN  703\n",
              "3975  8329ec9395  1 4039 4041 99 4142 98 4243 96 4344 95 4445 94...  625\n",
              "3976  7e7276d088  405 1 506 3 607 5 708 8 809 10 910 12 1011 14 ...  491\n",
              "3977  0e63d9a8b4  7573 3 7674 3 7775 3 7876 3 7977 3 8078 3 8179...  515\n",
              "3978  1d80de2ec9                                                NaN  277\n",
              "3979  919bc0e2ba                                             1 5959  352\n",
              "3980  5cada3d3f1                                                NaN  364\n",
              "3981  0530b67189  3938 2 4032 9 4127 15 4221 22 4310 34 4398 47 ...  437\n",
              "3982  fb44090bc7                                                NaN  842\n",
              "3983  3c1ed5cc1f                                                NaN  555\n",
              "3984  c7f54785b8                      92 10 195 8 298 6 402 3 505 1  297\n",
              "3985  158765ed16  1 8585 8587 100 8690 98 8793 96 8896 94 8998 9...  330\n",
              "3986  3ff3881428                                                NaN  100\n",
              "3987  e8d8b35601  79 11 177 13 276 14 375 15 474 16 573 18 672 1...  637\n",
              "3988  a7cfa30d35  1 84 102 83 203 81 304 79 405 77 506 75 607 73...  843\n",
              "3989  917ef84e64                                                NaN  949\n",
              "3990  633c7d5c80                                                NaN  249\n",
              "3991  30082e87d9  59 43 163 40 267 37 371 34 472 34 573 34 674 3...  630\n",
              "3992  f139be21a4                                                NaN  715\n",
              "3993  ac931ace49                 6464 1 6565 1 6666 1 6767 1 6868 1  141\n",
              "3994  cb36193e2f  74 28 173 30 270 34 367 38 467 39 567 40 668 4...  648\n",
              "3995  9cbd5ddba4                                                NaN  218\n",
              "3996  caa039b231  2398 7 2499 11 2600 16 2700 22 2801 26 2901 29...  602\n",
              "3997  1306fcee4c                                                NaN  177\n",
              "3998  48d81e93d9  2828 1 2927 3 3026 5 3126 6 3225 8 3324 10 342...  221\n",
              "3999  edf1e6ac00                                                NaN  460\n",
              "\n",
              "[4000 rows x 3 columns]"
            ]
          },
          "metadata": {
            "tags": []
          },
          "execution_count": 42
        }
      ]
    },
    {
      "metadata": {
        "id": "Zpb3_79fOCrv",
        "colab_type": "code",
        "colab": {}
      },
      "cell_type": "code",
      "source": [
        ""
      ],
      "execution_count": 0,
      "outputs": []
    }
  ]
}