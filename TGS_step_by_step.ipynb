{
  "cells": [
    {
      "metadata": {
        "_uuid": "8f2839f25d086af736a60e9eeb907d3b93b6e0e5",
        "_cell_guid": "b1076dfc-b9ad-4769-8c92-a6c4dae69d19",
        "trusted": true
      },
      "cell_type": "code",
      "source": "import numpy as np # linear algebra\nimport pandas as pd # data processing, CSV file I/O (e.g. pd.read_csv)\nimport os\nprint(os.listdir(\"../input\"))\nimport matplotlib.pyplot as plt\n%matplotlib inline",
      "execution_count": 1,
      "outputs": [
        {
          "output_type": "stream",
          "text": "['train', 'test', 'depths.csv', 'train.csv', 'sample_submission.csv']\n",
          "name": "stdout"
        }
      ]
    },
    {
      "metadata": {
        "_uuid": "af751dfb1ce284aa38720b1a5c3cb71daf833ee3"
      },
      "cell_type": "markdown",
      "source": "# 1. Run-length encoding convert to image"
    },
    {
      "metadata": {
        "_cell_guid": "79c7e3d0-c299-4dcb-8224-4455121ee9b0",
        "_uuid": "d629ff2d2480ee46fbb7e2d37f6b5fab8052498a",
        "trusted": true
      },
      "cell_type": "code",
      "source": "#convert to image\ndef rleToMask(rleString,height,width):\n    #width heigh\n    rows,cols = height,width\n    try:\n        #get numbers\n        rleNumbers = [int(numstring) for numstring in rleString.split(' ')]\n        #get pairs\n        rlePairs = np.array(rleNumbers).reshape(-1,2)\n        #create an image\n        img = np.zeros(rows*cols,dtype=np.uint8)\n        #for each pair\n        for index,length in rlePairs:\n            #get the pixel value \n            index -= 1\n            img[index:index+length] = 255\n\n        #reshape\n        img = img.reshape(cols,rows)\n        img = img.T\n    \n    #else return empty image\n    except:\n        img = np.zeros((cols,rows))\n    \n    return img",
      "execution_count": 2,
      "outputs": []
    },
    {
      "metadata": {
        "trusted": true,
        "_uuid": "eed53741e413859e7a0449dc63cdbe04886c5de7"
      },
      "cell_type": "code",
      "source": "train_mask_df = pd.read_csv('../input/train.csv')\ntrain_mask_df.head()",
      "execution_count": 3,
      "outputs": [
        {
          "output_type": "execute_result",
          "execution_count": 3,
          "data": {
            "text/plain": "           id                                           rle_mask\n0  575d24d81d                                                NaN\n1  a266a2a9df                                          5051 5151\n2  75efad62c1  9 93 109 94 210 94 310 95 411 95 511 96 612 96...\n3  34e51dba6a  48 54 149 54 251 53 353 52 455 51 557 50 659 4...\n4  4875705fb0  1111 1 1212 1 1313 1 1414 1 1514 2 1615 2 1716...",
            "text/html": "<div>\n<style scoped>\n    .dataframe tbody tr th:only-of-type {\n        vertical-align: middle;\n    }\n\n    .dataframe tbody tr th {\n        vertical-align: top;\n    }\n\n    .dataframe thead th {\n        text-align: right;\n    }\n</style>\n<table border=\"1\" class=\"dataframe\">\n  <thead>\n    <tr style=\"text-align: right;\">\n      <th></th>\n      <th>id</th>\n      <th>rle_mask</th>\n    </tr>\n  </thead>\n  <tbody>\n    <tr>\n      <th>0</th>\n      <td>575d24d81d</td>\n      <td>NaN</td>\n    </tr>\n    <tr>\n      <th>1</th>\n      <td>a266a2a9df</td>\n      <td>5051 5151</td>\n    </tr>\n    <tr>\n      <th>2</th>\n      <td>75efad62c1</td>\n      <td>9 93 109 94 210 94 310 95 411 95 511 96 612 96...</td>\n    </tr>\n    <tr>\n      <th>3</th>\n      <td>34e51dba6a</td>\n      <td>48 54 149 54 251 53 353 52 455 51 557 50 659 4...</td>\n    </tr>\n    <tr>\n      <th>4</th>\n      <td>4875705fb0</td>\n      <td>1111 1 1212 1 1313 1 1414 1 1514 2 1615 2 1716...</td>\n    </tr>\n  </tbody>\n</table>\n</div>"
          },
          "metadata": {}
        }
      ]
    },
    {
      "metadata": {
        "_uuid": "600dd26250ec9eae1cd0cbfc55bfc2c1f4f14dd8"
      },
      "cell_type": "markdown",
      "source": "## 1.1 Run by function-built"
    },
    {
      "metadata": {
        "trusted": true,
        "_uuid": "c89f09f05a16a1e69559ef4c3899f703cda66f1c"
      },
      "cell_type": "code",
      "source": "rle1 = train_mask_df.loc[train_mask_df['id']=='0c089f7c1b']['rle_mask']\nrle1 = rle1.tolist()\nrle1 = ' '.join(rle1)\nrle1",
      "execution_count": 4,
      "outputs": [
        {
          "output_type": "execute_result",
          "execution_count": 4,
          "data": {
            "text/plain": "'15 87 117 86 218 86 320 85 421 85 523 84 624 84 725 84 827 83 928 83 1029 83 1131 82 1232 82 1333 82 1434 82 1535 82 1636 82 1737 82 1838 82 1939 82 2040 82 2141 82 2242 82 2343 82 2443 83 2544 83 2645 83 2746 83 2846 84 2947 84 3048 84 3148 85 3249 85 3349 86 3449 87 3550 87 3650 88 3751 88 3851 89 3951 90 4052 90 4153 90 4253 91 4353 92 4451 95 4552 95 4652 96 4752 97 4850 5352'"
          },
          "metadata": {}
        }
      ]
    },
    {
      "metadata": {
        "trusted": true,
        "_uuid": "6810538c3148fced374a6e3e8642dd457d4f8b50"
      },
      "cell_type": "code",
      "source": "img = rleToMask(rle1,101,101)\nimg",
      "execution_count": 5,
      "outputs": [
        {
          "output_type": "execute_result",
          "execution_count": 5,
          "data": {
            "text/plain": "array([[  0,   0,   0, ..., 255, 255, 255],\n       [  0,   0,   0, ..., 255, 255, 255],\n       [  0,   0,   0, ..., 255, 255, 255],\n       ...,\n       [255, 255, 255, ..., 255, 255, 255],\n       [255, 255, 255, ..., 255, 255, 255],\n       [255, 255, 255, ..., 255, 255, 255]], dtype=uint8)"
          },
          "metadata": {}
        }
      ]
    },
    {
      "metadata": {
        "trusted": true,
        "_uuid": "9a2b884283cded18306047951e8ed78ed6a42947"
      },
      "cell_type": "code",
      "source": "plt.imshow(img, cmap='Greys')",
      "execution_count": 6,
      "outputs": [
        {
          "output_type": "execute_result",
          "execution_count": 6,
          "data": {
            "text/plain": "<matplotlib.image.AxesImage at 0x7f3053610668>"
          },
          "metadata": {}
        },
        {
          "output_type": "display_data",
          "data": {
            "text/plain": "<Figure size 432x288 with 1 Axes>",
            "image/png": "[encoded data removed]"
          },
          "metadata": {}
        }
      ]
    },
    {
      "metadata": {
        "_uuid": "01626f845c9da8a192962309da3b7ca7dd1dca03"
      },
      "cell_type": "markdown",
      "source": "## 1.2 Step by step"
    },
    {
      "metadata": {
        "trusted": true,
        "_uuid": "eedfb1a6546374b20fe57397519160dcdbbe21b1"
      },
      "cell_type": "code",
      "source": "# rleNumbers = [int(numstring) for numstring in '5051 5151'.split(' ')]\n# rleNumbers = '5051 5151'.split(' ')\nrleNumbers = [int(numstring) for numstring in rle1.split(' ')]\nprint(rleNumbers)\nrlePairs = np.array(rleNumbers).reshape(-1,2)\nrlePairs[:5]",
      "execution_count": 7,
      "outputs": [
        {
          "output_type": "stream",
          "text": "[15, 87, 117, 86, 218, 86, 320, 85, 421, 85, 523, 84, 624, 84, 725, 84, 827, 83, 928, 83, 1029, 83, 1131, 82, 1232, 82, 1333, 82, 1434, 82, 1535, 82, 1636, 82, 1737, 82, 1838, 82, 1939, 82, 2040, 82, 2141, 82, 2242, 82, 2343, 82, 2443, 83, 2544, 83, 2645, 83, 2746, 83, 2846, 84, 2947, 84, 3048, 84, 3148, 85, 3249, 85, 3349, 86, 3449, 87, 3550, 87, 3650, 88, 3751, 88, 3851, 89, 3951, 90, 4052, 90, 4153, 90, 4253, 91, 4353, 92, 4451, 95, 4552, 95, 4652, 96, 4752, 97, 4850, 5352]\n",
          "name": "stdout"
        },
        {
          "output_type": "execute_result",
          "execution_count": 7,
          "data": {
            "text/plain": "array([[ 15,  87],\n       [117,  86],\n       [218,  86],\n       [320,  85],\n       [421,  85]])"
          },
          "metadata": {}
        }
      ]
    },
    {
      "metadata": {
        "trusted": true,
        "_uuid": "201dd527b6e0ca08897086ca34ab18b01743f5ac"
      },
      "cell_type": "code",
      "source": "for index,length in rlePairs[:5]:\n    print(index, length)",
      "execution_count": 8,
      "outputs": [
        {
          "output_type": "stream",
          "text": "15 87\n117 86\n218 86\n320 85\n421 85\n",
          "name": "stdout"
        }
      ]
    },
    {
      "metadata": {
        "trusted": true,
        "_uuid": "59ce4ccc9844feaa318f89f95c8391294e42f9ca"
      },
      "cell_type": "code",
      "source": "img1 = np.zeros(101*101,dtype=np.uint8)\nfor index,length in rlePairs:\n    #get the pixel value \n    index -= 1\n    img1[index:index+length] = 255\n    \nprint(img1.shape,'\\n', type(img1))",
      "execution_count": 9,
      "outputs": [
        {
          "output_type": "stream",
          "text": "(10201,) \n <class 'numpy.ndarray'>\n",
          "name": "stdout"
        }
      ]
    },
    {
      "metadata": {
        "trusted": true,
        "_uuid": "0d0ea834413c85c6b85c8f32d91c01b13b4f510c"
      },
      "cell_type": "code",
      "source": "img1 = img1.reshape(101,101)\nplt.imshow(img1,cmap='Greys')",
      "execution_count": 10,
      "outputs": [
        {
          "output_type": "execute_result",
          "execution_count": 10,
          "data": {
            "text/plain": "<matplotlib.image.AxesImage at 0x7f305051f208>"
          },
          "metadata": {}
        },
        {
          "output_type": "display_data",
          "data": {
            "text/plain": "<Figure size 432x288 with 1 Axes>",
            "image/png": "[encoded data removed]"
          },
          "metadata": {}
        }
      ]
    },
    {
      "metadata": {
        "_uuid": "838eda9531734a0c0364e4a8769099b913784172"
      },
      "cell_type": "markdown",
      "source": "**Issue**\nthe transpose doesn't flip black and white. It simply do transpose: flip row and column indices"
    },
    {
      "metadata": {
        "trusted": true,
        "_uuid": "6d7f5a1a831ef84b50ddc306f7e75ffbcc78bd4c"
      },
      "cell_type": "code",
      "source": "img1 = img1.T\nplt.imshow(img1,cmap='Greys')",
      "execution_count": 11,
      "outputs": [
        {
          "output_type": "execute_result",
          "execution_count": 11,
          "data": {
            "text/plain": "<matplotlib.image.AxesImage at 0x7f30504f9b00>"
          },
          "metadata": {}
        },
        {
          "output_type": "display_data",
          "data": {
            "text/plain": "<Figure size 432x288 with 1 Axes>",
            "image/png": "[encoded data removed]"
          },
          "metadata": {}
        }
      ]
    },
    {
      "metadata": {
        "_uuid": "3d45f28058ce11d3d9ae767426054e137bac351f"
      },
      "cell_type": "markdown",
      "source": "**Issue** Try to flip black and white"
    },
    {
      "metadata": {
        "trusted": true,
        "_uuid": "22ef8925868d36645e1cd455a464a037cf8ccc23"
      },
      "cell_type": "code",
      "source": "img1 = 255-img1\nplt.imshow(img1,cmap='Greys')",
      "execution_count": 12,
      "outputs": [
        {
          "output_type": "execute_result",
          "execution_count": 12,
          "data": {
            "text/plain": "<matplotlib.image.AxesImage at 0x7f30504d1c50>"
          },
          "metadata": {}
        },
        {
          "output_type": "display_data",
          "data": {
            "text/plain": "<Figure size 432x288 with 1 Axes>",
            "image/png": "[encoded data removed]"
          },
          "metadata": {}
        }
      ]
    },
    {
      "metadata": {
        "trusted": true,
        "_uuid": "40e44a0ae1d85db74506772fde1f1b419d71f740"
      },
      "cell_type": "code",
      "source": "a = np.zeros(3*3, dtype=np.uint8)\na[:]=255\na[3:5]=0\nprint(a)\nunique, counts = np.unique(a, return_counts=True)\nprint(unique, counts)\na = a.reshape(-1,3)\nplt.imshow(a, cmap='Greys')",
      "execution_count": 13,
      "outputs": [
        {
          "output_type": "stream",
          "text": "[255 255 255   0   0 255 255 255 255]\n[  0 255] [2 7]\n",
          "name": "stdout"
        },
        {
          "output_type": "execute_result",
          "execution_count": 13,
          "data": {
            "text/plain": "<matplotlib.image.AxesImage at 0x7f3050430780>"
          },
          "metadata": {}
        },
        {
          "output_type": "display_data",
          "data": {
            "text/plain": "<Figure size 432x288 with 1 Axes>",
            "image/png": "[encoded data removed]"
          },
          "metadata": {}
        }
      ]
    },
    {
      "metadata": {
        "_uuid": "15e922edf2563353e04e345f6a019c50a27e4970"
      },
      "cell_type": "markdown",
      "source": "## 1.3 Details of decoding the run-length encoding"
    },
    {
      "metadata": {
        "trusted": true,
        "_uuid": "d266be106c84155b9d726524e580d4b448242ed7"
      },
      "cell_type": "code",
      "source": "img2 = np.zeros(101*101,dtype=np.uint8)\nimg2[14:14+87] = 255 # 14+87=101\nimg2[116:116+86]=111 # 116-101=15, 15+86=101\nimg2[217:217+86]=222 # 217-202=15, 15+86=101\nimg2",
      "execution_count": 14,
      "outputs": [
        {
          "output_type": "execute_result",
          "execution_count": 14,
          "data": {
            "text/plain": "array([0, 0, 0, ..., 0, 0, 0], dtype=uint8)"
          },
          "metadata": {}
        }
      ]
    },
    {
      "metadata": {
        "trusted": true,
        "_uuid": "ed67dce7b9f84b49b2dd1f9dd3513987121ba514"
      },
      "cell_type": "code",
      "source": "img2.reshape(101,101)",
      "execution_count": 15,
      "outputs": [
        {
          "output_type": "execute_result",
          "execution_count": 15,
          "data": {
            "text/plain": "array([[  0,   0,   0, ..., 255, 255, 255],\n       [  0,   0,   0, ..., 111, 111, 111],\n       [  0,   0,   0, ..., 222, 222, 222],\n       ...,\n       [  0,   0,   0, ...,   0,   0,   0],\n       [  0,   0,   0, ...,   0,   0,   0],\n       [  0,   0,   0, ...,   0,   0,   0]], dtype=uint8)"
          },
          "metadata": {}
        }
      ]
    },
    {
      "metadata": {
        "_uuid": "83a71c743301cd70e4997494db1258d9366d7e25"
      },
      "cell_type": "markdown",
      "source": "# 2. salt_proportion invoke  np.unique\n\nif doesn't flip black and white, the proportion will be wrong"
    },
    {
      "metadata": {
        "trusted": true,
        "_uuid": "7c61ec735f9a785ff4622128028c40f72676bab1"
      },
      "cell_type": "code",
      "source": "def salt_proportion(imgArray):\n    try: \n        unique, counts = np.unique(imgArray, return_counts=True)\n        ## The total number of pixels is 101*101 = 10,201\n        return counts[1]/10201.\n    \n    except: \n        return 0.0",
      "execution_count": 16,
      "outputs": []
    },
    {
      "metadata": {
        "trusted": true,
        "_uuid": "10fb519a396df24542f89e95a122f98787ed3f4e"
      },
      "cell_type": "code",
      "source": "print(img.shape)\nimg",
      "execution_count": 17,
      "outputs": [
        {
          "output_type": "stream",
          "text": "(101, 101)\n",
          "name": "stdout"
        },
        {
          "output_type": "execute_result",
          "execution_count": 17,
          "data": {
            "text/plain": "array([[  0,   0,   0, ..., 255, 255, 255],\n       [  0,   0,   0, ..., 255, 255, 255],\n       [  0,   0,   0, ..., 255, 255, 255],\n       ...,\n       [255, 255, 255, ..., 255, 255, 255],\n       [255, 255, 255, ..., 255, 255, 255],\n       [255, 255, 255, ..., 255, 255, 255]], dtype=uint8)"
          },
          "metadata": {}
        }
      ]
    },
    {
      "metadata": {
        "trusted": true,
        "_uuid": "8000be2e38cd6ce7635ed04916e7cd6206c2cc08"
      },
      "cell_type": "code",
      "source": "print(img1.shape)\nimg1",
      "execution_count": 18,
      "outputs": [
        {
          "output_type": "stream",
          "text": "(101, 101)\n",
          "name": "stdout"
        },
        {
          "output_type": "execute_result",
          "execution_count": 18,
          "data": {
            "text/plain": "array([[255, 255, 255, ...,   0,   0,   0],\n       [255, 255, 255, ...,   0,   0,   0],\n       [255, 255, 255, ...,   0,   0,   0],\n       ...,\n       [  0,   0,   0, ...,   0,   0,   0],\n       [  0,   0,   0, ...,   0,   0,   0],\n       [  0,   0,   0, ...,   0,   0,   0]], dtype=uint8)"
          },
          "metadata": {}
        }
      ]
    },
    {
      "metadata": {
        "trusted": true,
        "_uuid": "6c4c0835e9f288d7e2a0a798073b9a4054d5e44e"
      },
      "cell_type": "code",
      "source": "salt_proportion(img)",
      "execution_count": 19,
      "outputs": [
        {
          "output_type": "execute_result",
          "execution_count": 19,
          "data": {
            "text/plain": "0.9276541515537693"
          },
          "metadata": {}
        }
      ]
    },
    {
      "metadata": {
        "trusted": true,
        "_uuid": "20266d2769e62cb00195c9d933f53bae36df787b"
      },
      "cell_type": "code",
      "source": "unique, counts = np.unique(img, return_counts=True)\nprint(unique, counts)",
      "execution_count": 20,
      "outputs": [
        {
          "output_type": "stream",
          "text": "[  0 255] [ 738 9463]\n",
          "name": "stdout"
        }
      ]
    },
    {
      "metadata": {
        "trusted": true,
        "_uuid": "987ef22b1563be7452d6ffa1e9950a00c98733f1"
      },
      "cell_type": "code",
      "source": "counts[1]/(101*101)",
      "execution_count": 21,
      "outputs": [
        {
          "output_type": "execute_result",
          "execution_count": 21,
          "data": {
            "text/plain": "0.9276541515537693"
          },
          "metadata": {}
        }
      ]
    },
    {
      "metadata": {
        "trusted": true,
        "_uuid": "420e7055f6e38862e391de87c08639254170a4ac"
      },
      "cell_type": "markdown",
      "source": "## 2.1 Run by function"
    },
    {
      "metadata": {
        "trusted": true,
        "_uuid": "7dc0c854178bfbd6c6a5a6c4e5e5cca7a91a9d63"
      },
      "cell_type": "code",
      "source": "rle2 = train_mask_df[train_mask_df['id']=='4875705fb0']['rle_mask']\nprint(type(rle2))\nrle2",
      "execution_count": 22,
      "outputs": [
        {
          "output_type": "stream",
          "text": "<class 'pandas.core.series.Series'>\n",
          "name": "stdout"
        },
        {
          "output_type": "execute_result",
          "execution_count": 22,
          "data": {
            "text/plain": "4    1111 1 1212 1 1313 1 1414 1 1514 2 1615 2 1716...\nName: rle_mask, dtype: object"
          },
          "metadata": {}
        }
      ]
    },
    {
      "metadata": {
        "trusted": true,
        "_uuid": "b37461aabe97f597278cc56c9207fa78ff45b057"
      },
      "cell_type": "code",
      "source": "mask_img = rle2.apply(lambda x:rleToMask(x, 101, 101))\nprint(mask_img)\nmask_img.apply(lambda x:salt_proportion(x))",
      "execution_count": 23,
      "outputs": [
        {
          "output_type": "stream",
          "text": "4    [[0, 0, 0, 0, 0, 0, 0, 0, 0, 0, 0, 0, 0, 0, 0,...\nName: rle_mask, dtype: object\n",
          "name": "stdout"
        },
        {
          "output_type": "execute_result",
          "execution_count": 23,
          "data": {
            "text/plain": "4    0.042839\nName: rle_mask, dtype: float64"
          },
          "metadata": {}
        }
      ]
    },
    {
      "metadata": {
        "_uuid": "a0f6fe450efffdc89f98e5358b8c67ff5e0ca3e2"
      },
      "cell_type": "markdown",
      "source": "## 2.2 Step by step\n\n### 2.2.1 Pandas.Series.apply(lambda x: )"
    },
    {
      "metadata": {
        "trusted": true,
        "_uuid": "d77ae56688ce005072bda37b9bfde5b286b2cc9d"
      },
      "cell_type": "code",
      "source": "print(mask_img.shape)\nprint(type(mask_img))",
      "execution_count": 24,
      "outputs": [
        {
          "output_type": "stream",
          "text": "(1,)\n<class 'pandas.core.series.Series'>\n",
          "name": "stdout"
        }
      ]
    },
    {
      "metadata": {
        "trusted": true,
        "_uuid": "d7716f14f6c57c6a3e7cf24d9a551940824f0925"
      },
      "cell_type": "code",
      "source": "salt_proportion(mask_img)",
      "execution_count": 25,
      "outputs": [
        {
          "output_type": "execute_result",
          "execution_count": 25,
          "data": {
            "text/plain": "0.0"
          },
          "metadata": {}
        }
      ]
    },
    {
      "metadata": {
        "_uuid": "b7f3875cdef1c6ffdc9b61a7268a6d5b862462c6"
      },
      "cell_type": "markdown",
      "source": "???????????????"
    },
    {
      "metadata": {
        "trusted": true,
        "_uuid": "2b02df37ee26e3d2737e4ed67914d322abb49d5a"
      },
      "cell_type": "code",
      "source": "mask_img_arr = mask_img.tolist()[0]\nprint(mask_img_arr)\nprint(mask_img_arr.shape)\nprint(type(mask_img_arr))\nsalt_proportion(mask_img_arr)",
      "execution_count": 26,
      "outputs": [
        {
          "output_type": "stream",
          "text": "[[  0   0   0 ...   0   0   0]\n [  0   0   0 ...   0   0   0]\n [  0   0   0 ...   0   0   0]\n ...\n [  0   0   0 ... 255 255 255]\n [  0   0   0 ... 255 255 255]\n [  0   0   0 ... 255 255 255]]\n(101, 101)\n<class 'numpy.ndarray'>\n",
          "name": "stdout"
        },
        {
          "output_type": "execute_result",
          "execution_count": 26,
          "data": {
            "text/plain": "0.042838937359082445"
          },
          "metadata": {}
        }
      ]
    },
    {
      "metadata": {
        "trusted": true,
        "_uuid": "f9594dcaae49674f150795a747bbee34fad19196"
      },
      "cell_type": "code",
      "source": "",
      "execution_count": null,
      "outputs": []
    },
    {
      "metadata": {
        "_uuid": "05822f10c6ea9a6aeb38a0e3f6634e1d6bf1734d"
      },
      "cell_type": "markdown",
      "source": "### 2.2.2 Pass a string to fuction"
    },
    {
      "metadata": {
        "trusted": true,
        "_uuid": "d96651d52b7f045bc0dfcc0a7d364fab0f4816f3"
      },
      "cell_type": "code",
      "source": "rle2.tolist()\nrle2 = ' '.join(rle2)\nrle2",
      "execution_count": 27,
      "outputs": [
        {
          "output_type": "execute_result",
          "execution_count": 27,
          "data": {
            "text/plain": "'1111 1 1212 1 1313 1 1414 1 1514 2 1615 2 1716 2 1817 2 1918 2 2018 3 2119 3 2220 3 2321 3 2422 3 2523 3 2624 3 2725 3 2826 3 2927 3 3028 3 3129 3 3230 3 3331 3 3432 3 3533 3 3636 1 3737 1 3838 1 3938 2 4039 2 4140 2 4240 3 4341 3 4442 3 4542 4 4643 4 4744 4 4844 5 4945 5 5046 5 5146 6 5247 6 5347 7 5448 7 5549 7 5649 8 5750 8 5851 8 5952 8 6053 8 6154 8 6255 8 6355 9 6456 9 6557 9 6659 8 6760 8 6861 8 6962 8 7063 8 7164 8 7265 8 7367 7 7468 7 7569 7 7670 7 7772 6 7873 6 7974 6 8075 6 8177 5 8278 5 8379 5 8480 5 8582 4 8683 4 8784 4 8885 4 8986 4 9087 4 9188 4 9289 4 9389 5 9490 5 9591 5 9692 5 9792 6 9893 6 9993 7 10094 7 10194 8'"
          },
          "metadata": {}
        }
      ]
    },
    {
      "metadata": {
        "trusted": true,
        "_uuid": "f329f610fa650aa8a2c90f8d3e5eb5a11b91555c"
      },
      "cell_type": "code",
      "source": "mask_img = rleToMask(rle2,101,101)\nprint(type(mask_img))\nmask_img",
      "execution_count": 28,
      "outputs": [
        {
          "output_type": "stream",
          "text": "<class 'numpy.ndarray'>\n",
          "name": "stdout"
        },
        {
          "output_type": "execute_result",
          "execution_count": 28,
          "data": {
            "text/plain": "array([[  0,   0,   0, ...,   0,   0,   0],\n       [  0,   0,   0, ...,   0,   0,   0],\n       [  0,   0,   0, ...,   0,   0,   0],\n       ...,\n       [  0,   0,   0, ..., 255, 255, 255],\n       [  0,   0,   0, ..., 255, 255, 255],\n       [  0,   0,   0, ..., 255, 255, 255]], dtype=uint8)"
          },
          "metadata": {}
        }
      ]
    },
    {
      "metadata": {
        "trusted": true,
        "_uuid": "3779f9c79dd846bf7dafb033b4528cfdd6dd7241"
      },
      "cell_type": "code",
      "source": "plt.imshow(mask_img, cmap='Greys')",
      "execution_count": 29,
      "outputs": [
        {
          "output_type": "execute_result",
          "execution_count": 29,
          "data": {
            "text/plain": "<matplotlib.image.AxesImage at 0x7f3050406f28>"
          },
          "metadata": {}
        },
        {
          "output_type": "display_data",
          "data": {
            "text/plain": "<Figure size 432x288 with 1 Axes>",
            "image/png": "[encoded data removed]"
          },
          "metadata": {}
        }
      ]
    },
    {
      "metadata": {
        "trusted": true,
        "_uuid": "3f85236e157a0f8cc5b5f08c76c65b88c1a004df"
      },
      "cell_type": "code",
      "source": "salt_proportion(mask_img)",
      "execution_count": 30,
      "outputs": [
        {
          "output_type": "execute_result",
          "execution_count": 30,
          "data": {
            "text/plain": "0.042838937359082445"
          },
          "metadata": {}
        }
      ]
    },
    {
      "metadata": {
        "trusted": true,
        "_uuid": "bfa83f665be0cbf4b87a39e0955dd01af1c32dcb"
      },
      "cell_type": "code",
      "source": "",
      "execution_count": null,
      "outputs": []
    },
    {
      "metadata": {
        "trusted": true,
        "_uuid": "96a820c720ccfe8b11b440b204a4ec4b47480c4c"
      },
      "cell_type": "code",
      "source": "",
      "execution_count": null,
      "outputs": []
    }
  ],
  "metadata": {
    "kernelspec": {
      "display_name": "Python 3",
      "language": "python",
      "name": "python3"
    },
    "language_info": {
      "name": "python",
      "version": "3.6.6",
      "mimetype": "text/x-python",
      "codemirror_mode": {
        "name": "ipython",
        "version": 3
      },
      "pygments_lexer": "ipython3",
      "nbconvert_exporter": "python",
      "file_extension": ".py"
    }
  },
  "nbformat": 4,
  "nbformat_minor": 1
}