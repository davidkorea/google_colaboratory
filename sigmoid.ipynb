{
  "nbformat": 4,
  "nbformat_minor": 0,
  "metadata": {
    "colab": {
      "name": "sigmoid.ipynb",
      "version": "0.3.2",
      "provenance": [],
      "include_colab_link": true
    },
    "kernelspec": {
      "name": "python3",
      "display_name": "Python 3"
    }
  },
  "cells": [
    {
      "cell_type": "markdown",
      "metadata": {
        "id": "view-in-github",
        "colab_type": "text"
      },
      "source": [
        "<a href=\"https://colab.research.google.com/github/davidkorea/google_colaboratory/blob/master/sigmoid.ipynb\" target=\"_parent\"><img src=\"https://colab.research.google.com/assets/colab-badge.svg\" alt=\"Open In Colab\"/></a>"
      ]
    },
    {
      "metadata": {
        "id": "htKfUbSJX3HJ",
        "colab_type": "code",
        "colab": {}
      },
      "cell_type": "code",
      "source": [
        "import numpy as np"
      ],
      "execution_count": 0,
      "outputs": []
    },
    {
      "metadata": {
        "id": "N_Y1AHRoX-Wz",
        "colab_type": "code",
        "colab": {}
      },
      "cell_type": "code",
      "source": [
        "def sigmoid(x):\n",
        "  return 1 / (1 + np.exp(-x))"
      ],
      "execution_count": 0,
      "outputs": []
    },
    {
      "metadata": {
        "id": "c27uXhVAYMRb",
        "colab_type": "code",
        "colab": {
          "base_uri": "https://localhost:8080/",
          "height": 35
        },
        "outputId": "a609e0a6-4914-4e2c-bb31-b95ac699ab84"
      },
      "cell_type": "code",
      "source": [
        "sigmoid(np.array([0,1]))"
      ],
      "execution_count": 3,
      "outputs": [
        {
          "output_type": "execute_result",
          "data": {
            "text/plain": [
              "array([0.5       , 0.73105858])"
            ]
          },
          "metadata": {
            "tags": []
          },
          "execution_count": 3
        }
      ]
    },
    {
      "metadata": {
        "id": "a_WO0EHDYTrV",
        "colab_type": "code",
        "colab": {}
      },
      "cell_type": "code",
      "source": [
        "def sigmoid_grad(x):\n",
        "  \n",
        "  return sigmoid(x)*(1-sigmoid(x))"
      ],
      "execution_count": 0,
      "outputs": []
    },
    {
      "metadata": {
        "id": "-RabRK1KYbEl",
        "colab_type": "code",
        "colab": {
          "base_uri": "https://localhost:8080/",
          "height": 35
        },
        "outputId": "cb5bd55c-dd74-4c6a-bd5e-1e7d5a4bc7e7"
      },
      "cell_type": "code",
      "source": [
        "sigmoid_grad(np.array([0,1]))"
      ],
      "execution_count": 8,
      "outputs": [
        {
          "output_type": "execute_result",
          "data": {
            "text/plain": [
              "array([0.25      , 0.19661193])"
            ]
          },
          "metadata": {
            "tags": []
          },
          "execution_count": 8
        }
      ]
    },
    {
      "metadata": {
        "id": "4acgLhIhYtvc",
        "colab_type": "code",
        "colab": {}
      },
      "cell_type": "code",
      "source": [
        "\n",
        "import numpy as np\n",
        "\n",
        "\n",
        "def sigmoid(x):\n",
        "    \"\"\"\n",
        "    Compute the sigmoid function for the input here.\n",
        "\n",
        "    Arguments:\n",
        "    x -- A scalar or numpy array.\n",
        "\n",
        "    Return:\n",
        "    s -- sigmoid(x)\n",
        "    \"\"\"\n",
        "\n",
        "    s = 1 / (1 + np.exp(-x))\n",
        "    return s\n",
        "\n",
        "\n",
        "def sigmoid_grad(s):\n",
        "    \"\"\"\n",
        "    Compute the gradient for the sigmoid function here. Note that\n",
        "    for this implementation, the input s should be the sigmoid\n",
        "    function value of your original input x.\n",
        "\n",
        "    Arguments:\n",
        "    s -- A scalar or numpy array.\n",
        "\n",
        "    Return:\n",
        "    ds -- Your computed gradient.\n",
        "    \"\"\"\n",
        "\n",
        "    ds = s*(1-s)\n",
        "\n",
        "    return ds\n",
        "\n",
        "\n",
        "def test_sigmoid_basic():\n",
        "    \"\"\"\n",
        "    Some simple tests to get you started.\n",
        "    Warning: these are not exhaustive.\n",
        "    \"\"\"\n",
        "    print( \"Running basic tests...\")\n",
        "    x = np.array([[1, 2], [-1, -2]])\n",
        "    f = sigmoid(x)\n",
        "    g = sigmoid_grad(f)\n",
        "    print( f)\n",
        "    f_ans = np.array([\n",
        "        [0.73105858, 0.88079708],\n",
        "        [0.26894142, 0.11920292]])\n",
        "    assert np.allclose(f, f_ans, rtol=1e-05, atol=1e-06)\n",
        "    print( g)\n",
        "    g_ans = np.array([\n",
        "        [0.19661193, 0.10499359],\n",
        "        [0.19661193, 0.10499359]])\n",
        "    assert np.allclose(g, g_ans, rtol=1e-05, atol=1e-06)\n",
        "    print( \"You should verify these results by hand!\\n\")\n",
        "\n",
        "\n",
        "def test_sigmoid():\n",
        "    \"\"\"\n",
        "    Use this space to test your sigmoid implementation by running:\n",
        "        python q2_sigmoid.py\n",
        "    This function will not be called by the autograder, nor will\n",
        "    your tests be graded.\n",
        "    \"\"\"\n",
        "#     print \"Running your tests...\"\n",
        "#     ### YOUR CODE HERE\n",
        "#     raise NotImplementedError\n",
        "#     ### END YOUR CODE\n",
        "\n",
        "\n",
        "# if __name__ == \"__main__\":\n",
        "#     test_sigmoid_basic();\n",
        "#     test_sigmoid()\n"
      ],
      "execution_count": 0,
      "outputs": []
    },
    {
      "metadata": {
        "id": "qie9bsh6ZJDd",
        "colab_type": "code",
        "colab": {
          "base_uri": "https://localhost:8080/",
          "height": 143
        },
        "outputId": "da075442-0ea4-4d59-c5d0-035332aae01a"
      },
      "cell_type": "code",
      "source": [
        "test_sigmoid_basic()"
      ],
      "execution_count": 19,
      "outputs": [
        {
          "output_type": "stream",
          "text": [
            "Running basic tests...\n",
            "[[0.73105858 0.88079708]\n",
            " [0.26894142 0.11920292]]\n",
            "[[0.19661193 0.10499359]\n",
            " [0.19661193 0.10499359]]\n",
            "You should verify these results by hand!\n",
            "\n"
          ],
          "name": "stdout"
        }
      ]
    },
    {
      "metadata": {
        "id": "aYyWR_U4ZJ-F",
        "colab_type": "code",
        "colab": {}
      },
      "cell_type": "code",
      "source": [
        ""
      ],
      "execution_count": 0,
      "outputs": []
    }
  ]
}