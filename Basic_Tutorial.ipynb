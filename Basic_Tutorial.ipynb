{
  "nbformat": 4,
  "nbformat_minor": 0,
  "metadata": {
    "colab": {
      "name": "Basic_Tutorial.ipynb",
      "version": "0.3.2",
      "provenance": [],
      "collapsed_sections": [],
      "include_colab_link": true
    },
    "kernelspec": {
      "name": "python3",
      "display_name": "Python 3"
    }
  },
  "cells": [
    {
      "cell_type": "markdown",
      "metadata": {
        "id": "view-in-github",
        "colab_type": "text"
      },
      "source": [
        "[View in Colaboratory](https://colab.research.google.com/github/davidkorea/google_colaboratory/blob/master/Basic_Tutorial.ipynb)"
      ]
    },
    {
      "metadata": {
        "id": "zk6h-JG_d4kg",
        "colab_type": "text"
      },
      "cell_type": "markdown",
      "source": [
        "# 1. Auth Google Drive READ & WRITE"
      ]
    },
    {
      "metadata": {
        "id": "oZd4ULL37wh2",
        "colab_type": "text"
      },
      "cell_type": "markdown",
      "source": [
        "## 1.1 Authentication"
      ]
    },
    {
      "metadata": {
        "id": "WyRPdXLod9z4",
        "colab_type": "code",
        "colab": {}
      },
      "cell_type": "code",
      "source": [
        "# 安装 PyDrive 操作库，该操作每个 notebook 只需要执行一次\n",
        "!pip install -U -q PyDrive\n",
        "from pydrive.auth import GoogleAuth\n",
        "from pydrive.drive import GoogleDrive\n",
        "from google.colab import auth\n",
        "from oauth2client.client import GoogleCredentials"
      ],
      "execution_count": 0,
      "outputs": []
    },
    {
      "metadata": {
        "id": "bPYsDSh-eJwD",
        "colab_type": "code",
        "colab": {}
      },
      "cell_type": "code",
      "source": [
        "# 授权登录，仅第一次的时候会鉴权\n",
        "auth.authenticate_user()\n",
        "gauth = GoogleAuth()\n",
        "gauth.credentials = GoogleCredentials.get_application_default()\n",
        "drive = GoogleDrive(gauth)"
      ],
      "execution_count": 0,
      "outputs": []
    },
    {
      "metadata": {
        "id": "_eeCfYPheO2b",
        "colab_type": "code",
        "colab": {
          "base_uri": "https://localhost:8080/",
          "height": 35
        },
        "outputId": "e21c7251-91fd-4281-85f8-a64c452555f2"
      },
      "cell_type": "code",
      "source": [
        "!ls"
      ],
      "execution_count": 23,
      "outputs": [
        {
          "output_type": "stream",
          "text": [
            "adc.json  my_folder  sample_data  test.txt\n"
          ],
          "name": "stdout"
        }
      ]
    },
    {
      "metadata": {
        "id": "SfQNFW6276d2",
        "colab_type": "text"
      },
      "cell_type": "markdown",
      "source": [
        "## 1.2 list dir"
      ]
    },
    {
      "metadata": {
        "id": "6zWiAVVvfoLK",
        "colab_type": "code",
        "colab": {}
      },
      "cell_type": "code",
      "source": [
        "file_list = drive.ListFile({'q': \"'root' in parents and trashed=false\"}).GetList()"
      ],
      "execution_count": 0,
      "outputs": []
    },
    {
      "metadata": {
        "id": "UTrZw5JtfpAM",
        "colab_type": "code",
        "colab": {
          "base_uri": "https://localhost:8080/",
          "height": 175
        },
        "outputId": "23940517-d84b-48cc-ad60-5e34c3a86ec8"
      },
      "cell_type": "code",
      "source": [
        "for file in file_list:\n",
        "  print(file)\n",
        "  print('\\n title: %s,\\n id: %s,\\n mimeType: %s \\n' % (file['title'], file['id'], file[\"mimeType\"]))\n",
        "  print('\\n=======================')"
      ],
      "execution_count": 41,
      "outputs": [
        {
          "output_type": "stream",
          "text": [
            "GoogleDriveFile({'kind': 'drive#file', 'id': '14QCJhuHbsSXs4IfFfeNQaJhuVT0R1-2p', 'etag': '\"v8V6DvTBE_bfiGlEO9jLLdDEcEE/MTUzNjU0ODMxMDI3MA\"', 'selfLink': 'https://www.googleapis.com/drive/v2/files/14QCJhuHbsSXs4IfFfeNQaJhuVT0R1-2p', 'alternateLink': 'https://drive.google.com/drive/folders/14QCJhuHbsSXs4IfFfeNQaJhuVT0R1-2p', 'embedLink': 'https://drive.google.com/embeddedfolderview?id=14QCJhuHbsSXs4IfFfeNQaJhuVT0R1-2p', 'iconLink': 'https://drive-thirdparty.googleusercontent.com/16/type/application/vnd.google-apps.folder+31', 'title': 'Colab Notebooks', 'mimeType': 'application/vnd.google-apps.folder', 'labels': {'starred': False, 'hidden': False, 'trashed': False, 'restricted': False, 'viewed': True}, 'copyRequiresWriterPermission': False, 'createdDate': '2018-09-10T02:58:30.270Z', 'modifiedDate': '2018-09-10T02:58:30.270Z', 'modifiedByMeDate': '2018-09-10T02:58:30.270Z', 'lastViewedByMeDate': '2018-09-10T05:23:05.642Z', 'markedViewedByMeDate': '1970-01-01T00:00:00.000Z', 'version': '4', 'parents': [{'kind': 'drive#parentReference', 'id': '0ACbZTjg0nPmRUk9PVA', 'selfLink': 'https://www.googleapis.com/drive/v2/files/14QCJhuHbsSXs4IfFfeNQaJhuVT0R1-2p/parents/0ACbZTjg0nPmRUk9PVA', 'parentLink': 'https://www.googleapis.com/drive/v2/files/0ACbZTjg0nPmRUk9PVA', 'isRoot': True}], 'userPermission': {'kind': 'drive#permission', 'etag': '\"v8V6DvTBE_bfiGlEO9jLLdDEcEE/aKTlyUsqpYwEqh36Uz5RHV4N_i8\"', 'id': 'me', 'selfLink': 'https://www.googleapis.com/drive/v2/files/14QCJhuHbsSXs4IfFfeNQaJhuVT0R1-2p/permissions/me', 'role': 'owner', 'type': 'user'}, 'quotaBytesUsed': '0', 'ownerNames': ['David L'], 'owners': [{'kind': 'drive#user', 'displayName': 'David L', 'isAuthenticatedUser': True, 'permissionId': '07265660990671741313', 'emailAddress': 'davidkorea.ly@gmail.com'}], 'lastModifyingUserName': 'David L', 'lastModifyingUser': {'kind': 'drive#user', 'displayName': 'David L', 'isAuthenticatedUser': True, 'permissionId': '07265660990671741313', 'emailAddress': 'davidkorea.ly@gmail.com'}, 'capabilities': {'canCopy': False, 'canEdit': True}, 'editable': True, 'copyable': False, 'writersCanShare': True, 'shared': False, 'explicitlyTrashed': False, 'appDataContents': False, 'spaces': ['drive']})\n",
            "\n",
            " title: Colab Notebooks,\n",
            " id: 14QCJhuHbsSXs4IfFfeNQaJhuVT0R1-2p,\n",
            " mimeType: application/vnd.google-apps.folder \n",
            "\n",
            "\n",
            "=======================\n"
          ],
          "name": "stdout"
        }
      ]
    },
    {
      "metadata": {
        "id": "BVPgAPAuHyX3",
        "colab_type": "text"
      },
      "cell_type": "markdown",
      "source": [
        "## 1.3 Write\n",
        "\n",
        "Note that CreateFile() will create GoogleDriveFile instance but not actually upload a file to Google Drive. You can initialize GoogleDriveFile object by itself. However, it is not recommended to do so in order to keep authentication consistent."
      ]
    },
    {
      "metadata": {
        "id": "UEHI1Ko5H0PT",
        "colab_type": "code",
        "colab": {
          "base_uri": "https://localhost:8080/",
          "height": 35
        },
        "outputId": "b32a862a-92f5-4d9e-8fe3-a740d4c3eda2"
      },
      "cell_type": "code",
      "source": [
        "# 创建一个文本文件\n",
        "file1 = drive.CreateFile({'title': 'example.txt'})\n",
        "file1.SetContentString('content of test txt file. 测试文档内容。')\n",
        "file1.Upload()\n",
        "print('Created file id：{}'.format(file1.get('id')))"
      ],
      "execution_count": 46,
      "outputs": [
        {
          "output_type": "stream",
          "text": [
            "Created file id：14B10AIk1rqa0pMk44zf0O9ITvnx5Q2p9\n"
          ],
          "name": "stdout"
        }
      ]
    },
    {
      "metadata": {
        "id": "iNakszjgNrSi",
        "colab_type": "text"
      },
      "cell_type": "markdown",
      "source": [
        "## 1.4 Read"
      ]
    },
    {
      "metadata": {
        "id": "XsRV48-NJ_uS",
        "colab_type": "code",
        "colab": {
          "base_uri": "https://localhost:8080/",
          "height": 35
        },
        "outputId": "33ad06ad-e844-44d6-df1d-425a0c6afac3"
      },
      "cell_type": "code",
      "source": [
        "file2 = drive.CreateFile({'id': '14B10AIk1rqa0pMk44zf0O9ITvnx5Q2p9'}) \n",
        "# file2 = drive.CreateFile({'title': 'exanple.txt}) # search file by 'id' ONLY\n",
        "file2.GetContentString()"
      ],
      "execution_count": 61,
      "outputs": [
        {
          "output_type": "execute_result",
          "data": {
            "text/plain": [
              "'content of test txt file. 测试文档内容。'"
            ]
          },
          "metadata": {
            "tags": []
          },
          "execution_count": 61
        }
      ]
    },
    {
      "metadata": {
        "id": "5OqltYcCNxM4",
        "colab_type": "code",
        "colab": {
          "base_uri": "https://localhost:8080/",
          "height": 83
        },
        "outputId": "5ce5977e-b4ab-4077-d59b-9cd799f2296f"
      },
      "cell_type": "code",
      "source": [
        "file3 = drive.CreateFile({'id': '14B10AIk1rqa0pMk44zf0O9ITvnx5Q2p9'}) \n",
        "file3.GetContentFile('example.txt', 'text/plain') # if read csv: file.GetContentFile('iris.csv', \"text/csv\") \n",
        "\n",
        "with open('example.txt') as f:\n",
        "  print(f)\n",
        "  print(f.readlines())\n",
        "  \n",
        "import pandas as pd\n",
        "data = pd.read_csv('example.txt')\n",
        "data.head()"
      ],
      "execution_count": 66,
      "outputs": [
        {
          "output_type": "stream",
          "text": [
            "<_io.TextIOWrapper name='example.txt' mode='r' encoding='UTF-8'>\n",
            "['content of test txt file. 测试文档内容。']\n"
          ],
          "name": "stdout"
        },
        {
          "output_type": "execute_result",
          "data": {
            "text/html": [
              "<div>\n",
              "<style scoped>\n",
              "    .dataframe tbody tr th:only-of-type {\n",
              "        vertical-align: middle;\n",
              "    }\n",
              "\n",
              "    .dataframe tbody tr th {\n",
              "        vertical-align: top;\n",
              "    }\n",
              "\n",
              "    .dataframe thead th {\n",
              "        text-align: right;\n",
              "    }\n",
              "</style>\n",
              "<table border=\"1\" class=\"dataframe\">\n",
              "  <thead>\n",
              "    <tr style=\"text-align: right;\">\n",
              "      <th></th>\n",
              "      <th>content of test txt file. 测试文档内容。</th>\n",
              "    </tr>\n",
              "  </thead>\n",
              "  <tbody>\n",
              "  </tbody>\n",
              "</table>\n",
              "</div>"
            ],
            "text/plain": [
              "Empty DataFrame\n",
              "Columns: [content of test txt file. 测试文档内容。]\n",
              "Index: []"
            ]
          },
          "metadata": {
            "tags": []
          },
          "execution_count": 66
        }
      ]
    },
    {
      "metadata": {
        "id": "no69OiNfT6kX",
        "colab_type": "code",
        "colab": {}
      },
      "cell_type": "code",
      "source": [
        ""
      ],
      "execution_count": 0,
      "outputs": []
    }
  ]
}