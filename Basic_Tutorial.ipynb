{
  "nbformat": 4,
  "nbformat_minor": 0,
  "metadata": {
    "colab": {
      "name": "Basic_Tutorial.ipynb",
      "version": "0.3.2",
      "provenance": [],
      "collapsed_sections": [],
      "include_colab_link": true
    },
    "kernelspec": {
      "name": "python3",
      "display_name": "Python 3"
    }
  },
  "cells": [
    {
      "cell_type": "markdown",
      "metadata": {
        "id": "view-in-github",
        "colab_type": "text"
      },
      "source": [
        "[View in Colaboratory](https://colab.research.google.com/github/davidkorea/google_colaboratory/blob/master/Basic_Tutorial.ipynb)"
      ]
    },
    {
      "metadata": {
        "id": "zk6h-JG_d4kg",
        "colab_type": "text"
      },
      "cell_type": "markdown",
      "source": [
        "# 1. Auth Google Drive READ & WRITE"
      ]
    },
    {
      "metadata": {
        "id": "WyRPdXLod9z4",
        "colab_type": "code",
        "colab": {}
      },
      "cell_type": "code",
      "source": [
        "# 安装 PyDrive 操作库，该操作每个 notebook 只需要执行一次\n",
        "!pip install -U -q PyDrive\n",
        "from pydrive.auth import GoogleAuth\n",
        "from pydrive.drive import GoogleDrive\n",
        "from google.colab import auth\n",
        "from oauth2client.client import GoogleCredentials"
      ],
      "execution_count": 0,
      "outputs": []
    },
    {
      "metadata": {
        "id": "bPYsDSh-eJwD",
        "colab_type": "code",
        "colab": {}
      },
      "cell_type": "code",
      "source": [
        "# 授权登录，仅第一次的时候会鉴权\n",
        "auth.authenticate_user()\n",
        "gauth = GoogleAuth()\n",
        "gauth.credentials = GoogleCredentials.get_application_default()\n",
        "drive = GoogleDrive(gauth)"
      ],
      "execution_count": 0,
      "outputs": []
    },
    {
      "metadata": {
        "id": "_eeCfYPheO2b",
        "colab_type": "code",
        "colab": {
          "base_uri": "https://localhost:8080/",
          "height": 35
        },
        "outputId": "e21c7251-91fd-4281-85f8-a64c452555f2"
      },
      "cell_type": "code",
      "source": [
        "!ls"
      ],
      "execution_count": 23,
      "outputs": [
        {
          "output_type": "stream",
          "text": [
            "adc.json  my_folder  sample_data  test.txt\n"
          ],
          "name": "stdout"
        }
      ]
    },
    {
      "metadata": {
        "id": "6zWiAVVvfoLK",
        "colab_type": "code",
        "colab": {}
      },
      "cell_type": "code",
      "source": [
        "file_list = drive.ListFile({'q': \"'root' in parents and trashed=false\"}).GetList()"
      ],
      "execution_count": 0,
      "outputs": []
    },
    {
      "metadata": {
        "id": "UTrZw5JtfpAM",
        "colab_type": "code",
        "colab": {
          "base_uri": "https://localhost:8080/",
          "height": 314
        },
        "outputId": "054c1565-05e7-409b-d3b9-837cc1d46a2d"
      },
      "cell_type": "code",
      "source": [
        "for file in file_list:\n",
        "  print(file)\n",
        "  print('\\n title: %s,\\n id: %s,\\n mimeType: %s \\n' % (file['title'], file['id'], file[\"mimeType\"]))\n",
        "  print('\\n=======================')"
      ],
      "execution_count": 31,
      "outputs": [
        {
          "output_type": "stream",
          "text": [
            "GoogleDriveFile({'kind': 'drive#file', 'id': '14QCJhuHbsSXs4IfFfeNQaJhuVT0R1-2p', 'etag': '\"v8V6DvTBE_bfiGlEO9jLLdDEcEE/MTUzNjU0ODMxMDI3MA\"', 'selfLink': 'https://www.googleapis.com/drive/v2/files/14QCJhuHbsSXs4IfFfeNQaJhuVT0R1-2p', 'alternateLink': 'https://drive.google.com/drive/folders/14QCJhuHbsSXs4IfFfeNQaJhuVT0R1-2p', 'embedLink': 'https://drive.google.com/embeddedfolderview?id=14QCJhuHbsSXs4IfFfeNQaJhuVT0R1-2p', 'iconLink': 'https://drive-thirdparty.googleusercontent.com/16/type/application/vnd.google-apps.folder+31', 'title': 'Colab Notebooks', 'mimeType': 'application/vnd.google-apps.folder', 'labels': {'starred': False, 'hidden': False, 'trashed': False, 'restricted': False, 'viewed': True}, 'copyRequiresWriterPermission': False, 'createdDate': '2018-09-10T02:58:30.270Z', 'modifiedDate': '2018-09-10T02:58:30.270Z', 'modifiedByMeDate': '2018-09-10T02:58:30.270Z', 'lastViewedByMeDate': '2018-09-10T02:58:30.270Z', 'markedViewedByMeDate': '1970-01-01T00:00:00.000Z', 'version': '1', 'parents': [{'kind': 'drive#parentReference', 'id': '0ACbZTjg0nPmRUk9PVA', 'selfLink': 'https://www.googleapis.com/drive/v2/files/14QCJhuHbsSXs4IfFfeNQaJhuVT0R1-2p/parents/0ACbZTjg0nPmRUk9PVA', 'parentLink': 'https://www.googleapis.com/drive/v2/files/0ACbZTjg0nPmRUk9PVA', 'isRoot': True}], 'userPermission': {'kind': 'drive#permission', 'etag': '\"v8V6DvTBE_bfiGlEO9jLLdDEcEE/aKTlyUsqpYwEqh36Uz5RHV4N_i8\"', 'id': 'me', 'selfLink': 'https://www.googleapis.com/drive/v2/files/14QCJhuHbsSXs4IfFfeNQaJhuVT0R1-2p/permissions/me', 'role': 'owner', 'type': 'user'}, 'quotaBytesUsed': '0', 'ownerNames': ['David L'], 'owners': [{'kind': 'drive#user', 'displayName': 'David L', 'isAuthenticatedUser': True, 'permissionId': '07265660990671741313', 'emailAddress': 'davidkorea.ly@gmail.com'}], 'lastModifyingUserName': 'David L', 'lastModifyingUser': {'kind': 'drive#user', 'displayName': 'David L', 'isAuthenticatedUser': True, 'permissionId': '07265660990671741313', 'emailAddress': 'davidkorea.ly@gmail.com'}, 'capabilities': {'canCopy': False, 'canEdit': True}, 'editable': True, 'copyable': False, 'writersCanShare': True, 'shared': False, 'explicitlyTrashed': False, 'appDataContents': False, 'spaces': ['drive']})\n",
            "\n",
            " title: Colab Notebooks,\n",
            " id: 14QCJhuHbsSXs4IfFfeNQaJhuVT0R1-2p,\n",
            " mimeType: application/vnd.google-apps.folder \n",
            "\n",
            "\n",
            "=======================\n",
            "GoogleDriveFile({'kind': 'drive#file', 'id': '1MnCZINqlQlQakpD9Rh3f0ezL6DNE6rCy', 'etag': '\"v8V6DvTBE_bfiGlEO9jLLdDEcEE/MTUzNjU0ODIwODc4OQ\"', 'selfLink': 'https://www.googleapis.com/drive/v2/files/1MnCZINqlQlQakpD9Rh3f0ezL6DNE6rCy', 'webContentLink': 'https://drive.google.com/uc?id=1MnCZINqlQlQakpD9Rh3f0ezL6DNE6rCy&export=download', 'alternateLink': 'https://drive.google.com/file/d/1MnCZINqlQlQakpD9Rh3f0ezL6DNE6rCy/view?usp=drivesdk', 'embedLink': 'https://drive.google.com/file/d/1MnCZINqlQlQakpD9Rh3f0ezL6DNE6rCy/preview?usp=drivesdk', 'iconLink': 'https://drive-thirdparty.googleusercontent.com/16/type/application/vnd.google.colaboratory', 'title': 'first_colab.ipynb', 'mimeType': 'application/vnd.google.colaboratory', 'description': 'Colaboratory notebook', 'labels': {'starred': False, 'hidden': False, 'trashed': False, 'restricted': False, 'viewed': True}, 'copyRequiresWriterPermission': False, 'createdDate': '2018-09-10T02:17:34.478Z', 'modifiedDate': '2018-09-10T02:56:48.789Z', 'modifiedByMeDate': '2018-09-10T03:05:48.115Z', 'lastViewedByMeDate': '2018-09-10T03:05:48.116Z', 'markedViewedByMeDate': '1970-01-01T00:00:00.000Z', 'version': '274', 'parents': [{'kind': 'drive#parentReference', 'id': '0ACbZTjg0nPmRUk9PVA', 'selfLink': 'https://www.googleapis.com/drive/v2/files/1MnCZINqlQlQakpD9Rh3f0ezL6DNE6rCy/parents/0ACbZTjg0nPmRUk9PVA', 'parentLink': 'https://www.googleapis.com/drive/v2/files/0ACbZTjg0nPmRUk9PVA', 'isRoot': True}], 'downloadUrl': 'https://doc-0o-7c-docs.googleusercontent.com/docs/securesc/urcg4df6cfgbiimf8lim0681vb1md76g/a1sm9ukm46m64g2pk617er3a3pj74h1o/1536544800000/07265660990671741313/07265660990671741313/1MnCZINqlQlQakpD9Rh3f0ezL6DNE6rCy?e=download&gd=true', 'userPermission': {'kind': 'drive#permission', 'etag': '\"v8V6DvTBE_bfiGlEO9jLLdDEcEE/vYpo30aVrI2DGZSDBUy80H4OQjA\"', 'id': 'me', 'selfLink': 'https://www.googleapis.com/drive/v2/files/1MnCZINqlQlQakpD9Rh3f0ezL6DNE6rCy/permissions/me', 'role': 'owner', 'type': 'user'}, 'originalFilename': 'first_colab.ipynb', 'fileExtension': 'ipynb', 'md5Checksum': '6104097cb64a45426066a8a9886ef2ce', 'fileSize': '21926', 'quotaBytesUsed': '21926', 'ownerNames': ['David L'], 'owners': [{'kind': 'drive#user', 'displayName': 'David L', 'isAuthenticatedUser': True, 'permissionId': '07265660990671741313', 'emailAddress': 'davidkorea.ly@gmail.com'}], 'lastModifyingUserName': 'David L', 'lastModifyingUser': {'kind': 'drive#user', 'displayName': 'David L', 'isAuthenticatedUser': True, 'permissionId': '07265660990671741313', 'emailAddress': 'davidkorea.ly@gmail.com'}, 'capabilities': {'canCopy': True, 'canEdit': True}, 'editable': True, 'copyable': True, 'writersCanShare': True, 'shared': False, 'explicitlyTrashed': False, 'appDataContents': False, 'headRevisionId': '0BybZTjg0nPmRT0hPRzhFem5BUGNRaWdTSStBZXhmL0FBZC9BPQ', 'properties': [{'kind': 'drive#property', 'etag': '\"v8V6DvTBE_bfiGlEO9jLLdDEcEE/p9fYMoOm7-ecaYt3YiPAMCmHaeY\"', 'key': 'revisionCounter', 'visibility': 'PUBLIC', 'value': '973'}], 'spaces': ['drive']})\n",
            "\n",
            " title: first_colab.ipynb,\n",
            " id: 1MnCZINqlQlQakpD9Rh3f0ezL6DNE6rCy,\n",
            " mimeType: application/vnd.google.colaboratory \n",
            "\n",
            "\n",
            "=======================\n"
          ],
          "name": "stdout"
        }
      ]
    },
    {
      "metadata": {
        "id": "VpGsZZN2ft83",
        "colab_type": "code",
        "colab": {}
      },
      "cell_type": "code",
      "source": [
        ""
      ],
      "execution_count": 0,
      "outputs": []
    }
  ]
}